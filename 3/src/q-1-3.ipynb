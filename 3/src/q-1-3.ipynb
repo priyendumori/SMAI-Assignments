{
 "cells": [
  {
   "cell_type": "code",
   "execution_count": 1,
   "metadata": {},
   "outputs": [],
   "source": [
    "import pandas as pd\n",
    "import numpy as np\n",
    "import random as rd\n",
    "from sklearn.preprocessing import StandardScaler\n",
    "from sklearn.decomposition import PCA\n",
    "from sklearn.mixture import GaussianMixture\n",
    "import math"
   ]
  },
  {
   "cell_type": "code",
   "execution_count": 2,
   "metadata": {},
   "outputs": [],
   "source": [
    "df = pd.read_csv(\"../input_data/intrusion_detection/data.csv\")\n",
    "Y = df.xAttack\n",
    "X = df.drop(['xAttack'],axis=1)\n",
    "X = (X - X.mean())/X.std()"
   ]
  },
  {
   "cell_type": "code",
   "execution_count": 3,
   "metadata": {},
   "outputs": [],
   "source": [
    "cov_x = np.cov(X.T)\n",
    "\n",
    "U,S,V = np.linalg.svd(cov_x)\n",
    "S_total = float(np.sum(S))\n",
    "\n",
    "sum_i = 0\n",
    "num_of_comp = 0\n",
    "for i in xrange(len(S)):\n",
    "    sum_i += S[i]\n",
    "    if sum_i  / S_total  >= 0.90:\n",
    "        num_of_comp = i+1\n",
    "        break\n",
    "\n",
    "U_red = U[:,:num_of_comp]\n",
    "X=np.array(X)\n",
    "Z = np.matmul(U_red.T, X.T)\n",
    "Z = Z.T\n",
    "Z_new = pd.DataFrame( Z,columns=[ \"pc\"+str(i) for i in xrange(Z.shape[1]) ] )"
   ]
  },
  {
   "cell_type": "code",
   "execution_count": null,
   "metadata": {},
   "outputs": [],
   "source": []
  },
  {
   "cell_type": "code",
   "execution_count": 4,
   "metadata": {},
   "outputs": [],
   "source": [
    "gmm = GaussianMixture(n_components=5, n_init=10 )\n",
    "gmm.fit(Z_new)\n",
    "\n",
    "# print gmm.means_\n",
    "# print gmm.covariances_\n",
    "\n",
    "class_var =  gmm.predict(Z_new)"
   ]
  },
  {
   "cell_type": "code",
   "execution_count": 5,
   "metadata": {},
   "outputs": [],
   "source": [
    "def purity(df,K):\n",
    "    purity_dict = {}\n",
    "    for i in xrange(K):\n",
    "        sub_table = df[ df['pred_Y'] == i ]\n",
    "        label, count = np.unique(sub_table['xAttack'],return_counts=True)\n",
    "        mx_ind = np.argmax(count)\n",
    "        print i , label[mx_ind]\n",
    "        purity_dict[i] = count[mx_ind] / float(len(sub_table))\n",
    "        print label\n",
    "        print count\n",
    "    return purity_dict"
   ]
  },
  {
   "cell_type": "code",
   "execution_count": 6,
   "metadata": {},
   "outputs": [],
   "source": [
    "Z_new = pd.DataFrame( Z,columns=[ \"pc\"+str(i) for i in xrange(Z.shape[1]) ] )\n",
    "Z_new = pd.concat([Z_new, Y], axis=1)\n",
    "\n",
    "pred_Y = pd.DataFrame( class_var,columns=[ 'pred_Y' ] )\n",
    "Z_final = pd.concat([Z_new, pred_Y],axis=1)"
   ]
  },
  {
   "cell_type": "code",
   "execution_count": 7,
   "metadata": {},
   "outputs": [
    {
     "name": "stdout",
     "output_type": "stream",
     "text": [
      "0 normal\n",
      "['dos' 'normal' 'probe' 'r2l']\n",
      "[1414 3503  381   18]\n",
      "1 dos\n",
      "['dos']\n",
      "[6182]\n",
      "2 dos\n",
      "['dos' 'normal' 'probe']\n",
      "[1364  510  800]\n",
      "3 normal\n",
      "['dos' 'normal' 'probe' 'r2l' 'u2r']\n",
      "[ 26 997 245  86   7]\n",
      "4 normal\n",
      "['dos' 'normal' 'probe' 'r2l' 'u2r']\n",
      "[ 128 8354  887   93    3]\n",
      "{0: 0.65895410082769, 1: 1.0, 2: 0.5100972326103216, 3: 0.7325495958853784, 4: 0.8826201796090861}\n"
     ]
    }
   ],
   "source": [
    "purity_dict = purity(Z_final,5)\n",
    "print purity_dict"
   ]
  },
  {
   "cell_type": "code",
   "execution_count": null,
   "metadata": {},
   "outputs": [],
   "source": []
  }
 ],
 "metadata": {
  "kernelspec": {
   "display_name": "Python 2",
   "language": "python",
   "name": "python2"
  },
  "language_info": {
   "codemirror_mode": {
    "name": "ipython",
    "version": 2
   },
   "file_extension": ".py",
   "mimetype": "text/x-python",
   "name": "python",
   "nbconvert_exporter": "python",
   "pygments_lexer": "ipython2",
   "version": "2.7.15rc1"
  }
 },
 "nbformat": 4,
 "nbformat_minor": 2
}
