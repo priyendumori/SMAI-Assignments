{
 "cells": [
  {
   "cell_type": "code",
   "execution_count": 1,
   "metadata": {},
   "outputs": [],
   "source": [
    "import pandas as pd\n",
    "import numpy as np\n",
    "from sklearn.linear_model import LogisticRegression\n",
    "from sklearn.model_selection import train_test_split \n",
    "from sklearn.metrics import r2_score,confusion_matrix,classification_report,accuracy_score"
   ]
  },
  {
   "cell_type": "code",
   "execution_count": 2,
   "metadata": {},
   "outputs": [],
   "source": [
    "df=pd.read_csv(\"../input_data/wine-quality/data.csv\", sep=';')"
   ]
  },
  {
   "cell_type": "code",
   "execution_count": 3,
   "metadata": {},
   "outputs": [],
   "source": [
    "learning_rate = 0.01\n",
    "iterations = 1000\n",
    "threshold = 0.5"
   ]
  },
  {
   "cell_type": "code",
   "execution_count": 4,
   "metadata": {},
   "outputs": [],
   "source": [
    "columns = df.columns"
   ]
  },
  {
   "cell_type": "code",
   "execution_count": 5,
   "metadata": {},
   "outputs": [],
   "source": [
    "X = df.drop(['quality'],axis=1)\n",
    "Y = df['quality']"
   ]
  },
  {
   "cell_type": "code",
   "execution_count": 6,
   "metadata": {},
   "outputs": [
    {
     "data": {
      "text/html": [
       "<div>\n",
       "<style scoped>\n",
       "    .dataframe tbody tr th:only-of-type {\n",
       "        vertical-align: middle;\n",
       "    }\n",
       "\n",
       "    .dataframe tbody tr th {\n",
       "        vertical-align: top;\n",
       "    }\n",
       "\n",
       "    .dataframe thead th {\n",
       "        text-align: right;\n",
       "    }\n",
       "</style>\n",
       "<table border=\"1\" class=\"dataframe\">\n",
       "  <thead>\n",
       "    <tr style=\"text-align: right;\">\n",
       "      <th></th>\n",
       "      <th>fixed acidity</th>\n",
       "      <th>volatile acidity</th>\n",
       "      <th>citric acid</th>\n",
       "      <th>residual sugar</th>\n",
       "      <th>chlorides</th>\n",
       "      <th>free sulfur dioxide</th>\n",
       "      <th>total sulfur dioxide</th>\n",
       "      <th>density</th>\n",
       "      <th>pH</th>\n",
       "      <th>sulphates</th>\n",
       "      <th>alcohol</th>\n",
       "    </tr>\n",
       "  </thead>\n",
       "  <tbody>\n",
       "    <tr>\n",
       "      <th>1920</th>\n",
       "      <td>6.5</td>\n",
       "      <td>0.29</td>\n",
       "      <td>0.52</td>\n",
       "      <td>7.9</td>\n",
       "      <td>0.049</td>\n",
       "      <td>35.0</td>\n",
       "      <td>192.0</td>\n",
       "      <td>0.99551</td>\n",
       "      <td>3.16</td>\n",
       "      <td>0.51</td>\n",
       "      <td>9.5</td>\n",
       "    </tr>\n",
       "    <tr>\n",
       "      <th>4078</th>\n",
       "      <td>7.6</td>\n",
       "      <td>0.13</td>\n",
       "      <td>0.34</td>\n",
       "      <td>9.3</td>\n",
       "      <td>0.062</td>\n",
       "      <td>40.0</td>\n",
       "      <td>126.0</td>\n",
       "      <td>0.99660</td>\n",
       "      <td>3.21</td>\n",
       "      <td>0.39</td>\n",
       "      <td>9.6</td>\n",
       "    </tr>\n",
       "    <tr>\n",
       "      <th>1274</th>\n",
       "      <td>6.5</td>\n",
       "      <td>0.21</td>\n",
       "      <td>0.37</td>\n",
       "      <td>2.5</td>\n",
       "      <td>0.048</td>\n",
       "      <td>70.0</td>\n",
       "      <td>138.0</td>\n",
       "      <td>0.99170</td>\n",
       "      <td>3.33</td>\n",
       "      <td>0.75</td>\n",
       "      <td>11.4</td>\n",
       "    </tr>\n",
       "    <tr>\n",
       "      <th>3764</th>\n",
       "      <td>5.6</td>\n",
       "      <td>0.18</td>\n",
       "      <td>0.27</td>\n",
       "      <td>1.7</td>\n",
       "      <td>0.030</td>\n",
       "      <td>31.0</td>\n",
       "      <td>103.0</td>\n",
       "      <td>0.98892</td>\n",
       "      <td>3.35</td>\n",
       "      <td>0.37</td>\n",
       "      <td>12.9</td>\n",
       "    </tr>\n",
       "    <tr>\n",
       "      <th>4221</th>\n",
       "      <td>6.2</td>\n",
       "      <td>0.25</td>\n",
       "      <td>0.44</td>\n",
       "      <td>15.8</td>\n",
       "      <td>0.057</td>\n",
       "      <td>39.0</td>\n",
       "      <td>167.0</td>\n",
       "      <td>0.99804</td>\n",
       "      <td>3.14</td>\n",
       "      <td>0.51</td>\n",
       "      <td>9.2</td>\n",
       "    </tr>\n",
       "  </tbody>\n",
       "</table>\n",
       "</div>"
      ],
      "text/plain": [
       "      fixed acidity  volatile acidity  citric acid  residual sugar  chlorides  \\\n",
       "1920            6.5              0.29         0.52             7.9      0.049   \n",
       "4078            7.6              0.13         0.34             9.3      0.062   \n",
       "1274            6.5              0.21         0.37             2.5      0.048   \n",
       "3764            5.6              0.18         0.27             1.7      0.030   \n",
       "4221            6.2              0.25         0.44            15.8      0.057   \n",
       "\n",
       "      free sulfur dioxide  total sulfur dioxide  density    pH  sulphates  \\\n",
       "1920                 35.0                 192.0  0.99551  3.16       0.51   \n",
       "4078                 40.0                 126.0  0.99660  3.21       0.39   \n",
       "1274                 70.0                 138.0  0.99170  3.33       0.75   \n",
       "3764                 31.0                 103.0  0.98892  3.35       0.37   \n",
       "4221                 39.0                 167.0  0.99804  3.14       0.51   \n",
       "\n",
       "      alcohol  \n",
       "1920      9.5  \n",
       "4078      9.6  \n",
       "1274     11.4  \n",
       "3764     12.9  \n",
       "4221      9.2  "
      ]
     },
     "execution_count": 6,
     "metadata": {},
     "output_type": "execute_result"
    }
   ],
   "source": [
    "X_train, X_test, Y_train, Y_test = train_test_split(X,Y,test_size = 0.2)\n",
    "X_train.head()"
   ]
  },
  {
   "cell_type": "code",
   "execution_count": 7,
   "metadata": {},
   "outputs": [],
   "source": [
    "tr_mean = X_train.mean()\n",
    "tr_std = X_train.std()\n",
    "te_mean = X_test.mean()\n",
    "te_std = X_test.std()\n",
    "X_train = (X_train - tr_mean)/tr_std\n",
    "X_test = (X_test - te_mean)/te_std"
   ]
  },
  {
   "cell_type": "code",
   "execution_count": 8,
   "metadata": {},
   "outputs": [],
   "source": [
    "X_train = pd.concat([X_train,Y_train],axis=1)\n",
    "ones = np.ones([X_train.shape[0],1])\n",
    "Y_train = X_train.iloc[:,11:12].values\n",
    "X_train = X_train.iloc[:,0:11]\n",
    "X_train = np.concatenate((ones,X_train),axis=1)"
   ]
  },
  {
   "cell_type": "code",
   "execution_count": 9,
   "metadata": {},
   "outputs": [],
   "source": [
    "theta = np.zeros([15,12])"
   ]
  },
  {
   "cell_type": "code",
   "execution_count": 10,
   "metadata": {},
   "outputs": [],
   "source": [
    "def sigmoid(z):\n",
    "    return 1 / (1 + np.exp(-z))"
   ]
  },
  {
   "cell_type": "code",
   "execution_count": 11,
   "metadata": {},
   "outputs": [],
   "source": [
    "def gradient_decent(X_train,Y_train,theta1,learning_rate,iterations):\n",
    "    \n",
    "    for i in range(iterations):\n",
    "        h = sigmoid(np.dot(X_train,theta1.T))\n",
    "        theta1 = theta1 - (learning_rate/len(X_train)) * np.sum(X_train * (h - Y_train), axis=0)\n",
    "    \n",
    "    return theta1"
   ]
  },
  {
   "cell_type": "code",
   "execution_count": 12,
   "metadata": {},
   "outputs": [],
   "source": [
    "x=0\n",
    "for i in range(4,9):\n",
    "    for j in range(i+1,10):\n",
    "        theta1 = np.zeros([1,12])\n",
    "        \n",
    "        Xcopy = []\n",
    "        Ycopy = []\n",
    "#         print(Y_train.shape)\n",
    "        W = np.array(Y_train)\n",
    "#         print(W.shape)\n",
    "        for k in range(len(W)):\n",
    "            if W[k] == j or W[k]==i:\n",
    "                Xcopy.append(X_train[k])\n",
    "                if W[k] == i:\n",
    "                    Ycopy.append(1)\n",
    "                else:\n",
    "                    Ycopy.append(0)\n",
    "        \n",
    "        Xcopy = np.array(Xcopy)\n",
    "        Ycopy = np.array(Ycopy)\n",
    "        Ycopy = Ycopy.reshape((len(Ycopy),1))\n",
    "\n",
    "        theta[x]=gradient_decent(Xcopy,Ycopy,theta1,learning_rate,iterations)\n",
    "        x = x + 1"
   ]
  },
  {
   "cell_type": "code",
   "execution_count": 13,
   "metadata": {},
   "outputs": [],
   "source": [
    "y_pred = []\n",
    "for index,rows in X_test.iterrows():\n",
    "\n",
    "    rows = list(rows)\n",
    "    counts = {}\n",
    "    label = 0\n",
    "    for i in range(4,10):\n",
    "        counts[i]=0\n",
    "    max_h = 0\n",
    "    c = 0\n",
    "    for a in range(4,9):\n",
    "        for b in range(a+1,10):\n",
    "            y = 0\n",
    "            for i in range(len(rows)):\n",
    "                y = y + rows[i]*theta[c][i+1]\n",
    "            y = y + theta[c][0]\n",
    "            y = sigmoid(y)\n",
    "            c = c + 1\n",
    "            if y >= threshold:\n",
    "                counts[a]=counts[a]+1\n",
    "            else:\n",
    "                counts[b]=counts[b]+1\n",
    "    for i in range(4,10):\n",
    "        if(counts[i]>=max_h):\n",
    "            max_h=counts[i]\n",
    "            label=i\n",
    "    y_pred.append(label)\n"
   ]
  },
  {
   "cell_type": "code",
   "execution_count": 14,
   "metadata": {},
   "outputs": [
    {
     "name": "stdout",
     "output_type": "stream",
     "text": [
      "[[  0   0   2   1   0   0   0]\n",
      " [  0   0  23  16   0   0   0]\n",
      " [  0   0 131 131   0   0   0]\n",
      " [  0   0  81 322   6   0   0]\n",
      " [  0   0   5 109  23   0   0]\n",
      " [  0   0   1  25   4   0   0]\n",
      " [  0   0   0   1   1   0   0]]\n",
      "53.96825396825397\n",
      "53.96825396825397\n"
     ]
    }
   ],
   "source": [
    "print(confusion_matrix(Y_test,y_pred))\n",
    "print((y_pred == Y_test).mean()*100)\n",
    "print(accuracy_score(Y_test, y_pred)*100)"
   ]
  },
  {
   "cell_type": "code",
   "execution_count": null,
   "metadata": {},
   "outputs": [],
   "source": []
  }
 ],
 "metadata": {
  "kernelspec": {
   "display_name": "Python 2",
   "language": "python",
   "name": "python2"
  },
  "language_info": {
   "codemirror_mode": {
    "name": "ipython",
    "version": 2
   },
   "file_extension": ".py",
   "mimetype": "text/x-python",
   "name": "python",
   "nbconvert_exporter": "python",
   "pygments_lexer": "ipython2",
   "version": "2.7.15rc1"
  }
 },
 "nbformat": 4,
 "nbformat_minor": 2
}
