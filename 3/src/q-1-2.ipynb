{
 "cells": [
  {
   "cell_type": "code",
   "execution_count": 1,
   "metadata": {},
   "outputs": [],
   "source": [
    "import pandas as pd\n",
    "import numpy as np\n",
    "import random as rd\n",
    "from sklearn.preprocessing import StandardScaler\n",
    "from sklearn.decomposition import PCA\n",
    "from sklearn.cluster import KMeans\n",
    "import math"
   ]
  },
  {
   "cell_type": "code",
   "execution_count": 2,
   "metadata": {
    "scrolled": true
   },
   "outputs": [],
   "source": [
    "df = pd.read_csv(\"../input_data/intrusion_detection/data.csv\")\n",
    "Y = df.xAttack\n",
    "X = df.drop(['xAttack'],axis=1)\n",
    "X = (X - X.mean())/X.std()"
   ]
  },
  {
   "cell_type": "code",
   "execution_count": 3,
   "metadata": {},
   "outputs": [],
   "source": [
    "cov_x = np.cov(X.T)\n",
    "\n",
    "U,S,V = np.linalg.svd(cov_x)\n",
    "S_total = float(np.sum(S))\n",
    "\n",
    "sum_i = 0\n",
    "num_of_comp = 0\n",
    "for i in xrange(len(S)):\n",
    "    sum_i += S[i]\n",
    "    if sum_i  / S_total  >= 0.90:\n",
    "        num_of_comp = i+1\n",
    "        break\n",
    "\n",
    "U_red = U[:,:num_of_comp]\n",
    "# U_red = np.array(U_red)\n",
    "X = np.array(X)\n",
    "Z = np.matmul(U_red.T, X.T)\n",
    "Z = Z.T\n",
    "Z_new = pd.DataFrame( Z,columns=[ \"pc\"+str(i) for i in xrange(Z.shape[1]) ] )"
   ]
  },
  {
   "cell_type": "code",
   "execution_count": null,
   "metadata": {},
   "outputs": [],
   "source": []
  },
  {
   "cell_type": "code",
   "execution_count": 4,
   "metadata": {},
   "outputs": [],
   "source": [
    "kmeans = KMeans(n_clusters=5, random_state=0).fit(Z_new)\n",
    "cluster_scikit = kmeans.labels_"
   ]
  },
  {
   "cell_type": "code",
   "execution_count": 5,
   "metadata": {},
   "outputs": [],
   "source": [
    "def euclidean_distance(x,y):\n",
    "    return np.sum((x - y)**2)"
   ]
  },
  {
   "cell_type": "code",
   "execution_count": 6,
   "metadata": {},
   "outputs": [],
   "source": [
    "def kmeans(K,df):\n",
    "\n",
    "    d = df.shape[1] \n",
    "    n = df.shape[0]\n",
    "    Max_Iterations = 100\n",
    "    i = 0\n",
    "    \n",
    "    cluster = [0] * n\n",
    "    prev_cluster = [-1] * n\n",
    "    \n",
    "    cluster_centers = [rd.choice(df) for i in xrange(K) ]    \n",
    "    force_recalculation = False\n",
    "    \n",
    "    while (cluster != prev_cluster) or (i > Max_Iterations) or (force_recalculation) :\n",
    "        prev_cluster = list(cluster)\n",
    "        force_recalculation = False\n",
    "        i += 1\n",
    "    \n",
    "        for p in xrange(n):\n",
    "            min_dist = float(\"inf\")\n",
    "            for c in xrange(K):\n",
    "                dist = euclidean_distance(df[p],cluster_centers[c])\n",
    "                if (dist < min_dist):\n",
    "                    min_dist = dist  \n",
    "                    cluster[p] = c\n",
    "        \n",
    "        for k in xrange(K):\n",
    "            new_center = [0] * d\n",
    "            members = 0\n",
    "            for p in xrange(n):\n",
    "                if (cluster[p] == k):\n",
    "                    for j in xrange(d):\n",
    "                        new_center[j] += df[p][j]\n",
    "                    members += 1\n",
    "            \n",
    "            for j in xrange(d):\n",
    "                if members != 0:\n",
    "                    new_center[j] = new_center[j] / float(members) \n",
    "                else: \n",
    "                    new_center = rd.choice(df)\n",
    "                    force_recalculation = True                    \n",
    "            \n",
    "            cluster_centers[k] = new_center\n",
    "            \n",
    "    return cluster"
   ]
  },
  {
   "cell_type": "code",
   "execution_count": 7,
   "metadata": {},
   "outputs": [],
   "source": [
    "cluster = kmeans(5, Z)"
   ]
  },
  {
   "cell_type": "code",
   "execution_count": 8,
   "metadata": {},
   "outputs": [],
   "source": [
    "Z_new = pd.DataFrame( Z,columns=[ \"pc\"+str(i) for i in xrange(Z.shape[1]) ] )\n",
    "Z_new = pd.concat([Z_new, Y], axis=1)\n",
    "\n",
    "pred_Y = pd.DataFrame( cluster,columns=[ 'pred_Y' ] )\n",
    "pred_Y_scikit = pd.DataFrame( cluster_scikit,columns=[ 'pred_Y' ] )\n",
    "\n",
    "Z_mymodel = pd.concat([Z_new, pred_Y],axis=1)\n",
    "Z_scikit  = pd.concat([Z_new, pred_Y_scikit],axis=1)\n"
   ]
  },
  {
   "cell_type": "code",
   "execution_count": 9,
   "metadata": {},
   "outputs": [],
   "source": [
    "def purity(df,K):\n",
    "    purity_dict = {}\n",
    "    for i in xrange(K):\n",
    "        sub_table = df[ df['pred_Y'] == i ]\n",
    "        label, count = np.unique(sub_table['xAttack'],return_counts=True)\n",
    "        mx_ind = np.argmax(count)\n",
    "        print i , label[mx_ind]\n",
    "        purity_dict[i] = count[mx_ind] / float(len(sub_table))\n",
    "        print label\n",
    "        print count\n",
    "    return purity_dict"
   ]
  },
  {
   "cell_type": "code",
   "execution_count": 10,
   "metadata": {},
   "outputs": [
    {
     "name": "stdout",
     "output_type": "stream",
     "text": [
      "0 normal\n",
      "['dos' 'normal' 'probe' 'r2l' 'u2r']\n",
      "[  907 11573   357   141    10]\n",
      "1 dos\n",
      "['dos' 'normal' 'probe']\n",
      "[6807   32   77]\n",
      "2 normal\n",
      "['dos' 'normal' 'probe' 'r2l']\n",
      "[  19 1116    2    6]\n",
      "3 probe\n",
      "['dos' 'normal' 'probe' 'r2l']\n",
      "[ 17 122 820  40]\n",
      "4 dos\n",
      "['dos' 'normal' 'probe' 'r2l']\n",
      "[1364  521 1057   10]\n",
      "{0: 0.8910532799507237, 1: 0.9842394447657605, 2: 0.9763779527559056, 3: 0.8208208208208209, 4: 0.462059620596206}\n"
     ]
    }
   ],
   "source": [
    "purity_dict = purity(Z_mymodel,5)\n",
    "print purity_dict"
   ]
  },
  {
   "cell_type": "code",
   "execution_count": 11,
   "metadata": {},
   "outputs": [
    {
     "name": "stdout",
     "output_type": "stream",
     "text": [
      "0 probe\n",
      "['dos' 'normal' 'probe' 'r2l']\n",
      "[ 17 143 820  36]\n",
      "1 normal\n",
      "['dos' 'normal' 'probe' 'r2l' 'u2r']\n",
      "[  926 12647   358   151    10]\n",
      "2 dos\n",
      "['dos' 'normal' 'probe']\n",
      "[6807   35   77]\n",
      "3 dos\n",
      "['dos' 'normal' 'probe' 'r2l']\n",
      "[1364  531 1058   10]\n",
      "4 normal\n",
      "['normal']\n",
      "[8]\n",
      "{0: 0.8070866141732284, 1: 0.8974595515185921, 2: 0.9838126896950427, 3: 0.4603442456969288, 4: 1.0}\n"
     ]
    }
   ],
   "source": [
    "purity_scikit = purity(Z_scikit,5)\n",
    "print purity_scikit"
   ]
  },
  {
   "cell_type": "code",
   "execution_count": null,
   "metadata": {},
   "outputs": [],
   "source": []
  }
 ],
 "metadata": {
  "kernelspec": {
   "display_name": "Python 2",
   "language": "python",
   "name": "python2"
  },
  "language_info": {
   "codemirror_mode": {
    "name": "ipython",
    "version": 2
   },
   "file_extension": ".py",
   "mimetype": "text/x-python",
   "name": "python",
   "nbconvert_exporter": "python",
   "pygments_lexer": "ipython2",
   "version": "2.7.15rc1"
  }
 },
 "nbformat": 4,
 "nbformat_minor": 2
}
