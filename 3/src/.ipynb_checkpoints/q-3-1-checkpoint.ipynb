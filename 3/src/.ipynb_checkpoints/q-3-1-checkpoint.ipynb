{
 "cells": [
  {
   "cell_type": "code",
   "execution_count": 15,
   "metadata": {},
   "outputs": [],
   "source": [
    "import numpy as np\n",
    "import pandas as pd\n",
    "from sklearn.model_selection import train_test_split \n",
    "from sklearn.linear_model import LogisticRegression\n",
    "from sklearn.metrics import r2_score,confusion_matrix,classification_report,accuracy_score"
   ]
  },
  {
   "cell_type": "code",
   "execution_count": 16,
   "metadata": {},
   "outputs": [],
   "source": [
    "df=pd.read_csv(\"../input_data/wine-quality/data.csv\")\n",
    "learning_rate = 0.01\n",
    "iterations = 1000\n",
    "threshold = 0.5\n",
    "columns = df.columns\n",
    "# columns"
   ]
  },
  {
   "cell_type": "code",
   "execution_count": 17,
   "metadata": {},
   "outputs": [],
   "source": [
    "X = df.drop(['quality'],axis=1)\n",
    "Y = df['quality']\n",
    "\n",
    "# print(len(df[df['quality']==3]))"
   ]
  },
  {
   "cell_type": "code",
   "execution_count": 18,
   "metadata": {},
   "outputs": [],
   "source": [
    "X_train, X_test, Y_train, Y_test = train_test_split(X,Y,test_size = 0.2)"
   ]
  },
  {
   "cell_type": "code",
   "execution_count": 19,
   "metadata": {},
   "outputs": [],
   "source": [
    "X_train = (X_train - X_train.mean())/X_train.std()\n",
    "X_test = (X_test - X_test.mean())/X_test.std()"
   ]
  },
  {
   "cell_type": "code",
   "execution_count": 20,
   "metadata": {},
   "outputs": [],
   "source": [
    "X_train = pd.concat([X_train,Y_train],axis=1)\n",
    "ones = np.ones([X_train.shape[0],1])\n",
    "Y_train = X_train.iloc[:,11:12].values\n",
    "X_train = X_train.iloc[:,0:11]\n",
    "X_train = np.concatenate((ones,X_train),axis=1)"
   ]
  },
  {
   "cell_type": "code",
   "execution_count": 21,
   "metadata": {},
   "outputs": [
    {
     "data": {
      "text/plain": [
       "(3526, 1)"
      ]
     },
     "execution_count": 21,
     "metadata": {},
     "output_type": "execute_result"
    }
   ],
   "source": [
    "Y_train.shape"
   ]
  },
  {
   "cell_type": "code",
   "execution_count": 22,
   "metadata": {},
   "outputs": [
    {
     "data": {
      "text/plain": [
       "(15, 12)"
      ]
     },
     "execution_count": 22,
     "metadata": {},
     "output_type": "execute_result"
    }
   ],
   "source": [
    "theta = np.zeros([15,12])\n",
    "theta.shape"
   ]
  },
  {
   "cell_type": "code",
   "execution_count": 23,
   "metadata": {},
   "outputs": [],
   "source": [
    "def sigmoid(z):\n",
    "    return 1 / (1 + np.exp(-z))"
   ]
  },
  {
   "cell_type": "code",
   "execution_count": 24,
   "metadata": {},
   "outputs": [],
   "source": [
    "def gradient_decent(X_train,Y_train,theta1,learning_rate,iterations):\n",
    "    \n",
    "    for i in range(iterations):\n",
    "        h = sigmoid(np.dot(X_train,theta1.T))\n",
    "        theta1 = theta1 - (learning_rate/len(X_train)) * np.sum(X_train * (h - Y_train), axis=0)\n",
    "    \n",
    "    return theta1"
   ]
  },
  {
   "cell_type": "code",
   "execution_count": 25,
   "metadata": {},
   "outputs": [],
   "source": [
    "x=0\n",
    "for i in range(4,9):\n",
    "    for j in range(i+1,10):\n",
    "        theta1 = np.zeros([1,12])\n",
    "        \n",
    "        Xcopy = []\n",
    "        Ycopy = []\n",
    "#         print(Y_train.shape)\n",
    "        W = np.array(Y_train)\n",
    "#         print(W.shape)\n",
    "        for k in range(len(W)):\n",
    "            if W[k] == j or W[k]==i:\n",
    "                Xcopy.append(X_train[k])\n",
    "                if W[k] == i:\n",
    "                    Ycopy.append(1)\n",
    "                else:\n",
    "                    Ycopy.append(0)\n",
    "        \n",
    "        Xcopy = np.array(Xcopy)\n",
    "        Ycopy = np.array(Ycopy)\n",
    "        Ycopy = Ycopy.reshape((len(Ycopy),1))\n",
    "\n",
    "        theta[x]=gradient_decent(Xcopy,Ycopy,theta1,learning_rate,iterations)\n",
    "        x = x + 1"
   ]
  },
  {
   "cell_type": "code",
   "execution_count": 26,
   "metadata": {},
   "outputs": [],
   "source": [
    "# theta"
   ]
  },
  {
   "cell_type": "code",
   "execution_count": 27,
   "metadata": {},
   "outputs": [],
   "source": [
    "y_pred = []\n",
    "for index,rows in X_test.iterrows():\n",
    "\n",
    "    rows = list(rows)\n",
    "    counts = {}\n",
    "    label = 0\n",
    "    for i in range(4,10):\n",
    "        counts[i]=0\n",
    "    max_h = 0\n",
    "    c = 0\n",
    "    for a in range(4,9):\n",
    "        for b in range(a+1,10):\n",
    "            y = 0\n",
    "            for i in range(len(rows)):\n",
    "                y = y + rows[i]*theta[c][i+1]\n",
    "            y = y + theta[c][0]\n",
    "            y = sigmoid(y)\n",
    "            c = c + 1\n",
    "            if y >= threshold:\n",
    "                counts[a]=counts[a]+1\n",
    "            else:\n",
    "                counts[b]=counts[b]+1\n",
    "#     print(counts)\n",
    "#     y_pred.append(counts.index(max(counts))+4)\n",
    "    for i in range(4,10):\n",
    "        if(counts[i]>=max_h):\n",
    "            max_h=counts[i]\n",
    "            label=i\n",
    "    y_pred.append(label)\n",
    "# y_pred\n",
    "# counts"
   ]
  },
  {
   "cell_type": "code",
   "execution_count": 28,
   "metadata": {},
   "outputs": [
    {
     "name": "stdout",
     "output_type": "stream",
     "text": [
      "51.13378684807256\n",
      "[[  0   0   3   1   0   0   0]\n",
      " [  0   0  23  10   1   0   0]\n",
      " [  0   1 129 132   2   0   0]\n",
      " [  0   0  75 293  20   0   0]\n",
      " [  0   0  16 114  29   0   0]\n",
      " [  0   0   1  24   6   0   0]\n",
      " [  0   0   0   2   0   0   0]]\n",
      "51.13378684807256\n"
     ]
    }
   ],
   "source": [
    "print((y_pred == Y_test).mean()*100)\n",
    "print(confusion_matrix(Y_test,y_pred))\n",
    "# print(classification_report(Y_test,y_pred))\n",
    "print(accuracy_score(Y_test, y_pred)*100)"
   ]
  }
 ],
 "metadata": {
  "kernelspec": {
   "display_name": "Python 2",
   "language": "python",
   "name": "python2"
  },
  "language_info": {
   "codemirror_mode": {
    "name": "ipython",
    "version": 2
   },
   "file_extension": ".py",
   "mimetype": "text/x-python",
   "name": "python",
   "nbconvert_exporter": "python",
   "pygments_lexer": "ipython2",
   "version": "2.7.15rc1"
  }
 },
 "nbformat": 4,
 "nbformat_minor": 2
}
