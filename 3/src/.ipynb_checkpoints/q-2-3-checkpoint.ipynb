{
 "cells": [
  {
   "cell_type": "markdown",
   "metadata": {},
   "source": [
    "## q-1-4-3"
   ]
  },
  {
   "cell_type": "code",
   "execution_count": 1,
   "metadata": {},
   "outputs": [],
   "source": [
    "import pandas as pd\n",
    "from sklearn import preprocessing\n",
    "from sklearn.linear_model import LogisticRegression\n",
    "import numpy as np\n",
    "import sklearn as sk\n",
    "from sklearn.metrics import r2_score\n",
    "from sklearn.model_selection import train_test_split\n",
    "from sklearn.metrics import accuracy_score, confusion_matrix, classification_report\n",
    "from sklearn.metrics import average_precision_score\n",
    "from sklearn.metrics import recall_score\n",
    "np.seterr(divide='ignore', invalid='ignore')\n",
    "\n",
    "from pylab import *\n",
    "import matplotlib\n",
    "import matplotlib.pyplot as plt"
   ]
  },
  {
   "cell_type": "code",
   "execution_count": 2,
   "metadata": {},
   "outputs": [],
   "source": [
    "df1 = pd.read_csv(\"../input_data/AdmissionDataset/data.csv\")"
   ]
  },
  {
   "cell_type": "code",
   "execution_count": 3,
   "metadata": {},
   "outputs": [],
   "source": [
    "def run(t):\n",
    "    df = df1.copy(deep=True)\n",
    "    threshold = t\n",
    "    df.loc[df['Chance of Admit ']<threshold,'Chance of Admit '] = 0\n",
    "    df.loc[df['Chance of Admit ']>=threshold,'Chance of Admit '] = 1\n",
    "    X = df.drop(['Serial No.','Chance of Admit '],axis=1)\n",
    "    Y = df['Chance of Admit ']\n",
    "\n",
    "    col_names = [i for i in X]\n",
    "    X = pd.DataFrame(preprocessing.scale(X), columns = col_names)\n",
    "\n",
    "    X_train, X_test, Y_train, Y_test = train_test_split(X, Y, test_size=0.2)\n",
    "\n",
    "    X_train1 = X_train.reset_index(drop=True)\n",
    "    Y_train1 = Y_train.reset_index(drop=True)\n",
    "\n",
    "    ones = pd.DataFrame(1,index=np.arange(X_train.shape[0]),columns=[\"ones\"])\n",
    "    X_train1 = pd.concat([ones, X_train1],axis=1)\n",
    "    X_train1 = np.array(X_train1)\n",
    "    Y_train1 = np.array(Y_train1).reshape(X_train1.shape[0],1)\n",
    "\n",
    "    theta = np.zeros([1,8])\n",
    "    alpha = 0.01\n",
    "    iterations = 1000\n",
    "\n",
    "    def h(X):\n",
    "        X=-X\n",
    "        return 1/(1+np.exp(X))\n",
    "\n",
    "    def gradientDescent(X,Y,theta,it,alpha):\n",
    "        for i in range(it):\n",
    "            theta = theta - (alpha) * np.sum(X * (h(np.matmul(X, theta.T)) - Y), axis=0)\n",
    "        return theta\n",
    "\n",
    "    g = gradientDescent(X_train1,Y_train1,theta,iterations,alpha)\n",
    "    theta_list = g[0]\n",
    "\n",
    "    def predict(X_test):\n",
    "        Y_pred=[]\n",
    "        for index,row in X_test.iterrows():\n",
    "            row=list(row)\n",
    "            y1=0\n",
    "            for i in range(1,8):\n",
    "                y1=y1+theta_list[i]*row[i-1]\n",
    "            y1=y1+theta_list[0]\n",
    "            Y_pred.append(0 if y1<0.5 else 1)\n",
    "        return Y_pred\n",
    "    pred = predict(X_test)\n",
    "\n",
    "    # print r2_score(list(Y_test),pred)\n",
    "    # print theta_list\n",
    "\n",
    "    \n",
    "    average_precision = average_precision_score(Y_test, pred)\n",
    "    recall_value = recall_score(Y_test, pred)\n",
    "#     print confusion_matrix(Y_test,pred)\n",
    "#     print classification_report(Y_test,pred)\n",
    "    accuracy = accuracy_score(Y_test,pred)\n",
    "    return accuracy,average_precision,recall_value"
   ]
  },
  {
   "cell_type": "code",
   "execution_count": 4,
   "metadata": {},
   "outputs": [
    {
     "name": "stderr",
     "output_type": "stream",
     "text": [
      "/home/priyendu/.local/lib/python2.7/site-packages/ipykernel_launcher.py:10: DataConversionWarning: Data with input dtype int64, float64 were all converted to float64 by the scale function.\n",
      "  # Remove the CWD from sys.path while we load stuff.\n"
     ]
    },
    {
     "data": {
      "image/png": "[encoded data removed]",
      "text/plain": [
       "<Figure size 432x288 with 1 Axes>"
      ]
     },
     "metadata": {
      "needs_background": "light"
     },
     "output_type": "display_data"
    }
   ],
   "source": [
    "x = np.arange(0.1, 1.1, 0.1)\n",
    "accuracy_list = []\n",
    "precision_list = []\n",
    "recall_list = []\n",
    "for i in x:\n",
    "    a,b,c = run(i)\n",
    "    accuracy_list.append(a)\n",
    "    precision_list.append(b)\n",
    "    recall_list.append(c)\n",
    "\n",
    "fig,ax = plt.subplots()\n",
    "ax.plot(x, precision_list, label=\"precision\",marker='s')\n",
    "ax.plot(x,recall_list,label=\"recall\",marker='^')\n",
    "ax.legend()\n",
    "ax.set_xlabel(\"threshold\")\n",
    "ax.set_ylabel(\"score\")\n",
    "ax.set_title(\"threshold vs precision/recall\")\n",
    "show()"
   ]
  }
 ],
 "metadata": {
  "kernelspec": {
   "display_name": "Python 2",
   "language": "python",
   "name": "python2"
  },
  "language_info": {
   "codemirror_mode": {
    "name": "ipython",
    "version": 2
   },
   "file_extension": ".py",
   "mimetype": "text/x-python",
   "name": "python",
   "nbconvert_exporter": "python",
   "pygments_lexer": "ipython2",
   "version": "2.7.15rc1"
  }
 },
 "nbformat": 4,
 "nbformat_minor": 2
}
