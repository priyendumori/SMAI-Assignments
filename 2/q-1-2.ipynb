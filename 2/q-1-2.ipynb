{
 "cells": [
  {
   "cell_type": "markdown",
   "metadata": {},
   "source": [
    "## q-1-2\n",
    "#### A bank is implementing a system to identify potential customers who have higher probablity of availing loans to increase its profit.  Implement Naive Bayes classifier on this dataset to help bank achieve its goal. "
   ]
  },
  {
   "cell_type": "code",
   "execution_count": 1,
   "metadata": {},
   "outputs": [],
   "source": [
    "import numpy as np\n",
    "from numpy import log2 as log\n",
    "import pandas as pd\n",
    "from sklearn import preprocessing\n",
    "from sklearn.model_selection import train_test_split\n",
    "from sklearn.metrics import accuracy_score, confusion_matrix, classification_report\n",
    "import operator\n",
    "import sys\n",
    "from sklearn.naive_bayes import GaussianNB\n",
    "\n",
    "from pylab import *\n",
    "import matplotlib\n",
    "import matplotlib.pyplot as plt"
   ]
  },
  {
   "cell_type": "markdown",
   "metadata": {},
   "source": [
    "###### loading dataset"
   ]
  },
  {
   "cell_type": "code",
   "execution_count": 2,
   "metadata": {},
   "outputs": [],
   "source": [
    "df = pd.read_csv(\"input_data/LoanDataset/data.csv\", names = [\"a\", \"b\", \"c\", \"d\", \"e\", \"f\", \"g\", \"h\", \"i\", \"Y\", \"k\", \"l\", \"m\", \"n\"])\n",
    "df = df.drop([0])"
   ]
  },
  {
   "cell_type": "markdown",
   "metadata": {},
   "source": [
    "###### separating class label"
   ]
  },
  {
   "cell_type": "code",
   "execution_count": 3,
   "metadata": {},
   "outputs": [],
   "source": [
    "Y = df.Y\n",
    "labels = Y.unique()\n",
    "X = df.drop(['Y'], axis=1)"
   ]
  },
  {
   "cell_type": "markdown",
   "metadata": {},
   "source": [
    "###### splitting data in training and validation"
   ]
  },
  {
   "cell_type": "code",
   "execution_count": 4,
   "metadata": {},
   "outputs": [],
   "source": [
    "X_train, X_test, Y_train, Y_test = train_test_split(X, Y,test_size=0.2)\n",
    "df1 = pd.concat([X_train, Y_train],axis=1).reset_index(drop=True)"
   ]
  },
  {
   "cell_type": "markdown",
   "metadata": {},
   "source": [
    "###### using inbuilt naive bayes"
   ]
  },
  {
   "cell_type": "code",
   "execution_count": 5,
   "metadata": {},
   "outputs": [
    {
     "name": "stdout",
     "output_type": "stream",
     "text": [
      "[[755  58]\n",
      " [ 36  51]]\n",
      "              precision    recall  f1-score   support\n",
      "\n",
      "         0.0       0.95      0.93      0.94       813\n",
      "         1.0       0.47      0.59      0.52        87\n",
      "\n",
      "   micro avg       0.90      0.90      0.90       900\n",
      "   macro avg       0.71      0.76      0.73       900\n",
      "weighted avg       0.91      0.90      0.90       900\n",
      "\n",
      "0.8955555555555555\n"
     ]
    }
   ],
   "source": [
    "gnb = GaussianNB()\n",
    "gnb.fit(X_train, Y_train)\n",
    "y_pred = gnb.predict(X_test)\n",
    "\n",
    "print confusion_matrix(Y_test,y_pred)\n",
    "print classification_report(Y_test,y_pred)\n",
    "print accuracy_score(Y_test,y_pred)"
   ]
  },
  {
   "cell_type": "markdown",
   "metadata": {},
   "source": [
    "###### splitting data according to class label (0/1)\n",
    "###### storing their summary (i.e. mean, std, etc.)"
   ]
  },
  {
   "cell_type": "code",
   "execution_count": 6,
   "metadata": {},
   "outputs": [],
   "source": [
    "df_z = df1[df1.Y==0].reset_index(drop=True)\n",
    "df_o = df1[df1.Y==1].reset_index(drop=True)\n",
    "df_z_summary = df_z.describe().drop(['Y'],axis=1)\n",
    "df_o_summary = df_o.describe().drop(['Y'],axis=1)\n",
    "# print df_z_summary"
   ]
  },
  {
   "cell_type": "markdown",
   "metadata": {},
   "source": [
    "###### method to calculate probability of a data point using gaussian distribution "
   ]
  },
  {
   "cell_type": "code",
   "execution_count": 7,
   "metadata": {},
   "outputs": [],
   "source": [
    "def calculateProbability(x, mean, stdev):\n",
    "    exponent = math.exp(-(math.pow(x-mean,2)/(2*math.pow(stdev,2))))\n",
    "    return (1 / (math.sqrt(2*math.pi) * stdev)) * exponent"
   ]
  },
  {
   "cell_type": "markdown",
   "metadata": {},
   "source": [
    "###### returns probability of inputVector being in either classes"
   ]
  },
  {
   "cell_type": "code",
   "execution_count": 8,
   "metadata": {},
   "outputs": [],
   "source": [
    "def calculateClassProbabilities(sum0, sum1, inputVector):\n",
    "    probabilities = {0:1, 1:1}\n",
    "    counter=0\n",
    "    for col in sum0:\n",
    "        x = inputVector[counter]\n",
    "        counter+=1\n",
    "        probabilities[0] *= calculateProbability(x, sum0[col]['mean'], sum0[col]['std'])\n",
    "        \n",
    "    counter=0\n",
    "    for col in sum1:\n",
    "        x = inputVector[counter]\n",
    "        counter+=1\n",
    "        probabilities[1] *= calculateProbability(x, sum1[col]['mean'], sum1[col]['std'])\n",
    "        \n",
    "    return probabilities"
   ]
  },
  {
   "cell_type": "markdown",
   "metadata": {},
   "source": [
    "###### method uses above two methods and predicts label which is highest probable for one row"
   ]
  },
  {
   "cell_type": "code",
   "execution_count": 9,
   "metadata": {},
   "outputs": [],
   "source": [
    "def predict(sum0, sum1, inputVector):\n",
    "    probabilities = calculateClassProbabilities(sum0, sum1, inputVector)\n",
    "    bestLabel, bestProb = None, -1\n",
    "    for classValue, probability in probabilities.iteritems():\n",
    "        if bestLabel is None or probability > bestProb:\n",
    "            bestProb = probability\n",
    "            bestLabel = classValue\n",
    "    return bestLabel"
   ]
  },
  {
   "cell_type": "markdown",
   "metadata": {},
   "source": [
    "###### method calls predict method in a loop for all rows in test data"
   ]
  },
  {
   "cell_type": "code",
   "execution_count": 10,
   "metadata": {},
   "outputs": [
    {
     "name": "stdout",
     "output_type": "stream",
     "text": [
      "[[726  87]\n",
      " [ 18  69]]\n",
      "              precision    recall  f1-score   support\n",
      "\n",
      "         0.0       0.98      0.89      0.93       813\n",
      "         1.0       0.44      0.79      0.57        87\n",
      "\n",
      "   micro avg       0.88      0.88      0.88       900\n",
      "   macro avg       0.71      0.84      0.75       900\n",
      "weighted avg       0.92      0.88      0.90       900\n",
      "\n",
      "0.8833333333333333\n"
     ]
    }
   ],
   "source": [
    "def getPredictions(sum0, sum1, testSet):\n",
    "    predictions = []\n",
    "    for i in range(len(testSet)):\n",
    "        result = predict(sum0, sum1, testSet.iloc[i])\n",
    "        predictions.append(result)\n",
    "    return predictions\n",
    "\n",
    "p = getPredictions(df_z_summary, df_o_summary, X_test)\n",
    "print confusion_matrix(Y_test,p)\n",
    "print classification_report(Y_test,p)\n",
    "print accuracy_score(Y_test,p)"
   ]
  },
  {
   "cell_type": "markdown",
   "metadata": {},
   "source": [
    "###### Observation\n",
    "* Very simple, easy to implement and fast.\n",
    "* Can be used for both binary and mult-iclass classification problems.\n",
    "* Can make probabilistic predictions.\n",
    "* If the NB conditional independence assumption holds, then it will converge quicker than discriminative models like logistic regression.\n",
    "* Even if the NB assumption doesn’t hold, it works great in practice.\n",
    "* Need less training data.\n",
    "* It can’t learn interactions between features"
   ]
  },
  {
   "cell_type": "markdown",
   "metadata": {},
   "source": [
    "###### testing from file"
   ]
  },
  {
   "cell_type": "raw",
   "metadata": {},
   "source": [
    "def test_function():\n",
    "    test_file = sys.argv[1]\n",
    "    df = pd.read_csv(test_file, names = [\"a\", \"b\", \"c\", \"d\", \"e\", \"f\", \"g\", \"h\", \"i\", \"k\", \"l\", \"m\", \"n\"])\n",
    "    pred = getPredictions(df_z_summary, df_o_summary, df)\n",
    "    return pred\n",
    "\n",
    "print test_function()"
   ]
  }
 ],
 "metadata": {
  "kernelspec": {
   "display_name": "Python 2",
   "language": "python",
   "name": "python2"
  },
  "language_info": {
   "codemirror_mode": {
    "name": "ipython",
    "version": 2
   },
   "file_extension": ".py",
   "mimetype": "text/x-python",
   "name": "python",
   "nbconvert_exporter": "python",
   "pygments_lexer": "ipython2",
   "version": "2.7.15rc1"
  }
 },
 "nbformat": 4,
 "nbformat_minor": 2
}
