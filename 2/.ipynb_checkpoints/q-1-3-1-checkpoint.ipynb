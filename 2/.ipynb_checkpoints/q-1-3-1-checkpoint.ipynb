{
 "cells": [
  {
   "cell_type": "markdown",
   "metadata": {},
   "source": [
    "## q-1-3-1\n",
    "#### Implement a model using linear regression to predict the probablity of getting the admit."
   ]
  },
  {
   "cell_type": "code",
   "execution_count": 1,
   "metadata": {},
   "outputs": [],
   "source": [
    "import pandas as pd\n",
    "from sklearn import preprocessing\n",
    "from sklearn.linear_model import LinearRegression\n",
    "import numpy as np\n",
    "import sklearn as sk\n",
    "from sklearn.metrics import r2_score\n",
    "from sklearn.model_selection import train_test_split"
   ]
  },
  {
   "cell_type": "markdown",
   "metadata": {},
   "source": [
    "###### loading dataset and preprocessing"
   ]
  },
  {
   "cell_type": "code",
   "execution_count": 2,
   "metadata": {},
   "outputs": [
    {
     "name": "stderr",
     "output_type": "stream",
     "text": [
      "/home/priyendu/.local/lib/python2.7/site-packages/ipykernel_launcher.py:5: DataConversionWarning: Data with input dtype int64, float64 were all converted to float64 by the scale function.\n",
      "  \"\"\"\n"
     ]
    }
   ],
   "source": [
    "df = pd.read_csv(\"input_data/AdmissionDataset/data.csv\")\n",
    "X = df.drop(['Serial No.','Chance of Admit '],axis=1)\n",
    "Y = df['Chance of Admit ']\n",
    "col_names = [i for i in X]\n",
    "X = pd.DataFrame(preprocessing.scale(X), columns = col_names)"
   ]
  },
  {
   "cell_type": "markdown",
   "metadata": {},
   "source": [
    "###### splitting data in training and validation"
   ]
  },
  {
   "cell_type": "code",
   "execution_count": 3,
   "metadata": {},
   "outputs": [],
   "source": [
    "X_train, X_test, Y_train, Y_test = train_test_split(X, Y, test_size=0.2)"
   ]
  },
  {
   "cell_type": "markdown",
   "metadata": {},
   "source": [
    "###### using inbuilt linear regression model"
   ]
  },
  {
   "cell_type": "code",
   "execution_count": null,
   "metadata": {},
   "outputs": [],
   "source": [
    "regressor=LinearRegression()\n",
    "regressor.fit(X_train,Y_train)\n",
    "pred = regressor.predict(X_test)\n",
    "inbuilt_coeff = []\n",
    "inbuilt_coeff.append(regressor.intercept_)\n",
    "inbuilt_coeff.append(list(regressor.coef_))\n",
    "# print(regressor.coef_)\n",
    "# print(regressor.intercept_)\n",
    "print inbuilt_coeff\n",
    "r2_score(Y_test,pred)\n",
    "print pred"
   ]
  },
  {
   "cell_type": "markdown",
   "metadata": {},
   "source": [
    "###### appending a column of ones at the beginning"
   ]
  },
  {
   "cell_type": "code",
   "execution_count": 5,
   "metadata": {},
   "outputs": [],
   "source": [
    "X_train1 = X_train.reset_index(drop=True)\n",
    "Y_train1 = Y_train.reset_index(drop=True)\n",
    "\n",
    "ones = pd.DataFrame(1,index=np.arange(X_train.shape[0]),columns=[\"ones\"])\n",
    "X_train1 = pd.concat([ones, X_train1],axis=1)\n",
    "X_train1 = np.array(X_train1)\n",
    "Y_train1 = np.array(Y_train1).reshape(X_train1.shape[0],1)"
   ]
  },
  {
   "cell_type": "markdown",
   "metadata": {},
   "source": [
    "###### initializing parameters for gradient descent"
   ]
  },
  {
   "cell_type": "code",
   "execution_count": 6,
   "metadata": {},
   "outputs": [],
   "source": [
    "theta = np.zeros([1,8])\n",
    "alpha = 0.01\n",
    "iterations = 1000"
   ]
  },
  {
   "cell_type": "markdown",
   "metadata": {},
   "source": [
    "###### method to calculate values of theta using gradient descent"
   ]
  },
  {
   "cell_type": "code",
   "execution_count": 7,
   "metadata": {},
   "outputs": [],
   "source": [
    "def gradientDescent(X,Y,theta,it,alpha,lamb):\n",
    "    for i in range(it):\n",
    "        theta = theta - (alpha/len(X)) * np.sum(X * (np.matmul(X, theta.T) - Y), axis=0)\n",
    "    return theta\n",
    "\n",
    "g = gradientDescent(X_train1,Y_train1,theta,iterations,alpha,lamb)\n",
    "theta_list = g[0]"
   ]
  },
  {
   "cell_type": "markdown",
   "metadata": {},
   "source": [
    "###### method to predict values for test_data"
   ]
  },
  {
   "cell_type": "code",
   "execution_count": 8,
   "metadata": {},
   "outputs": [],
   "source": [
    "def predict(X_test):\n",
    "    Y_pred=[]\n",
    "    for index,row in X_test.iterrows():\n",
    "        row=list(row)\n",
    "        y1=0\n",
    "        for i in range(1,8):\n",
    "            y1=y1+theta_list[i]*row[i-1]\n",
    "        y1=y1+theta_list[0]\n",
    "        Y_pred.append(y1)\n",
    "    return Y_pred\n",
    "pred = predict(X_test)"
   ]
  },
  {
   "cell_type": "code",
   "execution_count": 9,
   "metadata": {},
   "outputs": [
    {
     "name": "stdout",
     "output_type": "stream",
     "text": [
      "[ 0.72059675  0.02853144  0.01886527  0.01042294 -0.0016693   0.01669012\n",
      "  0.06321911  0.00921494]\n",
      "0.8282251608507868\n",
      "[0.9796118195086239, 0.7954400974782243, 0.5346611498335833, 0.48685107479271805, 0.9014207863863843, 0.5892017611733897, 0.9018685351528567, 0.550043140880012, 0.787134259489004, 0.8326239837903824, 0.5035520478777039, 0.6397448352408992, 0.9856918910101574, 0.838053457522446, 0.9675335505124105, 0.9386304468414296, 0.6570930385100964, 0.8041975396259959, 0.7912940334872016, 0.5608928818300203, 0.7862506436671489, 0.733739754991482, 0.6810555013502868, 0.7002579892190743, 0.8336794716782866, 0.7591707940079012, 0.6085116770014319, 0.5088630116220711, 0.6180124075662956, 0.9334487610356431, 0.7895615335805467, 0.6454362010208572, 0.5682471344280108, 0.7378116074184229, 0.6522391477799163, 0.8265212235138616, 0.7022749883429045, 0.5636296172134904, 0.6452633780194836, 0.7024066081570971, 0.5808749860898934, 0.9411636719418642, 0.8584985666765238, 0.8420393864602481, 0.6419249153205007, 0.7691279018881371, 0.8151861228489286, 0.8882777406682003, 0.7888386352562993, 0.9607138461441403, 0.6171032216087275, 0.5761123561002927, 0.756621425391364, 0.7345430050900387, 0.9280857859254322, 0.5905793007465514, 0.8460685579504093, 0.8327262963977949, 0.6609248296572604, 0.6220017963950828, 0.8310783409002676, 0.8026619859704982, 0.8307177795261318, 0.5082253105541905, 0.6530159475013024, 0.8815511478603313, 0.6458967255225381, 0.6720217615043179, 0.8075312706139546, 0.600240577981174, 0.603377910714278, 0.6605001321538717, 0.663718668691694, 0.8569067567477231, 0.7992980834834187, 0.9303558214743609, 0.704153243863398, 0.8054313130561308, 0.5375976343381216, 0.8131160695271122, 0.966545798909329, 0.6576143022319589, 0.6262737713430279, 0.7667604944872717, 0.6995783844896283, 0.8535560025672448, 0.9376013277249895, 0.625303121338286, 0.658670266427428, 0.9065760785598782]\n"
     ]
    }
   ],
   "source": [
    "print theta_list\n",
    "print r2_score(list(Y_test),pred)\n",
    "print pred"
   ]
  },
  {
   "cell_type": "markdown",
   "metadata": {},
   "source": [
    "###### testing from file"
   ]
  },
  {
   "cell_type": "raw",
   "metadata": {},
   "source": [
    "def test_function():\n",
    "    test_file = sys.argv[1]\n",
    "    df = pd.read_csv(test_file)\n",
    "    return predict(df)\n",
    "\n",
    "print test_function()"
   ]
  }
 ],
 "metadata": {
  "kernelspec": {
   "display_name": "Python 2",
   "language": "python",
   "name": "python2"
  },
  "language_info": {
   "codemirror_mode": {
    "name": "ipython",
    "version": 2
   },
   "file_extension": ".py",
   "mimetype": "text/x-python",
   "name": "python",
   "nbconvert_exporter": "python",
   "pygments_lexer": "ipython2",
   "version": "2.7.15rc1"
  }
 },
 "nbformat": 4,
 "nbformat_minor": 2
}
