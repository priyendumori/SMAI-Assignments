{
 "cells": [
  {
   "cell_type": "markdown",
   "metadata": {},
   "source": [
    "## q-1-1-1\n",
    "#### Implement a KNN classifier."
   ]
  },
  {
   "cell_type": "code",
   "execution_count": 73,
   "metadata": {},
   "outputs": [],
   "source": [
    "import numpy as np\n",
    "from numpy import log2 as log\n",
    "import pandas as pd\n",
    "from sklearn import preprocessing\n",
    "from sklearn.model_selection import train_test_split\n",
    "from sklearn.metrics import accuracy_score, confusion_matrix, classification_report\n",
    "from sklearn.neighbors import KNeighborsClassifier\n",
    "import operator\n",
    "import sys"
   ]
  },
  {
   "cell_type": "markdown",
   "metadata": {},
   "source": [
    "###### loading dataset"
   ]
  },
  {
   "cell_type": "code",
   "execution_count": 74,
   "metadata": {},
   "outputs": [],
   "source": [
    "# dataset = sys.argv[1]\n",
    "# testfile = sys.argv[2]\n",
    "dataset = \"iris\"\n",
    "def loadfile(dataset):\n",
    "    if dataset==\"iris\":\n",
    "        filename = 'input_data/Iris.csv'\n",
    "        df = pd.read_csv(filename, names = [\"a\", \"b\", \"c\", \"d\", \"Y\"])\n",
    "    elif dataset==\"robot1\":\n",
    "        filename = 'input_data/Robot1'\n",
    "        df = pd.read_csv(filename, delim_whitespace=True, names = [\"Y\", \"a\", \"b\", \"c\", \"d\", \"e\", \"f\", \"g\"])\n",
    "        df = df.drop(['g'],axis=1)\n",
    "    else:\n",
    "        filename = 'input_data/Robot2'\n",
    "        df = pd.read_csv(filename, delim_whitespace=True, names = [\"Y\", \"a\", \"b\", \"c\", \"d\", \"e\", \"f\", \"g\"])\n",
    "        df = df.drop(['g'],axis=1)\n",
    "    return df\n",
    "\n",
    "df = loadfile(dataset)"
   ]
  },
  {
   "cell_type": "markdown",
   "metadata": {},
   "source": [
    "###### seperating class label and preprocessing data if required"
   ]
  },
  {
   "cell_type": "code",
   "execution_count": 75,
   "metadata": {},
   "outputs": [],
   "source": [
    "Y = df.Y\n",
    "labels = Y.unique()\n",
    "X = df.drop(['Y'], axis=1)\n",
    "if dataset != \"iris\":\n",
    "    X = pd.DataFrame(preprocessing.normalize(X), columns = [\"a\",\"b\", \"c\", \"d\", \"e\", \"f\"])\n",
    "    "
   ]
  },
  {
   "cell_type": "markdown",
   "metadata": {},
   "source": [
    "###### splitting data into training and validation"
   ]
  },
  {
   "cell_type": "code",
   "execution_count": 76,
   "metadata": {},
   "outputs": [],
   "source": [
    "X_train, X_test, Y_train, Y_test = train_test_split(X, Y,test_size=0.2)\n",
    "df1 = pd.concat([X_train, Y_train],axis=1).reset_index(drop=True)"
   ]
  },
  {
   "cell_type": "markdown",
   "metadata": {},
   "source": [
    "###### using inbuilt knn classifier"
   ]
  },
  {
   "cell_type": "code",
   "execution_count": 77,
   "metadata": {},
   "outputs": [
    {
     "name": "stdout",
     "output_type": "stream",
     "text": [
      "[[10  0  0]\n",
      " [ 0  9  0]\n",
      " [ 0  1  7]]\n",
      "                 precision    recall  f1-score   support\n",
      "\n",
      "    Iris-setosa       1.00      1.00      1.00        10\n",
      "Iris-versicolor       0.90      1.00      0.95         9\n",
      " Iris-virginica       1.00      0.88      0.93         8\n",
      "\n",
      "      micro avg       0.96      0.96      0.96        27\n",
      "      macro avg       0.97      0.96      0.96        27\n",
      "   weighted avg       0.97      0.96      0.96        27\n",
      "\n",
      "0.9629629629629629\n"
     ]
    }
   ],
   "source": [
    "neigh = KNeighborsClassifier(n_neighbors=5)\n",
    "neigh.fit(X_train, Y_train)\n",
    "p = neigh.predict(X_test)\n",
    "print confusion_matrix(Y_test,p)\n",
    "print classification_report(Y_test,p)\n",
    "print accuracy_score(Y_test,p)"
   ]
  },
  {
   "cell_type": "markdown",
   "metadata": {},
   "source": [
    "###### method to calculate euclidean distance"
   ]
  },
  {
   "cell_type": "code",
   "execution_count": 78,
   "metadata": {},
   "outputs": [],
   "source": [
    "def euclidean_distance(x, y):   \n",
    "    return np.sqrt(np.sum((x - y) ** 2))"
   ]
  },
  {
   "cell_type": "markdown",
   "metadata": {},
   "source": [
    "###### predict method calculates distances of test data point to all the points available\n",
    "###### store them in ascending order\n",
    "###### pick first k points from the sorted list\n",
    "###### count occurences of class labels\n",
    "###### assign highest occurring class lable from these k points to our test data point"
   ]
  },
  {
   "cell_type": "code",
   "execution_count": 79,
   "metadata": {},
   "outputs": [
    {
     "name": "stdout",
     "output_type": "stream",
     "text": [
      "[[10  0  0]\n",
      " [ 0  9  0]\n",
      " [ 0  1  7]]\n",
      "                 precision    recall  f1-score   support\n",
      "\n",
      "    Iris-setosa       1.00      1.00      1.00        10\n",
      "Iris-versicolor       0.90      1.00      0.95         9\n",
      " Iris-virginica       1.00      0.88      0.93         8\n",
      "\n",
      "      micro avg       0.96      0.96      0.96        27\n",
      "      macro avg       0.97      0.96      0.96        27\n",
      "   weighted avg       0.97      0.96      0.96        27\n",
      "\n",
      "0.9629629629629629\n"
     ]
    }
   ],
   "source": [
    "def predict(X_test,k):\n",
    "    Y_predict = []\n",
    "    for index, row in X_test.iterrows():\n",
    "        dist = {}\n",
    "        labeldict = {i:0 for i in labels}\n",
    "        for index1, row1 in df1.iterrows():\n",
    "            dist[index1] = euclidean_distance(row,row1)\n",
    "        \n",
    "        od = sorted(dist.items(), key=operator.itemgetter(1))\n",
    "        count = k\n",
    "        for i,j in od:\n",
    "            count-=1\n",
    "            labeldict[df1.iloc[i].Y]+=1\n",
    "            if count==0:\n",
    "                break\n",
    "                \n",
    "        ans_label=0\n",
    "        ans_count=-1\n",
    "        for i,j in labeldict.iteritems():\n",
    "            if j>=ans_count:\n",
    "                ans_label=i\n",
    "                ans_count=j\n",
    "        Y_predict.append(ans_label)\n",
    "    return Y_predict\n",
    "\n",
    "p = predict(X_test,5)\n",
    "print confusion_matrix(Y_test,p)\n",
    "print classification_report(Y_test,p)\n",
    "print accuracy_score(Y_test,p)\n"
   ]
  },
  {
   "cell_type": "raw",
   "metadata": {},
   "source": [
    "def test_function(dataset):\n",
    "    testfile = sys.argv[2]\n",
    "    if dataset==\"iris\":\n",
    "        df = pd.read_csv(testfile, names = [\"a\", \"b\", \"c\", \"d\"])\n",
    "    elif dataset==\"robot1\":\n",
    "        df = pd.read_csv(testfile, delim_whitespace=True, names = [\"a\", \"b\", \"c\", \"d\", \"e\", \"f\", \"g\"])\n",
    "        df = df.drop(['g'],axis=1)\n",
    "    else:\n",
    "        df = pd.read_csv(testfile, delim_whitespace=True, names = [\"a\", \"b\", \"c\", \"d\", \"e\", \"f\", \"g\"])\n",
    "        df = df.drop(['g'],axis=1)\n",
    "    return predict(df,5)\n",
    "\n",
    "print test_function(dataset)"
   ]
  }
 ],
 "metadata": {
  "kernelspec": {
   "display_name": "Python 2",
   "language": "python",
   "name": "python2"
  },
  "language_info": {
   "codemirror_mode": {
    "name": "ipython",
    "version": 2
   },
   "file_extension": ".py",
   "mimetype": "text/x-python",
   "name": "python",
   "nbconvert_exporter": "python",
   "pygments_lexer": "ipython2",
   "version": "2.7.15rc1"
  }
 },
 "nbformat": 4,
 "nbformat_minor": 2
}
