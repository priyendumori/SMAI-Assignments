{
 "cells": [
  {
   "cell_type": "markdown",
   "metadata": {},
   "source": [
    "## q-1-3-1\n",
    "#### Implement a model using linear regression to predict the probablity of getting the admit."
   ]
  },
  {
   "cell_type": "code",
   "execution_count": 1,
   "metadata": {},
   "outputs": [],
   "source": [
    "import pandas as pd\n",
    "from sklearn import preprocessing\n",
    "from sklearn.linear_model import LinearRegression\n",
    "import numpy as np\n",
    "import sklearn as sk\n",
    "from sklearn.metrics import r2_score\n",
    "from sklearn.model_selection import train_test_split"
   ]
  },
  {
   "cell_type": "markdown",
   "metadata": {},
   "source": [
    "###### loading dataset and preprocessing"
   ]
  },
  {
   "cell_type": "code",
   "execution_count": 2,
   "metadata": {},
   "outputs": [
    {
     "name": "stderr",
     "output_type": "stream",
     "text": [
      "/home/priyendu/.local/lib/python2.7/site-packages/ipykernel_launcher.py:5: DataConversionWarning: Data with input dtype int64, float64 were all converted to float64 by the scale function.\n",
      "  \"\"\"\n"
     ]
    }
   ],
   "source": [
    "df = pd.read_csv(\"input_data/AdmissionDataset/data.csv\")\n",
    "X = df.drop(['Serial No.','Chance of Admit '],axis=1)\n",
    "Y = df['Chance of Admit ']\n",
    "col_names = [i for i in X]\n",
    "X = pd.DataFrame(preprocessing.scale(X), columns = col_names)"
   ]
  },
  {
   "cell_type": "markdown",
   "metadata": {},
   "source": [
    "###### splitting data in training and validation"
   ]
  },
  {
   "cell_type": "code",
   "execution_count": 3,
   "metadata": {},
   "outputs": [],
   "source": [
    "X_train, X_test, Y_train, Y_test = train_test_split(X, Y, test_size=0.2)"
   ]
  },
  {
   "cell_type": "markdown",
   "metadata": {},
   "source": [
    "###### using inbuilt linear regression model"
   ]
  },
  {
   "cell_type": "code",
   "execution_count": 4,
   "metadata": {},
   "outputs": [
    {
     "name": "stdout",
     "output_type": "stream",
     "text": [
      "[0.7218708058143019, [0.01870123834628365, 0.014820517340383713, 0.01195438494627337, 0.0027306303273005768, 0.018225893443452587, 0.06971595831745984, 0.011054306999880964]]\n",
      "[0.68399656 0.8109441  0.65661622 0.80000552 0.77531977 0.66599855\n",
      " 0.5766056  0.76958815 0.42349557 0.58424358 0.78356151 0.80990929\n",
      " 0.58414239 0.60273854 0.95321146 0.93730292 0.74661739 0.48381111\n",
      " 0.78638612 0.72435969 0.70728874 0.50580024 0.7134267  0.60173845\n",
      " 0.79112199 0.93983217 0.6541631  0.85485167 0.70805025 0.61754526\n",
      " 0.55252635 0.68782698 0.62589075 0.80558626 0.731842   0.57014992\n",
      " 0.62482573 0.95303439 0.92422184 0.68338632 0.60694117 0.69160185\n",
      " 0.69673542 0.99485198 0.83171276 0.4667004  0.63672185 0.54946336\n",
      " 0.65458869 1.00055494 0.7551708  0.62578882 0.51697246 0.69056716\n",
      " 0.69212657 0.53191535 0.67344386 0.96172464 0.84859799 0.68833446\n",
      " 0.5710137  0.69851056 0.54446971 0.68205327 0.56381568 0.91296398\n",
      " 0.91543795 0.69269582 0.70164678 0.69858082 0.49567591 0.88839305\n",
      " 0.79539982 0.62824262 0.63967461 0.72962731 0.66849738 0.85367012\n",
      " 0.9427069  0.7741231  0.88416988 0.69926487 0.65466683 0.64166149\n",
      " 0.61578107 0.7196501  0.49589762 0.9680774  0.77315051 0.64586605]\n"
     ]
    }
   ],
   "source": [
    "regressor=LinearRegression()\n",
    "regressor.fit(X_train,Y_train)\n",
    "pred = regressor.predict(X_test)\n",
    "inbuilt_coeff = []\n",
    "inbuilt_coeff.append(regressor.intercept_)\n",
    "inbuilt_coeff.append(list(regressor.coef_))\n",
    "# print(regressor.coef_)\n",
    "# print(regressor.intercept_)\n",
    "print inbuilt_coeff\n",
    "r2_score(Y_test,pred)\n",
    "print pred"
   ]
  },
  {
   "cell_type": "markdown",
   "metadata": {},
   "source": [
    "###### appending a column of ones at the beginning"
   ]
  },
  {
   "cell_type": "code",
   "execution_count": 5,
   "metadata": {},
   "outputs": [],
   "source": [
    "X_train1 = X_train.reset_index(drop=True)\n",
    "Y_train1 = Y_train.reset_index(drop=True)\n",
    "\n",
    "ones = pd.DataFrame(1,index=np.arange(X_train.shape[0]),columns=[\"ones\"])\n",
    "X_train1 = pd.concat([ones, X_train1],axis=1)\n",
    "X_train1 = np.array(X_train1)\n",
    "Y_train1 = np.array(Y_train1).reshape(X_train1.shape[0],1)"
   ]
  },
  {
   "cell_type": "markdown",
   "metadata": {},
   "source": [
    "###### initializing parameters for gradient descent"
   ]
  },
  {
   "cell_type": "code",
   "execution_count": 6,
   "metadata": {},
   "outputs": [],
   "source": [
    "theta = np.zeros([1,8])\n",
    "alpha = 0.01\n",
    "iterations = 1000"
   ]
  },
  {
   "cell_type": "markdown",
   "metadata": {},
   "source": [
    "###### method to calculate values of theta using gradient descent"
   ]
  },
  {
   "cell_type": "code",
   "execution_count": 8,
   "metadata": {},
   "outputs": [],
   "source": [
    "def gradientDescent(X,Y,theta,it,alpha):\n",
    "    for i in range(it):\n",
    "        theta = theta - (alpha/len(X)) * np.sum(X * (np.matmul(X, theta.T) - Y), axis=0)\n",
    "    return theta\n",
    "\n",
    "g = gradientDescent(X_train1,Y_train1,theta,iterations,alpha)\n",
    "theta_list = g[0]"
   ]
  },
  {
   "cell_type": "markdown",
   "metadata": {},
   "source": [
    "###### method to predict values for test_data"
   ]
  },
  {
   "cell_type": "code",
   "execution_count": 9,
   "metadata": {},
   "outputs": [],
   "source": [
    "def predict(X_test):\n",
    "    Y_pred=[]\n",
    "    for index,row in X_test.iterrows():\n",
    "        row=list(row)\n",
    "        y1=0\n",
    "        for i in range(1,8):\n",
    "            y1=y1+theta_list[i]*row[i-1]\n",
    "        y1=y1+theta_list[0]\n",
    "        Y_pred.append(y1)\n",
    "    return Y_pred\n",
    "pred = predict(X_test)"
   ]
  },
  {
   "cell_type": "code",
   "execution_count": 10,
   "metadata": {},
   "outputs": [
    {
     "name": "stdout",
     "output_type": "stream",
     "text": [
      "[0.72179102 0.02147337 0.01840218 0.0110167  0.00561149 0.01875645\n",
      " 0.06117715 0.01101142]\n",
      "0.8000557337222503\n",
      "[0.6872667370096277, 0.8093533019357713, 0.6669201162926596, 0.8014523937641433, 0.7771305943604558, 0.6595140849041009, 0.5761271607880323, 0.7704355272023058, 0.4263545167428315, 0.5976892316478779, 0.782636381146941, 0.8077733579773525, 0.5849734465027877, 0.6025810189557104, 0.9526694522393225, 0.9370245263451297, 0.7441936069714498, 0.49021306894683114, 0.7789344679355605, 0.7240892455371986, 0.704739101323324, 0.512244551715833, 0.7100506252894421, 0.6020153665642298, 0.7853670147273734, 0.9384104409141814, 0.6593401646799635, 0.8547002928092269, 0.705182304324543, 0.6147294860225082, 0.5601158980729215, 0.6835459451529797, 0.6272306349688499, 0.8016378933231334, 0.7324341202794277, 0.5666200475987186, 0.6307438483650544, 0.939691493801179, 0.9229097155167152, 0.685919766271675, 0.6082201207349072, 0.683438981373305, 0.694902888030144, 0.9912688978320963, 0.8308777492492477, 0.4624900990355041, 0.6423821838162144, 0.5451182794253583, 0.658953253317607, 0.9971812350142448, 0.7557058153072416, 0.626825382722586, 0.5171918324119376, 0.6867383045897953, 0.7041007066933566, 0.5307531454782957, 0.671701494616629, 0.9517911935426071, 0.8469742769879185, 0.6886045226434202, 0.5725296787258595, 0.6998691668229428, 0.5539064686917544, 0.6683282593608306, 0.573632124085518, 0.9107416755313387, 0.918448991116869, 0.6919763682616724, 0.6968516366409074, 0.6977158915325047, 0.5062179076399608, 0.8881231465258436, 0.7956648137810494, 0.6313684455193131, 0.640191486242569, 0.7334357894614177, 0.6641138692731063, 0.8519910489363306, 0.9392358334736788, 0.7703136070266882, 0.8876020224768031, 0.6974991441086776, 0.6485217471953225, 0.642445522312795, 0.6143517033816687, 0.7200808938448507, 0.5021426757737483, 0.9628417654010553, 0.7691439293404878, 0.6446294197803306]\n"
     ]
    }
   ],
   "source": [
    "print theta_list\n",
    "print r2_score(list(Y_test),pred)\n",
    "print pred"
   ]
  },
  {
   "cell_type": "markdown",
   "metadata": {},
   "source": [
    "###### testing from file"
   ]
  },
  {
   "cell_type": "raw",
   "metadata": {},
   "source": [
    "def test_function():\n",
    "    test_file = sys.argv[1]\n",
    "    df = pd.read_csv(test_file)\n",
    "    return predict(df)\n",
    "\n",
    "print test_function()"
   ]
  }
 ],
 "metadata": {
  "kernelspec": {
   "display_name": "Python 2",
   "language": "python",
   "name": "python2"
  },
  "language_info": {
   "codemirror_mode": {
    "name": "ipython",
    "version": 2
   },
   "file_extension": ".py",
   "mimetype": "text/x-python",
   "name": "python",
   "nbconvert_exporter": "python",
   "pygments_lexer": "ipython2",
   "version": "2.7.15rc1"
  }
 },
 "nbformat": 4,
 "nbformat_minor": 2
}
