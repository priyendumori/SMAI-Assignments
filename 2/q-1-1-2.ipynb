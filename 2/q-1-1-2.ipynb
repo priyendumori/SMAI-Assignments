{
 "cells": [
  {
   "cell_type": "markdown",
   "metadata": {},
   "source": [
    "## q-1-1-2\n",
    "#### Use different distance measures as applicable.  Plot graph to report accuracy with change  in  value  of  K."
   ]
  },
  {
   "cell_type": "code",
   "execution_count": 1,
   "metadata": {},
   "outputs": [],
   "source": [
    "import numpy as np\n",
    "from numpy import log2 as log\n",
    "import pandas as pd\n",
    "from sklearn import preprocessing\n",
    "from sklearn.model_selection import train_test_split\n",
    "from sklearn.metrics import accuracy_score, confusion_matrix, classification_report\n",
    "from sklearn.neighbors import KNeighborsClassifier\n",
    "import operator\n",
    "import sys\n",
    "\n",
    "from pylab import *\n",
    "import matplotlib\n",
    "import matplotlib.pyplot as plt"
   ]
  },
  {
   "cell_type": "code",
   "execution_count": 2,
   "metadata": {},
   "outputs": [],
   "source": [
    "# filename = sys.argv[1]\n",
    "filename = \"iris\"\n",
    "def loadfile(file_name):\n",
    "    if file_name==\"iris\":\n",
    "        filename = 'input_data/Iris.csv'\n",
    "        df = pd.read_csv(filename, names = [\"a\", \"b\", \"c\", \"d\", \"Y\"])\n",
    "    elif file_name==\"robot1\":\n",
    "        filename = 'input_data/Robot1'\n",
    "        df = pd.read_csv(filename, delim_whitespace=True, names = [\"Y\", \"a\", \"b\", \"c\", \"d\", \"e\", \"f\", \"g\"])\n",
    "        df = df.drop(['g'],axis=1)\n",
    "    else:\n",
    "        filename = 'input_data/Robot2'\n",
    "        df = pd.read_csv(filename, delim_whitespace=True, names = [\"Y\", \"a\", \"b\", \"c\", \"d\", \"e\", \"f\", \"g\"])\n",
    "        df = df.drop(['g'],axis=1)\n",
    "    return df\n",
    "\n",
    "df = loadfile(filename)"
   ]
  },
  {
   "cell_type": "code",
   "execution_count": 3,
   "metadata": {},
   "outputs": [],
   "source": [
    "Y = df.Y\n",
    "labels = Y.unique()\n",
    "X = df.drop(['Y'], axis=1)\n",
    "if filename != \"iris\":\n",
    "    X = pd.DataFrame(preprocessing.normalize(X), columns = [\"a\",\"b\", \"c\", \"d\", \"e\", \"f\"])\n",
    "    "
   ]
  },
  {
   "cell_type": "code",
   "execution_count": 4,
   "metadata": {},
   "outputs": [],
   "source": [
    "X_train, X_test, Y_train, Y_test = train_test_split(X, Y,test_size=0.2)\n",
    "df1 = pd.concat([X_train, Y_train],axis=1).reset_index(drop=True)"
   ]
  },
  {
   "cell_type": "raw",
   "metadata": {},
   "source": [
    "neigh = KNeighborsClassifier(n_neighbors=5)\n",
    "neigh.fit(X_train, Y_train)\n",
    "p = neigh.predict(X_test)\n",
    "print confusion_matrix(Y_test,p)\n",
    "print classification_report(Y_test,p)\n",
    "print accuracy_score(Y_test,p)"
   ]
  },
  {
   "cell_type": "code",
   "execution_count": 5,
   "metadata": {},
   "outputs": [],
   "source": [
    "def manhattan_distance(x, y):   \n",
    "    return np.sum(abs(x - y))"
   ]
  },
  {
   "cell_type": "code",
   "execution_count": 6,
   "metadata": {},
   "outputs": [],
   "source": [
    "def cosine_similarity(x, y):\n",
    "    return np.dot(x, y) / (np.sqrt(np.dot(x, x)) * np.sqrt(np.dot(y, y)))"
   ]
  },
  {
   "cell_type": "code",
   "execution_count": 7,
   "metadata": {},
   "outputs": [],
   "source": [
    "def euclidean_distance(x, y):   \n",
    "    return np.sqrt(np.sum((x - y) ** 2))"
   ]
  },
  {
   "cell_type": "code",
   "execution_count": 8,
   "metadata": {},
   "outputs": [],
   "source": [
    "def distance(x, y, flag):\n",
    "    if flag==1:\n",
    "        return euclidean_distance(x,y)\n",
    "    elif flag==2:\n",
    "        return 1 - cosine_similarity(x,y)\n",
    "    else:\n",
    "        return manhattan_distance(x,y)"
   ]
  },
  {
   "cell_type": "code",
   "execution_count": 9,
   "metadata": {},
   "outputs": [],
   "source": [
    "def predict(X_test,k,flag):\n",
    "    Y_predict = []\n",
    "    for index, row in X_test.iterrows():\n",
    "        dist = {}\n",
    "        labeldict = {i:0 for i in labels}\n",
    "        for index1, row1 in df1.iterrows():\n",
    "            dist[index1] = distance(row,row1[:-1],flag)\n",
    "        \n",
    "        od = sorted(dist.items(), key=operator.itemgetter(1))\n",
    "        count = k\n",
    "        for i,j in od:\n",
    "            count-=1\n",
    "            labeldict[df1.iloc[i].Y]+=1\n",
    "            if count==0:\n",
    "                break\n",
    "                \n",
    "        ans_label=0\n",
    "        ans_count=-1\n",
    "        for i,j in labeldict.iteritems():\n",
    "            if j>=ans_count:\n",
    "                ans_label=i\n",
    "                ans_count=j\n",
    "        Y_predict.append(ans_label)\n",
    "    return Y_predict"
   ]
  },
  {
   "cell_type": "code",
   "execution_count": 10,
   "metadata": {},
   "outputs": [
    {
     "data": {
      "text/plain": [
       "Text(0.5,1,'k vs accuracy')"
      ]
     },
     "execution_count": 10,
     "metadata": {},
     "output_type": "execute_result"
    },
    {
     "data": {
      "image/png": "[encoded data removed]",
      "text/plain": [
       "<Figure size 432x288 with 1 Axes>"
      ]
     },
     "metadata": {
      "needs_background": "light"
     },
     "output_type": "display_data"
    }
   ],
   "source": [
    "x_axis = [ i for i in xrange(1,12)]\n",
    "pe = []\n",
    "pc = []\n",
    "pm = []\n",
    "\n",
    "for j in x_axis:\n",
    "    t = predict(X_test,j,1)\n",
    "    pe.append(accuracy_score(Y_test,t))\n",
    "    \n",
    "for j in x_axis:\n",
    "    t = predict(X_test,j,2)\n",
    "    pc.append(accuracy_score(Y_test,t))\n",
    "    \n",
    "for j in x_axis:\n",
    "    t = predict(X_test,j,3)\n",
    "    pm.append(accuracy_score(Y_test,t))\n",
    "    \n",
    "fig,ax = plt.subplots()\n",
    "ax.plot(x_axis, pe, label=\"euclidean distance\")\n",
    "ax.plot(x_axis, pc, label=\"cosine similarity\")\n",
    "ax.plot(x_axis, pm, label=\"manhattan distance\")\n",
    "ax.legend()\n",
    "ax.set_xlabel(\"k\")\n",
    "ax.set_ylabel(\"accuracy\")\n",
    "ax.set_title(\"k vs accuracy\")"
   ]
  },
  {
   "cell_type": "code",
   "execution_count": null,
   "metadata": {},
   "outputs": [],
   "source": []
  }
 ],
 "metadata": {
  "kernelspec": {
   "display_name": "Python 2",
   "language": "python",
   "name": "python2"
  },
  "language_info": {
   "codemirror_mode": {
    "name": "ipython",
    "version": 2
   },
   "file_extension": ".py",
   "mimetype": "text/x-python",
   "name": "python",
   "nbconvert_exporter": "python",
   "pygments_lexer": "ipython2",
   "version": "2.7.15rc1"
  }
 },
 "nbformat": 4,
 "nbformat_minor": 2
}
