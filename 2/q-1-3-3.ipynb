{
 "cells": [
  {
   "cell_type": "markdown",
   "metadata": {},
   "source": [
    "## q-1-3-3\n",
    "#### Analyse  and  report  the  behaviour  of  the  coefficients(for  example:  sign  of  coefficients,  value of coefficients etc.)  and support it with appropriate plots as necessary"
   ]
  },
  {
   "cell_type": "code",
   "execution_count": 13,
   "metadata": {},
   "outputs": [],
   "source": [
    "import pandas as pd\n",
    "from sklearn import preprocessing\n",
    "from sklearn.linear_model import LinearRegression\n",
    "import numpy as np\n",
    "import sklearn as sk\n",
    "from sklearn.metrics import r2_score\n",
    "from sklearn.model_selection import train_test_split\n",
    "\n",
    "from pylab import *\n",
    "import matplotlib\n",
    "import matplotlib.pyplot as plt"
   ]
  },
  {
   "cell_type": "code",
   "execution_count": 14,
   "metadata": {},
   "outputs": [
    {
     "name": "stderr",
     "output_type": "stream",
     "text": [
      "/home/priyendu/.local/lib/python2.7/site-packages/ipykernel_launcher.py:5: DataConversionWarning: Data with input dtype int64, float64 were all converted to float64 by the scale function.\n",
      "  \"\"\"\n"
     ]
    }
   ],
   "source": [
    "df = pd.read_csv(\"input_data/AdmissionDataset/data.csv\")\n",
    "X = df.drop(['Serial No.','Chance of Admit '],axis=1)\n",
    "Y = df['Chance of Admit ']\n",
    "col_names = [i for i in X]\n",
    "X = pd.DataFrame(preprocessing.scale(X), columns = col_names)"
   ]
  },
  {
   "cell_type": "code",
   "execution_count": 15,
   "metadata": {},
   "outputs": [],
   "source": [
    "X_train, X_test, Y_train, Y_test = train_test_split(X, Y, test_size=0.2)"
   ]
  },
  {
   "cell_type": "code",
   "execution_count": 16,
   "metadata": {},
   "outputs": [
    {
     "data": {
      "text/plain": [
       "0.8618975021105437"
      ]
     },
     "execution_count": 16,
     "metadata": {},
     "output_type": "execute_result"
    }
   ],
   "source": [
    "regressor=LinearRegression()\n",
    "regressor.fit(X_train,Y_train)\n",
    "sys_pred = regressor.predict(X_test) \n",
    "inbuilt_coeff = []\n",
    "inbuilt_coeff.append(regressor.intercept_)\n",
    "inbuilt_coeff.append(list(regressor.coef_))\n",
    "# print(regressor.coef_)\n",
    "# print(regressor.intercept_)\n",
    "r2_score(Y_test,sys_pred)"
   ]
  },
  {
   "cell_type": "code",
   "execution_count": 17,
   "metadata": {},
   "outputs": [],
   "source": [
    "X_train1 = X_train.reset_index(drop=True)\n",
    "Y_train1 = Y_train.reset_index(drop=True)"
   ]
  },
  {
   "cell_type": "code",
   "execution_count": 18,
   "metadata": {},
   "outputs": [],
   "source": [
    "ones = pd.DataFrame(1,index=np.arange(X_train.shape[0]),columns=[\"ones\"])\n",
    "X_train1 = pd.concat([ones, X_train1],axis=1)\n",
    "X_train1 = np.array(X_train1)\n",
    "Y_train1 = np.array(Y_train1).reshape(X_train1.shape[0],1)"
   ]
  },
  {
   "cell_type": "code",
   "execution_count": 19,
   "metadata": {},
   "outputs": [],
   "source": [
    "theta = np.zeros([1,8])\n",
    "alpha = 0.01\n",
    "iterations = 1000"
   ]
  },
  {
   "cell_type": "code",
   "execution_count": 20,
   "metadata": {},
   "outputs": [],
   "source": [
    "def gradientDescent(X,Y,theta,it,alpha):\n",
    "    for i in range(it):\n",
    "        theta = theta - (alpha/len(X)) * np.sum(X * (np.matmul(X, theta.T) - Y), axis=0)\n",
    "    return theta\n",
    "\n",
    "g = gradientDescent(X_train1,Y_train1,theta,iterations,alpha)\n",
    "theta_list = g[0]"
   ]
  },
  {
   "cell_type": "code",
   "execution_count": 21,
   "metadata": {},
   "outputs": [],
   "source": [
    "def predict(X_test):\n",
    "    Y_pred=[]\n",
    "    for index,row in X_test.iterrows():\n",
    "        row=list(row)\n",
    "        y1=0\n",
    "        for i in range(1,8):\n",
    "            y1=y1+theta_list[i]*row[i-1]\n",
    "        y1=y1+theta_list[0]\n",
    "        Y_pred.append(y1)\n",
    "    return Y_pred\n",
    "pred = predict(X_train)"
   ]
  },
  {
   "cell_type": "code",
   "execution_count": 22,
   "metadata": {},
   "outputs": [
    {
     "name": "stdout",
     "output_type": "stream",
     "text": [
      "[0.72003604 0.02484092 0.01986432 0.00842028 0.00453525 0.01501847\n",
      " 0.05884598 0.01379512]\n"
     ]
    }
   ],
   "source": [
    "# print r2_score(list(Y_test),pred)\n",
    "print theta_list\n"
   ]
  },
  {
   "cell_type": "markdown",
   "metadata": {},
   "source": [
    "###### Observation: Higher the coefficient, more that feature dominates. In this case, CGPA dominates the most.\n",
    "###### Negative sign indicates that higher the coefficient, less it dominates."
   ]
  },
  {
   "cell_type": "markdown",
   "metadata": {},
   "source": [
    "###### residual plots"
   ]
  },
  {
   "cell_type": "code",
   "execution_count": 23,
   "metadata": {},
   "outputs": [
    {
     "data": {
      "image/png": "[encoded data removed]",
      "text/plain": [
       "<Figure size 432x288 with 1 Axes>"
      ]
     },
     "metadata": {
      "needs_background": "light"
     },
     "output_type": "display_data"
    }
   ],
   "source": [
    "y_axis = Y_train - pred\n",
    "x_axis = X_train['GRE Score']\n",
    "\n",
    "figure()\n",
    "scatter(x_axis,y_axis,marker='+')\n",
    "\n",
    "xlabel('GRE score')\n",
    "ylabel('residual')\n",
    "title('GRE score vs residual')\n",
    "show()"
   ]
  },
  {
   "cell_type": "code",
   "execution_count": 24,
   "metadata": {},
   "outputs": [
    {
     "data": {
      "image/png": "[encoded data removed]",
      "text/plain": [
       "<Figure size 432x288 with 1 Axes>"
      ]
     },
     "metadata": {
      "needs_background": "light"
     },
     "output_type": "display_data"
    }
   ],
   "source": [
    "y_axis = Y_train - pred\n",
    "x_axis = X_train['CGPA']\n",
    "\n",
    "figure()\n",
    "scatter(x_axis,y_axis,marker='+')\n",
    "\n",
    "xlabel('CGPA')\n",
    "ylabel('residual')\n",
    "title('CGPA vs residual')\n",
    "show()"
   ]
  }
 ],
 "metadata": {
  "kernelspec": {
   "display_name": "Python 2",
   "language": "python",
   "name": "python2"
  },
  "language_info": {
   "codemirror_mode": {
    "name": "ipython",
    "version": 2
   },
   "file_extension": ".py",
   "mimetype": "text/x-python",
   "name": "python",
   "nbconvert_exporter": "python",
   "pygments_lexer": "ipython2",
   "version": "2.7.15rc1"
  }
 },
 "nbformat": 4,
 "nbformat_minor": 2
}
