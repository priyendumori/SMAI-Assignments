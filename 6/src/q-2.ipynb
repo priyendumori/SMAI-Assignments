{
 "cells": [
  {
   "cell_type": "markdown",
   "metadata": {},
   "source": [
    "### q-2 Answer the following questions for above architecture:"
   ]
  },
  {
   "cell_type": "markdown",
   "metadata": {},
   "source": [
    "1. What are the number of parameters in 1st convolutional layers ?\n",
    "\n",
    "    ANS:\n",
    "    \n",
    "        To find the number of parameters, we use the following formula :\n",
    "\n",
    "        P = (N*M*L + 1)*K,  Where N, M = Dimensions of the Filter used.\n",
    "                            L = Number of Input channel\n",
    "                            K = Number of Filters.\n",
    "\n",
    "        Number of Parameters in 1st layer = (5*5*3 + 1)*6 = 456 Parameters.\n"
   ]
  },
  {
   "cell_type": "markdown",
   "metadata": {},
   "source": [
    "2. What are the number of parameters in pooling operation?\n",
    "    \n",
    "    ANS:\n",
    "        We are just calculating the maximum in the block, hence there is no parameter required.\n",
    "        Therefore, the no. of parameters in pooling operations are 0."
   ]
  },
  {
   "cell_type": "markdown",
   "metadata": {},
   "source": [
    "3. Which of the following operations contain most number of parameters?\n",
    "\n",
    "    (a) conv (b) pool (c) Fully connected layer (FC) (d) Activation Functions\n",
    "    \n",
    "    ANS:\n",
    "        In 1st Convolution Layer : 456 Parameters\n",
    "        In 2nd Convolution Layer : 2416 Parameters\n",
    "        In Pooling  : 0 Parameters\n",
    "        In FC-Convolution (For Flattening) : 48120 Parameters\n",
    "        In FC : parameter in Input to Hidden + parameter in Hidden to Output\n",
    "                              10164          +      850\n",
    "                total : 11014 Parameters.\n",
    "        Therefore the maximum no. of parameters are in the FC Convolution Layer where the\n",
    "        flattening is done."
   ]
  },
  {
   "cell_type": "markdown",
   "metadata": {},
   "source": [
    "4. Which operation consume most amount of memory?\n",
    "\n",
    "    (a) initial convolution layers (b) fully connected layers at the end\n",
    "    \n",
    "    ANS:\n",
    "        Initial Convolution Layers requires the most amount of memory. The reason being it increases the number of input channels."
   ]
  },
  {
   "cell_type": "markdown",
   "metadata": {},
   "source": [
    "5. Try different activation functions and describe observations."
   ]
  },
  {
   "cell_type": "code",
   "execution_count": null,
   "metadata": {},
   "outputs": [],
   "source": []
  }
 ],
 "metadata": {
  "kernelspec": {
   "display_name": "Python 2",
   "language": "python",
   "name": "python2"
  },
  "language_info": {
   "codemirror_mode": {
    "name": "ipython",
    "version": 2
   },
   "file_extension": ".py",
   "mimetype": "text/x-python",
   "name": "python",
   "nbconvert_exporter": "python",
   "pygments_lexer": "ipython2",
   "version": "2.7.15rc1"
  }
 },
 "nbformat": 4,
 "nbformat_minor": 2
}
