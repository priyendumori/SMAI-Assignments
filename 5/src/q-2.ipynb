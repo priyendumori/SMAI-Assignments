{
 "cells": [
  {
   "cell_type": "markdown",
   "metadata": {
    "colab_type": "text",
    "id": "5KJ-7bx5idJx"
   },
   "source": [
    "### Q2: Modifying Neural Network in Q1 for Housing Dataset"
   ]
  },
  {
   "cell_type": "markdown",
   "metadata": {
    "colab_type": "text",
    "id": "h-PyY1JAidJz"
   },
   "source": [
    "#### Handling Categorical Data:\n",
    "-  Categorical data are not ordered in any form. If we just map them to random integers, it would create a order in them which would wreck our classifier. \n",
    "-  So categorical data has to be converted to one-hot to use in our neural network.\n",
    "-  Using one hot would increase the dimensions a lot. So some dimensionality reduction algorithm might be used to decrease it which would lead to information loss and might decrease accuracy of classification."
   ]
  },
  {
   "cell_type": "markdown",
   "metadata": {
    "colab_type": "text",
    "id": "HcZUVTA3idK7"
   },
   "source": [
    "#### Changes to be made in Neural Network:\n",
    "-  As this task is not a classification task we cannot use softmax as activation function for output layer. In this case, we can use sigmoid or tanh. \n",
    "\n",
    "- Also as this task is not a classification task, we don't need to one-hot-encode output features. The output would be a numeric value and not a label.\n",
    "\n",
    "- We will pass three layers as argument to our neural network as we want a 3 layer neural network.\n"
   ]
  },
  {
   "cell_type": "code",
   "execution_count": 0,
   "metadata": {
    "colab": {},
    "colab_type": "code",
    "id": "5MXyit1pnPb5"
   },
   "outputs": [],
   "source": []
  }
 ],
 "metadata": {
  "colab": {
   "collapsed_sections": [],
   "name": "Q-2.ipynb",
   "provenance": [],
   "version": "0.3.2"
  },
  "kernelspec": {
   "display_name": "Python 3",
   "language": "python",
   "name": "python3"
  },
  "language_info": {
   "codemirror_mode": {
    "name": "ipython",
    "version": 3
   },
   "file_extension": ".py",
   "mimetype": "text/x-python",
   "name": "python",
   "nbconvert_exporter": "python",
   "pygments_lexer": "ipython3",
   "version": "3.6.7"
  }
 },
 "nbformat": 4,
 "nbformat_minor": 1
}
