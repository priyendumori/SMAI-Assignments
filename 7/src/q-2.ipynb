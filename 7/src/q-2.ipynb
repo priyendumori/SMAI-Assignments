{
 "cells": [
  {
   "cell_type": "markdown",
   "metadata": {},
   "source": [
    "## q-2\n",
    "Implement Ridge regression also known as L2 regularisation and plot graph between\n",
    "regularisation coefficient λ and error"
   ]
  },
  {
   "cell_type": "code",
   "execution_count": 14,
   "metadata": {},
   "outputs": [],
   "source": [
    "import numpy as np\n",
    "import pandas as pd\n",
    "from sklearn import preprocessing\n",
    "from sklearn.linear_model import LinearRegression\n",
    "import numpy as np\n",
    "import sklearn as sk\n",
    "import pandas as pd\n",
    "from sklearn.metrics import r2_score\n",
    "from sklearn.metrics import mean_squared_error\n",
    "from sklearn.metrics import accuracy_score\n",
    "from sklearn.metrics import confusion_matrix\n",
    "from sklearn.metrics import classification_report\n",
    "from sklearn.model_selection import train_test_split\n",
    "from sklearn.metrics import recall_score\n",
    "np.seterr(divide='ignore', invalid='ignore')\n",
    "\n",
    "from pylab import *\n",
    "import matplotlib\n",
    "import matplotlib.pyplot as plt"
   ]
  },
  {
   "cell_type": "markdown",
   "metadata": {},
   "source": [
    "###### loading dataset and preprocessing"
   ]
  },
  {
   "cell_type": "code",
   "execution_count": 2,
   "metadata": {},
   "outputs": [
    {
     "name": "stderr",
     "output_type": "stream",
     "text": [
      "/home/priyendu/.local/lib/python2.7/site-packages/ipykernel_launcher.py:5: DataConversionWarning: Data with input dtype int64, float64 were all converted to float64 by the scale function.\n",
      "  \"\"\"\n"
     ]
    }
   ],
   "source": [
    "df = pd.read_csv(\"../input_data/AdmissionDataset/data.csv\")\n",
    "X = df.drop(['Serial No.','Chance of Admit '],axis=1)\n",
    "Y = df['Chance of Admit ']\n",
    "col_names = [i for i in X]\n",
    "X = pd.DataFrame(preprocessing.scale(X), columns = col_names)"
   ]
  },
  {
   "cell_type": "markdown",
   "metadata": {},
   "source": [
    "###### splitting data in training and validation"
   ]
  },
  {
   "cell_type": "code",
   "execution_count": 3,
   "metadata": {},
   "outputs": [],
   "source": [
    "X_train, X_test, Y_train, Y_test = train_test_split(X, Y, test_size=0.2)"
   ]
  },
  {
   "cell_type": "markdown",
   "metadata": {},
   "source": [
    "###### using inbuilt linear regression model"
   ]
  },
  {
   "cell_type": "raw",
   "metadata": {},
   "source": [
    "regressor=LinearRegression()\n",
    "regressor.fit(X_train,Y_train)\n",
    "pred = regressor.predict(X_test)\n",
    "inbuilt_coeff = []\n",
    "inbuilt_coeff.append(regressor.intercept_)\n",
    "inbuilt_coeff.append(list(regressor.coef_))\n",
    "# print(regressor.coef_)\n",
    "# print(regressor.intercept_)\n",
    "print inbuilt_coeff"
   ]
  },
  {
   "cell_type": "code",
   "execution_count": 4,
   "metadata": {},
   "outputs": [
    {
     "data": {
      "text/plain": [
       "Ridge(alpha=0.01, copy_X=True, fit_intercept=True, max_iter=1000,\n",
       "   normalize=False, random_state=None, solver='auto', tol=0.001)"
      ]
     },
     "execution_count": 4,
     "metadata": {},
     "output_type": "execute_result"
    }
   ],
   "source": [
    "from sklearn.linear_model import Ridge\n",
    "clf = Ridge(alpha=0.01,max_iter=1000)\n",
    "clf.fit(X_train, Y_train)"
   ]
  },
  {
   "cell_type": "markdown",
   "metadata": {},
   "source": [
    "###### appending a column of ones at the beginning"
   ]
  },
  {
   "cell_type": "code",
   "execution_count": 5,
   "metadata": {},
   "outputs": [],
   "source": [
    "X_train1 = X_train.reset_index(drop=True)\n",
    "Y_train1 = Y_train.reset_index(drop=True)\n",
    "\n",
    "ones = pd.DataFrame(1,index=np.arange(X_train.shape[0]),columns=[\"ones\"])\n",
    "X_train1 = pd.concat([ones, X_train1],axis=1)\n",
    "X_train1 = np.array(X_train1)\n",
    "Y_train1 = np.array(Y_train1).reshape(X_train1.shape[0],1)"
   ]
  },
  {
   "cell_type": "markdown",
   "metadata": {},
   "source": [
    "###### initializing parameters for gradient descent"
   ]
  },
  {
   "cell_type": "code",
   "execution_count": 6,
   "metadata": {},
   "outputs": [],
   "source": [
    "theta = np.zeros([1,8])\n",
    "alpha = 0.01\n",
    "iterations = 1000"
   ]
  },
  {
   "cell_type": "markdown",
   "metadata": {},
   "source": [
    "###### method to calculate values of theta using gradient descent"
   ]
  },
  {
   "cell_type": "code",
   "execution_count": 7,
   "metadata": {},
   "outputs": [],
   "source": [
    "costs = []\n",
    "def gradientDescent(X,Y,theta,it,alpha,lamb):\n",
    "    for i in range(it):\n",
    "        theta = theta - (alpha/len(X)) * np.sum(X * (np.matmul(X, theta.T) - Y) + lamb*theta*2, axis=0) \n",
    "    return theta\n",
    "\n",
    "lamb = 0.01\n",
    "g = gradientDescent(X_train1,Y_train1,theta,iterations,alpha,lamb)\n",
    "theta_list = g[0]"
   ]
  },
  {
   "cell_type": "code",
   "execution_count": 8,
   "metadata": {},
   "outputs": [
    {
     "name": "stdout",
     "output_type": "stream",
     "text": [
      "[0.70749524 0.02806014 0.02116218 0.00607346 0.00334945 0.01448738\n",
      " 0.06099442 0.01094184]\n",
      "0.721908795130022\n",
      "[0.02644579 0.01488674 0.00736343 0.00031088 0.01240746 0.07269937\n",
      " 0.01040366]\n"
     ]
    }
   ],
   "source": [
    "print theta_list\n",
    "\n",
    "print(clf.intercept_)  \n",
    "print(clf.coef_)"
   ]
  },
  {
   "cell_type": "markdown",
   "metadata": {},
   "source": [
    "###### method to predict values for test_data"
   ]
  },
  {
   "cell_type": "code",
   "execution_count": 9,
   "metadata": {},
   "outputs": [],
   "source": [
    "def predict(X_test):\n",
    "    Y_pred=[]\n",
    "    for index,row in X_test.iterrows():\n",
    "        row=list(row)\n",
    "        y1=0\n",
    "        for i in range(1,8):\n",
    "            y1=y1+theta_list[i]*row[i-1]\n",
    "        y1=y1+theta_list[0]\n",
    "        Y_pred.append(y1)\n",
    "    return Y_pred\n",
    "pred = predict(X_test)"
   ]
  },
  {
   "cell_type": "code",
   "execution_count": 10,
   "metadata": {},
   "outputs": [],
   "source": [
    "# print theta_list\n",
    "# print r2_score(list(Y_test),pred)"
   ]
  },
  {
   "cell_type": "code",
   "execution_count": 11,
   "metadata": {},
   "outputs": [
    {
     "name": "stdout",
     "output_type": "stream",
     "text": [
      "99\n",
      "99\n",
      "99\n"
     ]
    }
   ],
   "source": [
    "lamb = 0.01\n",
    "lamb_list = []\n",
    "train_error = []\n",
    "test_error = []\n",
    "sys_train_error = []\n",
    "sys_test_error = []\n",
    "while lamb < 1:\n",
    "#     print lamb\n",
    "    theta = np.zeros([1,8])\n",
    "    g = gradientDescent(X_train1,Y_train1,theta,iterations,alpha,lamb)\n",
    "    theta_list = g[0]\n",
    "    \n",
    "    clf = Ridge(alpha=lamb,max_iter=1000)\n",
    "    clf.fit(X_train, Y_train)\n",
    "#     print \"=============================================================\"\n",
    "#     print theta_list\n",
    "\n",
    "#     print(clf.intercept_)  \n",
    "#     print(clf.coef_)\n",
    "#     print \"=============================================================\"\n",
    "    \n",
    "    pred = clf.predict(X_test)\n",
    "    sys_test_err = mean_squared_error(Y_test, pred)\n",
    "    sys_test_error.append(sys_test_err)\n",
    "    \n",
    "    pred = clf.predict(X_train)\n",
    "    sys_train_err = mean_squared_error(Y_train, pred)\n",
    "    sys_train_error.append(sys_train_err)\n",
    "    \n",
    "    pred = predict(X_test)\n",
    "#     print pred\n",
    "    test_err = mean_squared_error(Y_test, pred)\n",
    "    test_error.append(test_err)\n",
    "    \n",
    "    pred = predict(X_train)\n",
    "    train_err = mean_squared_error(Y_train, pred)\n",
    "    train_error.append(train_err)\n",
    "    \n",
    "    lamb_list.append(lamb)\n",
    "    lamb+=0.01\n",
    "    \n",
    "    \n",
    "print len(lamb_list)\n",
    "print len(test_error)\n",
    "print len(train_error)"
   ]
  },
  {
   "cell_type": "code",
   "execution_count": 12,
   "metadata": {},
   "outputs": [
    {
     "name": "stdout",
     "output_type": "stream",
     "text": [
      "system : lambda vs error\n"
     ]
    },
    {
     "data": {
      "image/png": "[encoded data removed]",
      "text/plain": [
       "<Figure size 432x288 with 1 Axes>"
      ]
     },
     "metadata": {
      "needs_background": "light"
     },
     "output_type": "display_data"
    }
   ],
   "source": [
    "plt.plot(lamb_list, sys_train_error, label=\"train error\")\n",
    "plt.plot(lamb_list, sys_test_error, label=\"test error\")\n",
    "plt.legend()\n",
    "print \"system : lambda vs error\"\n",
    "plt.show()"
   ]
  },
  {
   "cell_type": "code",
   "execution_count": 13,
   "metadata": {},
   "outputs": [
    {
     "name": "stdout",
     "output_type": "stream",
     "text": [
      "my model : lambda vs error\n"
     ]
    },
    {
     "data": {
      "image/png": "[encoded data removed]",
      "text/plain": [
       "<Figure size 432x288 with 1 Axes>"
      ]
     },
     "metadata": {
      "needs_background": "light"
     },
     "output_type": "display_data"
    }
   ],
   "source": [
    "plt.plot(lamb_list, train_error, label=\"train error\")\n",
    "plt.plot(lamb_list, test_error, label=\"test error\")\n",
    "plt.legend()\n",
    "print \"my model : lambda vs error\"\n",
    "plt.show()"
   ]
  },
  {
   "cell_type": "markdown",
   "metadata": {},
   "source": [
    "###### testing from file"
   ]
  },
  {
   "cell_type": "raw",
   "metadata": {},
   "source": [
    "def test_function():\n",
    "    test_file = sys.argv[1]\n",
    "    df = pd.read_csv(test_file)\n",
    "    return predict(df)\n",
    "\n",
    "print test_function()"
   ]
  }
 ],
 "metadata": {
  "kernelspec": {
   "display_name": "Python 2",
   "language": "python",
   "name": "python2"
  },
  "language_info": {
   "codemirror_mode": {
    "name": "ipython",
    "version": 2
   },
   "file_extension": ".py",
   "mimetype": "text/x-python",
   "name": "python",
   "nbconvert_exporter": "python",
   "pygments_lexer": "ipython2",
   "version": "2.7.15rc1"
  }
 },
 "nbformat": 4,
 "nbformat_minor": 2
}
