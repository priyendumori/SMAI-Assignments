{
 "cells": [
  {
   "cell_type": "markdown",
   "metadata": {},
   "source": [
    "## q-5"
   ]
  },
  {
   "cell_type": "code",
   "execution_count": 1,
   "metadata": {},
   "outputs": [],
   "source": [
    "import pandas as pd\n",
    "from sklearn import preprocessing\n",
    "from sklearn.preprocessing import StandardScaler\n",
    "from sklearn.linear_model import LinearRegression\n",
    "import numpy as np\n",
    "import sklearn as sk\n",
    "from sklearn.metrics import r2_score\n",
    "from sklearn.metrics import mean_squared_error,r2_score\n",
    "from sklearn.model_selection import train_test_split\n",
    "from sklearn.model_selection import KFold\n",
    "from sklearn import linear_model\n",
    "\n",
    "from pylab import *\n",
    "import matplotlib\n",
    "import matplotlib.pyplot as plt"
   ]
  },
  {
   "cell_type": "markdown",
   "metadata": {},
   "source": [
    "###### loading dataset and preprocessing"
   ]
  },
  {
   "cell_type": "code",
   "execution_count": 2,
   "metadata": {},
   "outputs": [
    {
     "name": "stderr",
     "output_type": "stream",
     "text": [
      "/home/priyendu/.local/lib/python2.7/site-packages/ipykernel_launcher.py:5: DataConversionWarning: Data with input dtype int64, float64 were all converted to float64 by the scale function.\n",
      "  \"\"\"\n"
     ]
    },
    {
     "data": {
      "text/plain": [
       "(450, 9)"
      ]
     },
     "execution_count": 2,
     "metadata": {},
     "output_type": "execute_result"
    }
   ],
   "source": [
    "df = pd.read_csv(\"../input_data/AdmissionDataset/data.csv\")\n",
    "X = df.drop(['Serial No.','Chance of Admit '],axis=1)\n",
    "Y = df['Chance of Admit ']\n",
    "col_names = [i for i in X]\n",
    "X = pd.DataFrame(preprocessing.scale(X), columns = col_names)\n",
    "X_copy = X.copy(deep=True)\n",
    "Y_copy = Y.copy(deep=True)\n",
    "X = X.values\n",
    "Y = Y.values\n",
    "n = df.shape[0]\n",
    "df.shape"
   ]
  },
  {
   "cell_type": "code",
   "execution_count": 3,
   "metadata": {},
   "outputs": [],
   "source": [
    "theta = np.zeros([1,8])\n",
    "alpha = 0.01\n",
    "iterations = 1000"
   ]
  },
  {
   "cell_type": "code",
   "execution_count": 4,
   "metadata": {},
   "outputs": [],
   "source": [
    "def gradientDescent(X,Y,theta,it,alpha,lamb):\n",
    "    for i in range(it):\n",
    "        theta = theta - (alpha/len(X)) * np.sum(X * (np.matmul(X, theta.T) - Y) + lamb*np.sign(theta), axis=0) \n",
    "    return theta\n",
    "\n",
    "lamb = 0.01\n",
    "# g = gradientDescent(X_train1,Y_train1,theta,iterations,alpha,lamb)\n",
    "# theta_list = g[0]"
   ]
  },
  {
   "cell_type": "code",
   "execution_count": 5,
   "metadata": {},
   "outputs": [],
   "source": [
    "def predict(X_test,theta_list):\n",
    "    Y_pred=[]\n",
    "    for index,row in X_test.iterrows():\n",
    "        row=list(row)\n",
    "        y1=0\n",
    "        for i in range(1,8):\n",
    "            y1=y1+theta_list[i]*row[i-1]\n",
    "        y1=y1+theta_list[0]\n",
    "        Y_pred.append(y1)\n",
    "    return Y_pred\n",
    "# pred = predict(X_test)"
   ]
  },
  {
   "cell_type": "code",
   "execution_count": 6,
   "metadata": {},
   "outputs": [],
   "source": [
    "def KFolds(k):\n",
    "    kf = KFold(n_splits=k)\n",
    "    mse_train = []\n",
    "    mse_test = []\n",
    "    for train_index, test_index in kf.split(X):\n",
    "#         print(\"TRAIN:\", train_index, \"TEST:\", test_index)\n",
    "        X_train, X_test = X[train_index], X[test_index]\n",
    "        Y_train, Y_test = Y[train_index], Y[test_index]\n",
    "        clf = linear_model.Lasso(alpha=0.01)\n",
    "        clf.fit(X_train, Y_train)\n",
    "\n",
    "        z = np.ones((X_train.shape[0],1), dtype=float64)\n",
    "        X_train = np.append(z,X_train,axis=1)\n",
    "        Y_train = Y_train.reshape(Y_train.shape[0],1)\n",
    "\n",
    "        g = gradientDescent(X_train,Y_train,theta,iterations,alpha,lamb)\n",
    "        theta_list = g[0]\n",
    "#         print theta_list\n",
    "#         print \n",
    "#         print(clf.intercept_)  \n",
    "#         print(clf.coef_)\n",
    "#         print \n",
    "#         print\n",
    "\n",
    "        X_test = pd.DataFrame(X_test)\n",
    "        pred = predict(X_test,theta_list)\n",
    "        mse_test.append(mean_squared_error(pred,Y_test))\n",
    "        \n",
    "        X_train = pd.DataFrame(X_train)\n",
    "        pred = predict(X_train,theta_list)\n",
    "        mse_train.append(mean_squared_error(pred,Y_train))\n",
    "    return sum(mse_test) / len(mse_test), sum(mse_train) / len(mse_train) "
   ]
  },
  {
   "cell_type": "code",
   "execution_count": 7,
   "metadata": {},
   "outputs": [
    {
     "name": "stdout",
     "output_type": "stream",
     "text": [
      "for k= 2  mse on test =  0.004094975394923045  mse on train =  0.008047101426706301\n",
      "for k= 3  mse on test =  0.0040279890200014806  mse on train =  0.00787382626668405\n",
      "for k= 4  mse on test =  0.004028369115227851  mse on train =  0.007866999610228072\n",
      "for k= 5  mse on test =  0.004015653947012743  mse on train =  0.007824311432657107\n",
      "for k= 6  mse on test =  0.004006436783423248  mse on train =  0.00783263604119621\n",
      "for k= 7  mse on test =  0.004010506083242339  mse on train =  0.007831829781603359\n",
      "for k= 8  mse on test =  0.004018595778619165  mse on train =  0.007837247371877024\n",
      "for k= 9  mse on test =  0.004013305003989613  mse on train =  0.007830007504049575\n",
      "for k= 10  mse on test =  0.004033620177729699  mse on train =  0.007829647132570346\n",
      "for k= 11  mse on test =  0.004028747559409545  mse on train =  0.007835728061859277\n",
      "for k= 12  mse on test =  0.004006395840789302  mse on train =  0.007832303595172636\n",
      "for k= 13  mse on test =  0.003989188399685867  mse on train =  0.007830276936601852\n",
      "for k= 14  mse on test =  0.00401415560983393  mse on train =  0.007830270037305019\n",
      "for k= 15  mse on test =  0.004013609207202033  mse on train =  0.007828977588435941\n"
     ]
    }
   ],
   "source": [
    "for i in xrange(2,16):\n",
    "    mse_test, mse_train = KFolds(i)\n",
    "    print \"for k=\",i,\" mse on test = \",mse_test,\" mse on train = \",mse_train\n"
   ]
  },
  {
   "cell_type": "code",
   "execution_count": 8,
   "metadata": {},
   "outputs": [
    {
     "name": "stdout",
     "output_type": "stream",
     "text": [
      "leave one out : \n",
      "for k= 450  mse on test =  0.004046384420772772  mse on train =  0.007828103444295567\n"
     ]
    }
   ],
   "source": [
    "print \"leave one out : \"\n",
    "mse_test, mse_train = KFolds(n)\n",
    "print \"for k=\",n,\" mse on test = \",mse_test,\" mse on train = \",mse_train\n"
   ]
  },
  {
   "cell_type": "markdown",
   "metadata": {},
   "source": [
    "###### splitting data in training and validation"
   ]
  },
  {
   "cell_type": "code",
   "execution_count": 9,
   "metadata": {},
   "outputs": [],
   "source": [
    "# X_train_c, X_test_c, Y_train_c, Y_test_c = train_test_split(X_copy, Y_copy, test_size=0.2)"
   ]
  },
  {
   "cell_type": "markdown",
   "metadata": {},
   "source": [
    "###### using inbuilt linear regression model"
   ]
  },
  {
   "cell_type": "raw",
   "metadata": {},
   "source": [
    "regressor=LinearRegression()\n",
    "regressor.fit(X_train,Y_train)\n",
    "pred = regressor.predict(X_test)\n",
    "inbuilt_coeff = []\n",
    "inbuilt_coeff.append(regressor.intercept_)\n",
    "inbuilt_coeff.append(list(regressor.coef_))\n",
    "# print(regressor.coef_)\n",
    "# print(regressor.intercept_)\n",
    "print inbuilt_coeff"
   ]
  },
  {
   "cell_type": "raw",
   "metadata": {},
   "source": [
    "# clf = linear_model.Lasso(alpha=0.01)\n",
    "# clf.fit(X_train_c, Y_train_c)\n",
    "# pred = clf.predict(X_test_c)\n",
    "\n",
    "X_train_c = X_train_c.values\n",
    "Y_train_c = Y_train_c.values\n",
    "z = np.ones((X_train_c.shape[0],1), dtype=float64)\n",
    "X_train_c = np.append(z,X_train_c,axis=1)\n",
    "Y_train_c = Y_train_c.reshape(Y_train_c.shape[0],1)\n",
    "\n",
    "\n",
    "theta = np.zeros([1,8])\n",
    "alpha = 0.01\n",
    "iterations = 1000\n",
    "\n",
    "g = gradientDescent(X_train_c,Y_train_c,theta,iterations,alpha,lamb)\n",
    "theta_list = g[0]\n",
    "pred = predict(X_test_c,theta_list)\n",
    "\n",
    "print r2_score(pred,Y_test_c)"
   ]
  },
  {
   "cell_type": "markdown",
   "metadata": {},
   "source": [
    "###### appending a column of ones at the beginning"
   ]
  },
  {
   "cell_type": "raw",
   "metadata": {},
   "source": [
    "X_train1 = X_train.reset_index(drop=True)\n",
    "Y_train1 = Y_train.reset_index(drop=True)\n",
    "\n",
    "ones = pd.DataFrame(1,index=np.arange(X_train.shape[0]),columns=[\"ones\"])\n",
    "X_train1 = pd.concat([ones, X_train1],axis=1)\n",
    "X_train1 = np.array(X_train1)\n",
    "Y_train1 = np.array(Y_train1).reshape(X_train1.shape[0],1)"
   ]
  },
  {
   "cell_type": "markdown",
   "metadata": {},
   "source": [
    "###### initializing parameters for gradient descent"
   ]
  },
  {
   "cell_type": "markdown",
   "metadata": {},
   "source": [
    "###### method to calculate values of theta using gradient descent"
   ]
  },
  {
   "cell_type": "raw",
   "metadata": {},
   "source": [
    "print theta_list\n",
    "\n",
    "print(clf.intercept_)  \n",
    "print(clf.coef_)"
   ]
  },
  {
   "cell_type": "markdown",
   "metadata": {},
   "source": [
    "###### method to predict values for test_data"
   ]
  },
  {
   "cell_type": "code",
   "execution_count": 11,
   "metadata": {},
   "outputs": [],
   "source": [
    "# print theta_list\n",
    "# print r2_score(list(Y_test),pred)"
   ]
  },
  {
   "cell_type": "raw",
   "metadata": {},
   "source": [
    "lamb = 0.01\n",
    "lamb_list = []\n",
    "train_error = []\n",
    "test_error = []\n",
    "sys_train_error = []\n",
    "sys_test_error = []\n",
    "flag=1\n",
    "while lamb < 10000:\n",
    "    print lamb\n",
    "    g = gradientDescent(X_train1,Y_train1,theta,iterations,alpha,lamb)\n",
    "    theta_list = g[0]\n",
    "    \n",
    "    clf = linear_model.Lasso(alpha=lamb)\n",
    "    clf.fit(X_train, Y_train)\n",
    "    \n",
    "    pred = clf.predict(X_test)\n",
    "    sys_test_err = mean_squared_error(Y_test, pred)\n",
    "    sys_test_error.append(sys_test_err)\n",
    "    \n",
    "    pred = clf.predict(X_train)\n",
    "    sys_train_err = mean_squared_error(Y_train, pred)\n",
    "    sys_train_error.append(sys_train_err)\n",
    "    \n",
    "    pred = predict(X_test)\n",
    "    test_err = mean_squared_error(Y_test, pred)\n",
    "    test_error.append(test_err)\n",
    "    \n",
    "    pred = predict(X_train)\n",
    "    train_err = mean_squared_error(Y_train, pred)\n",
    "    train_error.append(train_err)\n",
    "    \n",
    "    lamb_list.append(lamb)\n",
    "    lamb*=2\n",
    "#     if lamb > -5 and flag==1:\n",
    "#         lamb=0.01\n",
    "#         flag=0\n",
    "#     if lamb>=0:\n",
    "#         lamb*=2\n",
    "#     else:\n",
    "#         lamb/=2\n",
    "    \n",
    "    \n",
    "print len(lamb_list)\n",
    "print len(test_error)\n",
    "print len(train_error)"
   ]
  },
  {
   "cell_type": "raw",
   "metadata": {},
   "source": [
    "fig,ax = plt.subplots()\n",
    "ax.plot(lamb_list, sys_train_error, label=\"train error\")\n",
    "ax.plot(lamb_list, sys_test_error, label=\"test error\")\n",
    "ax.legend()\n",
    "ax.set_xlabel(\"lambda\")\n",
    "ax.set_ylabel(\"error\")\n",
    "ax.set_title(\"system : lambda vs error\")\n",
    "show()"
   ]
  },
  {
   "cell_type": "raw",
   "metadata": {},
   "source": [
    "fig,ax = plt.subplots()\n",
    "ax.plot(lamb_list, train_error, label=\"train error\")\n",
    "ax.plot(lamb_list, test_error, label=\"test error\")\n",
    "ax.legend()\n",
    "ax.set_xlabel(\"lambda\")\n",
    "ax.set_ylabel(\"error\")\n",
    "ax.set_title(\"my model : lambda vs error\")\n",
    "show()"
   ]
  },
  {
   "cell_type": "markdown",
   "metadata": {},
   "source": [
    "###### testing from file"
   ]
  },
  {
   "cell_type": "raw",
   "metadata": {},
   "source": [
    "def test_function():\n",
    "    test_file = sys.argv[1]\n",
    "    df = pd.read_csv(test_file)\n",
    "    return predict(df)\n",
    "\n",
    "print test_function()"
   ]
  },
  {
   "cell_type": "code",
   "execution_count": null,
   "metadata": {},
   "outputs": [],
   "source": []
  }
 ],
 "metadata": {
  "kernelspec": {
   "display_name": "Python 2",
   "language": "python",
   "name": "python2"
  },
  "language_info": {
   "codemirror_mode": {
    "name": "ipython",
    "version": 2
   },
   "file_extension": ".py",
   "mimetype": "text/x-python",
   "name": "python",
   "nbconvert_exporter": "python",
   "pygments_lexer": "ipython2",
   "version": "2.7.15rc1"
  }
 },
 "nbformat": 4,
 "nbformat_minor": 2
}
