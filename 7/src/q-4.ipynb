{
 "cells": [
  {
   "cell_type": "markdown",
   "metadata": {},
   "source": [
    "## q-4\n",
    "Analyse how the two different regularisation techniques affect regression weights in\n",
    "terms of their values and what are the differences between the two"
   ]
  },
  {
   "cell_type": "code",
   "execution_count": null,
   "metadata": {},
   "outputs": [],
   "source": []
  },
  {
   "cell_type": "markdown",
   "metadata": {},
   "source": [
    "* In ridge regression, the cost function is altered by adding a penalty equivalent to square of the magnitude of the thetas.\n",
    "\n",
    "* The penalty term (lambda) regularizes the thetas such that if the thetas take large values the optimization function is penalized. So, ridge regression shrinks the thetas and it helps to reduce the model complexity.\n",
    "\n",
    "* For low value of lambda, when the thetas are less restricted, the magnitudes of the thetas are almost same as of linear regression. For higher value of lambda, we see that magnitudes of theta are considerably less compared to linear regression case."
   ]
  },
  {
   "cell_type": "code",
   "execution_count": null,
   "metadata": {},
   "outputs": [],
   "source": []
  },
  {
   "cell_type": "markdown",
   "metadata": {},
   "source": [
    "* In Lasso, the difference is instead of taking the square of the thetas, magnitudes are taken into account. This can lead to thetas going down to 0 i.e. some of the features are completely neglected for the evaluation of output. So Lasso regression not only helps in reducing over-fitting but it can help us in feature selection."
   ]
  },
  {
   "cell_type": "code",
   "execution_count": null,
   "metadata": {},
   "outputs": [],
   "source": []
  }
 ],
 "metadata": {
  "kernelspec": {
   "display_name": "Python 2",
   "language": "python",
   "name": "python2"
  },
  "language_info": {
   "codemirror_mode": {
    "name": "ipython",
    "version": 2
   },
   "file_extension": ".py",
   "mimetype": "text/x-python",
   "name": "python",
   "nbconvert_exporter": "python",
   "pygments_lexer": "ipython2",
   "version": "2.7.15rc1"
  }
 },
 "nbformat": 4,
 "nbformat_minor": 2
}
