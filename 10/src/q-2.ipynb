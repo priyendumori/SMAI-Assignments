{
 "cells": [
  {
   "cell_type": "code",
   "execution_count": 1,
   "metadata": {},
   "outputs": [
    {
     "name": "stderr",
     "output_type": "stream",
     "text": [
      "Using TensorFlow backend.\n"
     ]
    }
   ],
   "source": [
    "import numpy as np\n",
    "import matplotlib.pyplot as plt\n",
    "import pandas as pd\n",
    "from pandas import datetime\n",
    "import math, time\n",
    "import itertools\n",
    "from sklearn import preprocessing\n",
    "import datetime\n",
    "from operator import itemgetter\n",
    "from sklearn.metrics import mean_squared_error\n",
    "from math import sqrt\n",
    "from keras.models import Sequential\n",
    "from keras.layers.core import Dense, Dropout, Activation\n",
    "from keras.layers.recurrent import LSTM\n",
    "from hmmlearn.hmm import GaussianHMM\n",
    "from sklearn.model_selection import train_test_split"
   ]
  },
  {
   "cell_type": "code",
   "execution_count": 2,
   "metadata": {},
   "outputs": [],
   "source": [
    "sequence = \"CTTCATGTGAAAGCAGACGTAAGTCA\"\n",
    "state_path = \"EEEEEEEEEEEEEEEEEE5IIIIIII$\""
   ]
  },
  {
   "cell_type": "code",
   "execution_count": 3,
   "metadata": {},
   "outputs": [],
   "source": [
    "emission_prob = {\n",
    "                    (\"E\",\"A\"):0.25,\n",
    "                    ('E','C'):0.25,\n",
    "                    (\"E\",\"G\"):0.25,\n",
    "                    (\"E\",\"T\"):0.25,\n",
    "    \n",
    "                    (\"5\",\"A\"):0.05,\n",
    "                    (\"5\",\"C\"):0,\n",
    "                    (\"5\",\"G\"):0.95,\n",
    "                    (\"5\",\"T\"):0,\n",
    "                    \n",
    "                    (\"I\",\"A\"):0.4,\n",
    "                    (\"I\",\"C\"):0.1,\n",
    "                    (\"I\",\"G\"):0.1,\n",
    "                    (\"I\",\"T\"):0.4\n",
    "    \n",
    "                }\n",
    "transition_prob = {\n",
    "                    (\"start\",\"E\"):1,\n",
    "                    (\"E\",\"E\"):0.9,\n",
    "                    (\"E\",\"5\"):0.1,\n",
    "                    (\"5\",\"I\"):1,\n",
    "                    (\"I\",\"I\"):0.9,\n",
    "                    (\"I\",\"$\"):0.1\n",
    "                  }\n"
   ]
  },
  {
   "cell_type": "code",
   "execution_count": 4,
   "metadata": {},
   "outputs": [],
   "source": [
    "prob = transition_prob[(\"start\",\"E\")]"
   ]
  },
  {
   "cell_type": "code",
   "execution_count": 5,
   "metadata": {},
   "outputs": [],
   "source": [
    "\n",
    "for i in xrange(len(sequence)):\n",
    "    state1 = state_path[i]\n",
    "    state2 = state_path[i+1]\n",
    "    seq = sequence[i]\n",
    "    \n",
    "    e = emission_prob[(state1,seq)]\n",
    "    t = transition_prob[(state1, state2)]\n",
    "    \n",
    "    prob *= e*t"
   ]
  },
  {
   "cell_type": "code",
   "execution_count": 6,
   "metadata": {},
   "outputs": [
    {
     "name": "stdout",
     "output_type": "stream",
     "text": [
      "1.25464666093e-18\n"
     ]
    }
   ],
   "source": [
    "print prob"
   ]
  },
  {
   "cell_type": "code",
   "execution_count": 7,
   "metadata": {},
   "outputs": [
    {
     "name": "stdout",
     "output_type": "stream",
     "text": [
      "-41.21967768602254\n"
     ]
    }
   ],
   "source": [
    "print np.log(prob)"
   ]
  },
  {
   "cell_type": "code",
   "execution_count": null,
   "metadata": {},
   "outputs": [],
   "source": []
  }
 ],
 "metadata": {
  "kernelspec": {
   "display_name": "Python 2",
   "language": "python",
   "name": "python2"
  },
  "language_info": {
   "codemirror_mode": {
    "name": "ipython",
    "version": 2
   },
   "file_extension": ".py",
   "mimetype": "text/x-python",
   "name": "python",
   "nbconvert_exporter": "python",
   "pygments_lexer": "ipython2",
   "version": "2.7.15rc1"
  }
 },
 "nbformat": 4,
 "nbformat_minor": 2
}
