{
 "cells": [
  {
   "cell_type": "code",
   "execution_count": 0,
   "metadata": {
    "colab": {},
    "colab_type": "code",
    "id": "WvB4y9vV5UNr"
   },
   "outputs": [],
   "source": [
    "import pandas as pd\n",
    "import numpy as np\n",
    "\n",
    "from scipy.spatial import distance\n",
    "from sklearn.utils import shuffle\n",
    "from sklearn.metrics import accuracy_score\n",
    "from sklearn.preprocessing import StandardScaler\n",
    "from sklearn.metrics import mean_squared_error\n",
    "from sklearn.metrics.pairwise import euclidean_distances\n",
    "\n",
    "from sklearn.cluster import AgglomerativeClustering\n",
    "from sklearn.mixture import GaussianMixture\n",
    "from sklearn.cluster import KMeans\n",
    "\n",
    "import matplotlib.pyplot as plt\n",
    "\n",
    "import io\n",
    "eps = np.finfo(float).eps"
   ]
  },
  {
   "cell_type": "code",
   "execution_count": 2,
   "metadata": {
    "colab": {
     "base_uri": "https://localhost:8080/",
     "height": 54
    },
    "colab_type": "code",
    "id": "fHrbbG-X8yXU",
    "outputId": "0a5a9f77-7df9-4659-e3cb-23c039eb5191"
   },
   "outputs": [
    {
     "name": "stdout",
     "output_type": "stream",
     "text": [
      "Drive already mounted at /content/gdrive; to attempt to forcibly remount, call drive.mount(\"/content/gdrive\", force_remount=True).\n"
     ]
    }
   ],
   "source": [
    "from google.colab import drive\n",
    "drive.mount('/content/gdrive')"
   ]
  },
  {
   "cell_type": "markdown",
   "metadata": {
    "colab_type": "text",
    "id": "Tx8MpTp3x79q"
   },
   "source": [
    "#### read data"
   ]
  },
  {
   "cell_type": "code",
   "execution_count": 0,
   "metadata": {
    "colab": {},
    "colab_type": "code",
    "id": "Khb_zbWw8wWP"
   },
   "outputs": [],
   "source": [
    "data = pd.read_csv('/content/gdrive/My Drive/Colab Notebooks/data.csv')"
   ]
  },
  {
   "cell_type": "markdown",
   "metadata": {
    "colab_type": "text",
    "id": "3PbUT14HyZwS"
   },
   "source": [
    "#### helper functions"
   ]
  },
  {
   "cell_type": "code",
   "execution_count": 0,
   "metadata": {
    "colab": {},
    "colab_type": "code",
    "id": "Ify9W1sAOmiz"
   },
   "outputs": [],
   "source": [
    "def act_fun(function_name, delta,x):\n",
    "    if function_name == \"sigmoid\":\n",
    "        if delta==True:\n",
    "            return delta_sigmoid(x)\n",
    "        else:\n",
    "            return sigmoid(x)\n",
    "        \n",
    "    elif function_name == \"linear\":\n",
    "        if delta==True:\n",
    "            return delta_linear(x)\n",
    "        else:\n",
    "            return linear(x)\n",
    "        \n",
    "def linear(x):\n",
    "    return 0.1*x\n",
    "  \n",
    "def delta_linear(x):\n",
    "#     print x.shape\n",
    "    a = np.empty(x.shape)\n",
    "    a.fill(0.1)\n",
    "#     return np.ones(x.shape)\n",
    "    return a\n",
    "\n",
    "def sigmoid(x):\n",
    "    x=-x\n",
    "    return 1.0 / (1.0 + np.exp(x))\n",
    "  \n",
    "def delta_sigmoid(x):\n",
    "    sig = sigmoid(x)\n",
    "    del_sig = sig * (1.0 - sig)\n",
    "    return del_sig\n",
    "    \n",
    "def delta_mean_square_error(y1, y):\n",
    "    return (y1 - y)\n",
    "  \n",
    "def cross_entropy(predictions, targets, epsilon = 1e-12):\n",
    "    predictions = np.clip(predictions, epsilon, 1.0 - epsilon)\n",
    "    N = predictions.shape[0]\n",
    "    ce = -np.sum(targets * np.log(predictions + 1e-9))/N\n",
    "    return ce\n",
    "\n",
    "def model_acc(model):\n",
    "    model.feed_forward(data)\n",
    "    predicted_y = model.layer_output[-1]\n",
    "    print np.all(np.isfinite(predicted_y)), np.all(np.isfinite(data)) \n",
    "    return np.linalg.norm(data - predicted_y)\n",
    "#     return distance.euclidean(data, predicted_y)"
   ]
  },
  {
   "cell_type": "code",
   "execution_count": 5,
   "metadata": {
    "colab": {
     "base_uri": "https://localhost:8080/",
     "height": 105
    },
    "colab_type": "code",
    "id": "S3WOn_tn-izB",
    "outputId": "0985562b-0b29-4c16-d956-1e83004bd147"
   },
   "outputs": [
    {
     "name": "stderr",
     "output_type": "stream",
     "text": [
      "/usr/local/lib/python2.7/dist-packages/sklearn/preprocessing/data.py:645: DataConversionWarning: Data with input dtype int64, float64 were all converted to float64 by StandardScaler.\n",
      "  return self.partial_fit(X, y)\n",
      "/usr/local/lib/python2.7/dist-packages/sklearn/base.py:464: DataConversionWarning: Data with input dtype int64, float64 were all converted to float64 by StandardScaler.\n",
      "  return self.fit(X, **fit_params).transform(X)\n"
     ]
    }
   ],
   "source": [
    "Y = data.xAttack\n",
    "data = data.drop('xAttack',axis=1)\n",
    "data = StandardScaler().fit_transform(data)\n",
    "# Y = data_train.iloc[:,0]\n",
    "\n",
    "# unique_labels = np.unique(Y).tolist() \n",
    "# Y = one_hot_encode(Y, unique_labels)"
   ]
  },
  {
   "cell_type": "markdown",
   "metadata": {
    "colab_type": "text",
    "id": "MZRAP2Hqi6t_"
   },
   "source": [
    "#### Neural Network class"
   ]
  },
  {
   "cell_type": "code",
   "execution_count": 0,
   "metadata": {
    "colab": {},
    "colab_type": "code",
    "id": "rnicWAq-GBNK"
   },
   "outputs": [],
   "source": [
    "class NeuralNetwork:\n",
    "    def __init__(self,layers, neurons, features, batch_size, epochs, function_name, alpha=0.00001):\n",
    "        \n",
    "        self.weights = np.empty(layers + 1, dtype = object)\n",
    "        for i in range(len(self.weights)):\n",
    "            if i == layers:\n",
    "                self.weights[i] = self.get_random_weights(neurons[i-1],features)\n",
    "            elif i == 0:\n",
    "                self.weights[i] = self.get_random_weights(features,neurons[i])\n",
    "            else:\n",
    "                self.weights[i] = self.get_random_weights(neurons[i-1],neurons[i])\n",
    "        \n",
    "        \n",
    "        self.alpha = alpha\n",
    "        self.layers = layers\n",
    "        self.batch_size = batch_size\n",
    "        self.epochs = epochs\n",
    "        self.function_name = function_name\n",
    "        \n",
    "    \n",
    "    def get_random_weights(self,a,b):\n",
    "        return np.random.uniform(-np.sqrt(2.0 / a),np.sqrt(2.0 / a),(a, b))\n",
    "        \n",
    "    def update_weights(self,X,dw):    \n",
    "        for i in range(layers + 1):\n",
    "            if i == 0:\n",
    "                dot = np.dot(X.T, dw[i])\n",
    "                decrement = self.alpha * dot\n",
    "                self.weights[i] -= decrement\n",
    "            else:\n",
    "                dot = np.dot(self.layer_output[i-1].T, dw[i])\n",
    "                decrement = self.alpha * dot\n",
    "                self.weights[i] -= decrement\n",
    "    \n",
    "    def back_prop(self,X, y):\n",
    "        delta_weights = np.empty(layers + 1, dtype = object)\n",
    "        for i in range(len(self.weights) - 1, -1, -1): \n",
    "            if i == self.layers:\n",
    "                term1 = delta_mean_square_error(self.layer_output[-1], y)\n",
    "                term2 = act_fun(self.function_name, True, self.layer_input[-1])\n",
    "                delta_weights[i] = np.multiply(term1, term2)\n",
    "            else: \n",
    "                term1 = np.dot(delta_weights[i+1], self.weights[i+1].T)\n",
    "                term2 = act_fun(self.function_name,True,self.layer_input[i])\n",
    "                delta_weights[i] = np.multiply(term1, term2)\n",
    "                \n",
    "        self.update_weights(X,delta_weights)    \n",
    "        \n",
    "    \n",
    "    def feed_forward_encode(self,X):\n",
    "        k = (self.layers+2)/2\n",
    "        self.layer_input = np.empty(layers + 1, dtype = object)\n",
    "        self.layer_output = np.empty(layers + 1, dtype = object)\n",
    "        for i in range(k+1):\n",
    "            if i == 0:\n",
    "                self.layer_input[i] = np.dot(X, self.weights[i])\n",
    "                self.layer_output[i] = act_fun(self.function_name, False, self.layer_input[i])\n",
    "            else:\n",
    "                self.layer_input[i] = np.dot(self.layer_output[i - 1], self.weights[i])\n",
    "                self.layer_output[i] = act_fun(self.function_name, False, self.layer_input[i])\n",
    "    \n",
    "    def feed_forward(self,X):\n",
    "        self.layer_input = np.empty(layers + 1, dtype = object)\n",
    "        self.layer_output = np.empty(layers + 1, dtype = object)\n",
    "        for i in range(len(self.weights)):\n",
    "            if i == self.layers:\n",
    "                self.layer_input[i] = np.dot(self.layer_output[i - 1], self.weights[i])\n",
    "                self.layer_output[i] = act_fun(self.function_name,False,self.layer_input[i])\n",
    "            elif i == 0:\n",
    "                self.layer_input[i] = np.dot(X, self.weights[i])\n",
    "                self.layer_output[i] = act_fun(self.function_name, False, self.layer_input[i])\n",
    "            else:\n",
    "                self.layer_input[i] = np.dot(self.layer_output[i - 1], self.weights[i])\n",
    "                self.layer_output[i] = act_fun(self.function_name, False, self.layer_input[i])\n",
    "        \n",
    "    def batch_process(self,index,X,Y):\n",
    "        start = index\n",
    "        end = index + self.batch_size\n",
    "        X_batch, Y_batch = X[start:end], Y[start:end]\n",
    "        self.feed_forward(X_batch)\n",
    "        self.back_prop(X_batch, Y_batch)\n",
    "        ce = cross_entropy(self.layer_output[-1], Y_batch)\n",
    "        return ce\n",
    "    \n",
    "    def train(self,X, y):\n",
    "        for i in range(self.epochs):\n",
    "            cost = 0\n",
    "            for j in range(0, X.shape[0], self.batch_size):\n",
    "                cost += self.batch_process(j,X,y)\n",
    "                \n",
    "            if i%50 == 0:    \n",
    "                print str(i)+\"   \"+str(cost / self.batch_size)\n",
    "            \n",
    "    def test(self,test_x):\n",
    "        k = (self.layers+2)/2\n",
    "        self.feed_forward_encode(test_x)\n",
    "        y_ = self.layer_output[k-1]\n",
    "        return y_\n",
    "                "
   ]
  },
  {
   "cell_type": "markdown",
   "metadata": {
    "colab_type": "text",
    "id": "A8-X9f50jBp_"
   },
   "source": [
    "#### calling neural network with all 3 activation functions"
   ]
  },
  {
   "cell_type": "code",
   "execution_count": 7,
   "metadata": {
    "colab": {
     "base_uri": "https://localhost:8080/",
     "height": 221
    },
    "colab_type": "code",
    "id": "sMHYBjHf8Dkk",
    "outputId": "8918dbbe-619a-4f6f-f3dd-921bf9443bab",
    "scrolled": true
   },
   "outputs": [
    {
     "name": "stdout",
     "output_type": "stream",
     "text": [
      "0   -5.636478515799176\n",
      "50   -15.161893354960863\n",
      "100   -15.164327673319589\n",
      "150   -15.163464271174384\n",
      "200   -15.163133153719006\n",
      "250   -15.163000993570149\n",
      "300   -15.16304324459456\n",
      "350   -15.163185751886223\n",
      "400   -15.163133141537017\n",
      "450   -15.163205815277825\n",
      "True True\n",
      "256.4129930820416\n"
     ]
    }
   ],
   "source": [
    "\n",
    "neurons = [14]\n",
    "layers = len(neurons) \n",
    "batch_size = 500\n",
    "epochs = 500\n",
    "features = 29\n",
    "\n",
    "# running for linear\n",
    "model_l3 = NeuralNetwork(layers, neurons, features, batch_size, epochs, \"linear\", 0.001)\n",
    "model_l3.train(data, data)\n",
    "print model_acc(model_l3)"
   ]
  },
  {
   "cell_type": "code",
   "execution_count": 8,
   "metadata": {
    "colab": {
     "base_uri": "https://localhost:8080/",
     "height": 238
    },
    "colab_type": "code",
    "id": "oOGzMqYs9mKw",
    "outputId": "2fd4c2c3-9933-4e20-db4d-08de7da1ba00"
   },
   "outputs": [
    {
     "name": "stdout",
     "output_type": "stream",
     "text": [
      "   new_dim0  new_dim1  new_dim2  new_dim3  new_dim4  new_dim5  new_dim6  \\\n",
      "0  0.537582 -1.303707  1.096948  0.940862 -0.111438 -0.074145 -0.523509   \n",
      "1  0.702371  2.453477 -0.947554  1.278270 -3.327720 -1.189501  2.045086   \n",
      "2  0.465056 -1.479982  1.067250  0.913703 -0.192759 -0.103572 -0.200336   \n",
      "3  0.196487 -0.959637  0.258596  0.271876 -0.054497 -0.391295 -0.314567   \n",
      "4 -0.941824  1.035037 -0.664420 -2.419959  1.895009  1.011479  0.761811   \n",
      "\n",
      "   new_dim7  new_dim8  new_dim9  new_dim10  new_dim11  new_dim12  new_dim13  \n",
      "0  0.384348 -0.408740 -0.628224  -0.746211  -0.103964   0.059739   1.480181  \n",
      "1  1.426892  0.782931  1.249393   0.943718   1.643884  -0.806552  -1.853636  \n",
      "2  0.449573 -0.234491 -0.701892  -0.611618  -0.221460   0.097382   1.614106  \n",
      "3  0.288622  0.113202 -0.296850  -0.208965  -0.574999   0.492443   0.509816  \n",
      "4 -0.401970  0.066980  1.130629   1.278920   0.567653  -0.550082  -0.944300  \n"
     ]
    }
   ],
   "source": [
    "data_linear_3 = model_l3.test(data)\n",
    "data_linear_3 = pd.DataFrame( data_linear_3, columns=[ \"new_dim\"+str(i) for i in xrange(data_linear_3.shape[1]) ] )\n",
    "print data_linear_3.head()"
   ]
  },
  {
   "cell_type": "code",
   "execution_count": 9,
   "metadata": {
    "colab": {
     "base_uri": "https://localhost:8080/",
     "height": 221
    },
    "colab_type": "code",
    "id": "Y9pw7XK1vfeE",
    "outputId": "dc2df066-3d42-4942-9255-6722fad9dd60"
   },
   "outputs": [
    {
     "name": "stdout",
     "output_type": "stream",
     "text": [
      "0   -0.9080030626254526\n",
      "50   -5.31207957861555\n",
      "100   -5.927730766439738\n",
      "150   -6.257361441999802\n",
      "200   -6.498011173138492\n",
      "250   -6.688677755486561\n",
      "300   -6.8299310484999385\n",
      "350   -6.931956222035512\n",
      "400   -7.010951238555525\n",
      "450   -7.089467871663171\n",
      "True True\n",
      "681.6862455740853\n"
     ]
    }
   ],
   "source": [
    "\n",
    "neurons = [14]\n",
    "layers = len(neurons) \n",
    "batch_size = 500\n",
    "epochs = 500\n",
    "features = 29\n",
    "\n",
    "# running for sigmoid\n",
    "model_nl3 = NeuralNetwork(layers, neurons, features, batch_size, epochs, \"sigmoid\", 0.001)\n",
    "model_nl3.train(data, data)\n",
    "print model_acc(model_nl3)"
   ]
  },
  {
   "cell_type": "code",
   "execution_count": 10,
   "metadata": {
    "colab": {
     "base_uri": "https://localhost:8080/",
     "height": 238
    },
    "colab_type": "code",
    "id": "Y7xEv43NKSGD",
    "outputId": "c63f959b-80dc-48a6-9675-5f5fcdef0a82"
   },
   "outputs": [
    {
     "name": "stdout",
     "output_type": "stream",
     "text": [
      "   new_dim0  new_dim1  new_dim2  new_dim3  new_dim4  new_dim5  new_dim6  \\\n",
      "0  0.139829  0.870189  0.914046  0.473496  0.795263  0.140298  0.880405   \n",
      "1  0.554716  0.003085  0.882892  0.209329  0.000668  0.900286  0.659720   \n",
      "2  0.116137  0.923425  0.922607  0.532624  0.794570  0.168055  0.883412   \n",
      "3  0.659246  0.974057  0.570738  0.698793  0.735136  0.683845  0.902932   \n",
      "4  0.296291  0.026478  0.023054  0.256539  0.956099  0.869270  0.054139   \n",
      "\n",
      "   new_dim7  new_dim8  new_dim9  new_dim10  new_dim11  new_dim12  new_dim13  \n",
      "0  0.706135  0.208531  0.121233   0.645409   0.706233   0.633366   0.750271  \n",
      "1  0.038023  0.963195  0.892203   0.992746   0.000142   0.024066   0.844948  \n",
      "2  0.581080  0.179510  0.141019   0.661123   0.760299   0.530820   0.766448  \n",
      "3  0.559136  0.540866  0.845875   0.532065   0.071136   0.894473   0.429629  \n",
      "4  0.090185  0.920387  0.734961   0.066982   0.980234   0.975012   0.712591  \n"
     ]
    }
   ],
   "source": [
    "data_non_linear_3 = model_nl3.test(data)\n",
    "data_non_linear_3 = pd.DataFrame( data_non_linear_3, columns=[ \"new_dim\"+str(i) for i in xrange(data_non_linear_3.shape[1]) ] )\n",
    "print data_non_linear_3.head()"
   ]
  },
  {
   "cell_type": "code",
   "execution_count": 11,
   "metadata": {
    "colab": {
     "base_uri": "https://localhost:8080/",
     "height": 221
    },
    "colab_type": "code",
    "id": "iK97Z14wK66M",
    "outputId": "bc73547b-a351-4c23-8a1b-8715a0f3d181"
   },
   "outputs": [
    {
     "name": "stdout",
     "output_type": "stream",
     "text": [
      "0   0.0004974498738655608\n",
      "50   6.400951682753764e-05\n",
      "100   6.400951682753764e-05\n",
      "150   6.400951682753764e-05\n",
      "200   6.400951682753764e-05\n",
      "250   6.400951682753764e-05\n",
      "300   6.400951682753764e-05\n",
      "350   6.400951682753764e-05\n",
      "400   6.400951682753764e-05\n",
      "450   6.400951682753764e-05\n",
      "True True\n",
      "851.4352588423759\n"
     ]
    }
   ],
   "source": [
    "\n",
    "neurons = [20,14,20]\n",
    "layers = len(neurons) \n",
    "batch_size = 500\n",
    "epochs = 500\n",
    "features = 29\n",
    "\n",
    "# running for sigmoid and more layers\n",
    "model_nl5 = NeuralNetwork(layers, neurons, features, batch_size, epochs, \"sigmoid\", 0.5)\n",
    "model_nl5.train(data, data)\n",
    "print model_acc(model_nl5)"
   ]
  },
  {
   "cell_type": "code",
   "execution_count": 12,
   "metadata": {
    "colab": {
     "base_uri": "https://localhost:8080/",
     "height": 374
    },
    "colab_type": "code",
    "id": "XywikT4XLMkC",
    "outputId": "7251c540-38ce-467c-f8bb-623b85e450d6"
   },
   "outputs": [
    {
     "name": "stdout",
     "output_type": "stream",
     "text": [
      "(24998, 14)\n",
      "   new_dim0  new_dim1  new_dim2  new_dim3  new_dim4      new_dim5  \\\n",
      "0  0.874552  0.999933  0.001119  0.975437  0.599883  8.584186e-06   \n",
      "1  0.840466  0.999994  0.000093  0.989648  0.378470  3.164617e-07   \n",
      "2  0.876998  0.999943  0.000957  0.977415  0.579947  6.938100e-06   \n",
      "3  0.848537  0.999953  0.000713  0.977973  0.575855  4.217575e-06   \n",
      "4  0.683077  0.999995  0.000071  0.995073  0.539499  8.649886e-08   \n",
      "\n",
      "       new_dim6  new_dim7  new_dim8  new_dim9  new_dim10     new_dim11  \\\n",
      "0  3.902834e-14  0.998770  0.999995  0.999966   0.999991  1.256733e-06   \n",
      "1  1.429454e-16  0.999568  1.000000  0.999991   0.999999  5.249159e-08   \n",
      "2  2.237298e-14  0.998958  0.999996  0.999969   0.999993  1.030066e-06   \n",
      "3  1.425655e-14  0.999055  0.999996  0.999975   0.999995  8.524611e-07   \n",
      "4  1.649064e-17  0.999715  1.000000  0.999998   1.000000  1.857128e-08   \n",
      "\n",
      "   new_dim12     new_dim13  \n",
      "0        1.0  1.260358e-07  \n",
      "1        1.0  6.319510e-09  \n",
      "2        1.0  1.001084e-07  \n",
      "3        1.0  6.137581e-08  \n",
      "4        1.0  9.107553e-10  \n"
     ]
    }
   ],
   "source": [
    "data_non_linear_5 = model_nl5.test(data)\n",
    "print data_non_linear_5.shape\n",
    "data_non_linear_5 = pd.DataFrame( data_non_linear_5, columns=[ \"new_dim\"+str(i) for i in xrange(data_non_linear_5.shape[1]) ] )\n",
    "print data_non_linear_5.head()"
   ]
  },
  {
   "cell_type": "code",
   "execution_count": 0,
   "metadata": {
    "colab": {},
    "colab_type": "code",
    "id": "ryosum_i53Ci"
   },
   "outputs": [],
   "source": []
  },
  {
   "cell_type": "code",
   "execution_count": 0,
   "metadata": {
    "colab": {},
    "colab_type": "code",
    "id": "uLCF1gpb5ih8"
   },
   "outputs": [],
   "source": [
    "def plot_func(purity_dict):\n",
    "    val = []\n",
    "    label = []\n",
    "    for k,v in purity_dict.items():\n",
    "        val.append(v)\n",
    "        label.append(k)\n",
    "\n",
    "    print val,\n",
    "    print label\n",
    "\n",
    "    plt.pie( val, labels = label)\n",
    "    plt.show()"
   ]
  },
  {
   "cell_type": "code",
   "execution_count": 0,
   "metadata": {
    "colab": {},
    "colab_type": "code",
    "id": "HHDyi4sk54Z9"
   },
   "outputs": [],
   "source": [
    "def plot_all():\n",
    "    print \"K means : \"\n",
    "    plot_func(purity_dict_k_means)\n",
    "    print \"GMM : \"\n",
    "    plot_func(purity_dict_gmm)\n",
    "    print \"AGM : \"\n",
    "    plot_func(purity_dict_agm)\n"
   ]
  },
  {
   "cell_type": "code",
   "execution_count": 0,
   "metadata": {
    "colab": {},
    "colab_type": "code",
    "id": "TXDziMGUDvIG"
   },
   "outputs": [],
   "source": [
    "def purity(df,pred_Y,K):\n",
    "    pred_Y = pd.DataFrame( pred_Y,columns=[ 'pred_Y' ] )\n",
    "    df = pd.concat([df, pred_Y],axis=1)\n",
    "    purity_dict = {}\n",
    "    for i in xrange(K):\n",
    "        sub_table = df[ df['pred_Y'] == i ]\n",
    "        label, count = np.unique(sub_table['xAttack'],return_counts=True)\n",
    "        mx_ind = np.argmax(count)\n",
    "        purity_dict[i] = count[mx_ind] / float(len(sub_table))\n",
    "    return purity_dict  \n",
    "\n"
   ]
  },
  {
   "cell_type": "markdown",
   "metadata": {
    "colab_type": "text",
    "id": "tjaZlJtACzG-"
   },
   "source": [
    "using compressed data from 3 layer linear activation autoencoder"
   ]
  },
  {
   "cell_type": "code",
   "execution_count": 0,
   "metadata": {
    "colab": {},
    "colab_type": "code",
    "id": "Vf0YoNMFLtsz"
   },
   "outputs": [],
   "source": [
    "kmeans = KMeans(n_clusters=5, random_state=0).fit(data_linear_3)\n",
    "cluster_k_means = kmeans.labels_"
   ]
  },
  {
   "cell_type": "code",
   "execution_count": 0,
   "metadata": {
    "colab": {},
    "colab_type": "code",
    "id": "MbmmQXRVCrkg"
   },
   "outputs": [],
   "source": [
    "gmm = GaussianMixture(n_components=5).fit(data_linear_3)\n",
    "cluster_gmm =  gmm.predict(data_linear_3)"
   ]
  },
  {
   "cell_type": "code",
   "execution_count": 0,
   "metadata": {
    "colab": {},
    "colab_type": "code",
    "id": "cW68Rtu4CwOg"
   },
   "outputs": [],
   "source": [
    "agm = AgglomerativeClustering(n_clusters=5, affinity='euclidean', linkage='single').fit(data_linear_3)\n",
    "cluster_agm = agm.labels_"
   ]
  },
  {
   "cell_type": "code",
   "execution_count": 19,
   "metadata": {
    "colab": {
     "base_uri": "https://localhost:8080/",
     "height": 122
    },
    "colab_type": "code",
    "id": "jZUmaDgSDr14",
    "outputId": "1dfe2e6a-e07d-4dc2-f6c9-51a9604f9fd1"
   },
   "outputs": [
    {
     "name": "stdout",
     "output_type": "stream",
     "text": [
      "Dimensionality reduced by autoencoder with linear activation and 3 layers\n",
      "\n",
      "k means :  {0: 0.8974595515185921, 1: 0.4603442456969288, 2: 0.9838126896950427, 3: 1.0, 4: 0.8070866141732284}\n",
      "gmm :  {0: 0.5873015873015873, 1: 1.0, 2: 0.4561872909698997, 3: 0.8926121372031662, 4: 0.945010183299389}\n",
      "agm :  {0: 0.5346752571131298, 1: 1.0, 2: 0.6666666666666666, 3: 1.0, 4: 1.0}\n"
     ]
    }
   ],
   "source": [
    "data_linear_3 = pd.concat([data_linear_3, Y], axis=1)\n",
    "\n",
    "purity_dict_k_means = purity(data_linear_3,cluster_k_means,5)\n",
    "purity_dict_gmm = purity(data_linear_3, cluster_gmm ,5)\n",
    "purity_dict_agm = purity(data_linear_3, cluster_agm ,5)\n",
    "\n",
    "print \"Dimensionality reduced by autoencoder with linear activation and 3 layers\"\n",
    "print\n",
    "print \"k means : \",purity_dict_k_means\n",
    "print \"gmm : \",purity_dict_gmm\n",
    "print \"agm : \",purity_dict_agm"
   ]
  },
  {
   "cell_type": "code",
   "execution_count": 20,
   "metadata": {
    "colab": {
     "base_uri": "https://localhost:8080/",
     "height": 1075
    },
    "colab_type": "code",
    "id": "C8v2qQEf5lu-",
    "outputId": "f8c9d67e-7c73-44d4-aa55-0729829dc25c"
   },
   "outputs": [
    {
     "name": "stdout",
     "output_type": "stream",
     "text": [
      "linear activation and 1 layer\n",
      "K means : \n",
      "[0.8974595515185921, 0.4603442456969288, 0.9838126896950427, 1.0, 0.8070866141732284] [0, 1, 2, 3, 4]\n"
     ]
    },
    {
     "data": {
      "image/png": "[encoded data removed]",
      "text/plain": [
       "<Figure size 576x396 with 1 Axes>"
      ]
     },
     "metadata": {
      "tags": []
     },
     "output_type": "display_data"
    },
    {
     "name": "stdout",
     "output_type": "stream",
     "text": [
      "GMM : \n",
      "[0.5873015873015873, 1.0, 0.4561872909698997, 0.8926121372031662, 0.945010183299389] [0, 1, 2, 3, 4]\n"
     ]
    },
    {
     "data": {
      "image/png": "[encoded data removed]",
      "text/plain": [
       "<Figure size 576x396 with 1 Axes>"
      ]
     },
     "metadata": {
      "tags": []
     },
     "output_type": "display_data"
    },
    {
     "name": "stdout",
     "output_type": "stream",
     "text": [
      "AGM : \n",
      "[0.5346752571131298, 1.0, 0.6666666666666666, 1.0, 1.0] [0, 1, 2, 3, 4]\n"
     ]
    },
    {
     "data": {
      "image/png": "[encoded data removed]",
      "text/plain": [
       "<Figure size 576x396 with 1 Axes>"
      ]
     },
     "metadata": {
      "tags": []
     },
     "output_type": "display_data"
    }
   ],
   "source": [
    "print \"linear activation and 1 layer\"\n",
    "plot_all()"
   ]
  },
  {
   "cell_type": "code",
   "execution_count": 0,
   "metadata": {
    "colab": {},
    "colab_type": "code",
    "id": "BqksUfXQFBHP"
   },
   "outputs": [],
   "source": []
  },
  {
   "cell_type": "markdown",
   "metadata": {
    "colab_type": "text",
    "id": "AGttgxUGV5EY"
   },
   "source": [
    "using compressed data from 3 layer non linear activation autoencoder"
   ]
  },
  {
   "cell_type": "code",
   "execution_count": 0,
   "metadata": {
    "colab": {},
    "colab_type": "code",
    "id": "Nmub2Hv2V5gV"
   },
   "outputs": [],
   "source": [
    "kmeans = KMeans(n_clusters=5, random_state=0).fit(data_non_linear_3)\n",
    "cluster_k_means = kmeans.labels_"
   ]
  },
  {
   "cell_type": "code",
   "execution_count": 0,
   "metadata": {
    "colab": {},
    "colab_type": "code",
    "id": "E6NhnkpqV7yh"
   },
   "outputs": [],
   "source": [
    "gmm = GaussianMixture(n_components=5, n_init=10 ).fit(data_non_linear_3)\n",
    "cluster_gmm =  gmm.predict(data_non_linear_3)"
   ]
  },
  {
   "cell_type": "code",
   "execution_count": 0,
   "metadata": {
    "colab": {},
    "colab_type": "code",
    "id": "61EJj7eBV-eL"
   },
   "outputs": [],
   "source": [
    "agm = AgglomerativeClustering(n_clusters=5, affinity='euclidean', linkage='single').fit(data_non_linear_3)\n",
    "cluster_agm = agm.labels_"
   ]
  },
  {
   "cell_type": "code",
   "execution_count": 24,
   "metadata": {
    "colab": {
     "base_uri": "https://localhost:8080/",
     "height": 122
    },
    "colab_type": "code",
    "id": "C3WoKhzrWCdu",
    "outputId": "74dc0ffa-c9bd-48b2-a860-2d82efdd4451"
   },
   "outputs": [
    {
     "name": "stdout",
     "output_type": "stream",
     "text": [
      "Dimensionality reduced by autoencoder with non linear activation and 3 layers\n",
      "\n",
      "k means :  {0: 0.7194169703279542, 1: 0.9862258953168044, 2: 0.677145612343298, 3: 0.9863579474342928, 4: 0.4569051580698835}\n",
      "gmm :  {0: 1.0, 1: 1.0, 2: 0.5538399024786672, 3: 0.853287641893339, 4: 0.5485021398002853}\n",
      "agm :  {0: 0.5346083059934384, 1: 1.0, 2: 1.0, 3: 1.0, 4: 1.0}\n"
     ]
    }
   ],
   "source": [
    "data_non_linear_3 = pd.concat([data_non_linear_3, Y], axis=1)\n",
    "\n",
    "purity_dict_k_means = purity(data_non_linear_3,cluster_k_means,5)\n",
    "purity_dict_gmm = purity(data_non_linear_3, cluster_gmm ,5)\n",
    "purity_dict_agm = purity(data_non_linear_3, cluster_agm ,5)\n",
    "\n",
    "print \"Dimensionality reduced by autoencoder with non linear activation and 3 layers\"\n",
    "print\n",
    "print \"k means : \",purity_dict_k_means\n",
    "print \"gmm : \",purity_dict_gmm\n",
    "print \"agm : \",purity_dict_agm"
   ]
  },
  {
   "cell_type": "code",
   "execution_count": 25,
   "metadata": {
    "colab": {
     "base_uri": "https://localhost:8080/",
     "height": 1095
    },
    "colab_type": "code",
    "id": "lN0-kWqM5_OE",
    "outputId": "76a799ea-ee24-4351-b50d-b99fe5222b05"
   },
   "outputs": [
    {
     "name": "stdout",
     "output_type": "stream",
     "text": [
      "non linear activation and 1 layer\n",
      "K means : \n",
      "[0.7194169703279542, 0.9862258953168044, 0.677145612343298, 0.9863579474342928, 0.4569051580698835] [0, 1, 2, 3, 4]\n"
     ]
    },
    {
     "data": {
      "image/png": "[encoded data removed]",
      "text/plain": [
       "<Figure size 576x396 with 1 Axes>"
      ]
     },
     "metadata": {
      "tags": []
     },
     "output_type": "display_data"
    },
    {
     "name": "stdout",
     "output_type": "stream",
     "text": [
      "GMM : \n",
      "[1.0, 1.0, 0.5538399024786672, 0.853287641893339, 0.5485021398002853] [0, 1, 2, 3, 4]\n"
     ]
    },
    {
     "data": {
      "image/png": "[encoded data removed]",
      "text/plain": [
       "<Figure size 576x396 with 1 Axes>"
      ]
     },
     "metadata": {
      "tags": []
     },
     "output_type": "display_data"
    },
    {
     "name": "stdout",
     "output_type": "stream",
     "text": [
      "AGM : \n",
      "[0.5346083059934384, 1.0, 1.0, 1.0, 1.0] [0, 1, 2, 3, 4]\n"
     ]
    },
    {
     "data": {
      "image/png": "[encoded data removed]",
      "text/plain": [
       "<Figure size 576x396 with 1 Axes>"
      ]
     },
     "metadata": {
      "tags": []
     },
     "output_type": "display_data"
    }
   ],
   "source": [
    "print \"non linear activation and 1 layer\"\n",
    "plot_all()"
   ]
  },
  {
   "cell_type": "code",
   "execution_count": 0,
   "metadata": {
    "colab": {},
    "colab_type": "code",
    "id": "LBHX-pLcWCZb"
   },
   "outputs": [],
   "source": []
  },
  {
   "cell_type": "markdown",
   "metadata": {
    "colab_type": "text",
    "id": "sCMEaPD9WhqQ"
   },
   "source": [
    "using compressed data from 5 layer non linear activation autoencoder"
   ]
  },
  {
   "cell_type": "code",
   "execution_count": 0,
   "metadata": {
    "colab": {},
    "colab_type": "code",
    "id": "YFdHQRwLWoP0"
   },
   "outputs": [],
   "source": [
    "kmeans = KMeans(n_clusters=5, random_state=0).fit(data_non_linear_5)\n",
    "cluster_k_means = kmeans.labels_"
   ]
  },
  {
   "cell_type": "code",
   "execution_count": 0,
   "metadata": {
    "colab": {},
    "colab_type": "code",
    "id": "iE30lKh-Wvlo"
   },
   "outputs": [],
   "source": [
    "gmm = GaussianMixture(n_components=5, n_init=10 ).fit(data_non_linear_5)\n",
    "cluster_gmm =  gmm.predict(data_non_linear_5)"
   ]
  },
  {
   "cell_type": "code",
   "execution_count": 0,
   "metadata": {
    "colab": {},
    "colab_type": "code",
    "id": "cTnfNQ1yWyGi"
   },
   "outputs": [],
   "source": [
    "agm = AgglomerativeClustering(n_clusters=5, affinity='euclidean', linkage='single').fit(data_non_linear_5)\n",
    "cluster_agm = agm.labels_"
   ]
  },
  {
   "cell_type": "code",
   "execution_count": 29,
   "metadata": {
    "colab": {
     "base_uri": "https://localhost:8080/",
     "height": 122
    },
    "colab_type": "code",
    "id": "20gmwqVoW0vA",
    "outputId": "48bd5403-e594-4268-f9a4-90ff488d0494"
   },
   "outputs": [
    {
     "name": "stdout",
     "output_type": "stream",
     "text": [
      "Dimensionality reduced by autoencoder with non linear activation and 3 layers\n",
      "\n",
      "k means :  {0: 0.8736600306278713, 1: 0.9175964511359054, 2: 0.5108614232209738, 3: 0.7275, 4: 0.8476034412126178}\n",
      "gmm :  {0: 0.9899793692897141, 1: 0.8772204806687566, 2: 0.5760135135135135, 3: 0.7379652605459057, 4: 0.6971119981216248}\n",
      "agm :  {0: 0.5344379077120103, 1: 1.0, 2: 1.0, 3: 1.0, 4: 1.0}\n"
     ]
    }
   ],
   "source": [
    "data_non_linear_5 = pd.concat([data_non_linear_5, Y], axis=1)\n",
    "\n",
    "purity_dict_k_means = purity(data_non_linear_5,cluster_k_means,5)\n",
    "purity_dict_gmm = purity(data_non_linear_5, cluster_gmm ,5)\n",
    "purity_dict_agm = purity(data_non_linear_5, cluster_agm ,5)\n",
    "\n",
    "print \"Dimensionality reduced by autoencoder with non linear activation and 3 layers\"\n",
    "print\n",
    "print \"k means : \",purity_dict_k_means\n",
    "print \"gmm : \",purity_dict_gmm\n",
    "print \"agm : \",purity_dict_agm"
   ]
  },
  {
   "cell_type": "code",
   "execution_count": 30,
   "metadata": {
    "colab": {
     "base_uri": "https://localhost:8080/",
     "height": 1095
    },
    "colab_type": "code",
    "id": "SgQlwfVb6Azs",
    "outputId": "66f81c6a-e12a-41bd-9eff-3e02dfa00513"
   },
   "outputs": [
    {
     "name": "stdout",
     "output_type": "stream",
     "text": [
      "non linear activation and 3 layer\n",
      "K means : \n",
      "[0.8736600306278713, 0.9175964511359054, 0.5108614232209738, 0.7275, 0.8476034412126178] [0, 1, 2, 3, 4]\n"
     ]
    },
    {
     "data": {
      "image/png": "[encoded data removed]",
      "text/plain": [
       "<Figure size 576x396 with 1 Axes>"
      ]
     },
     "metadata": {
      "tags": []
     },
     "output_type": "display_data"
    },
    {
     "name": "stdout",
     "output_type": "stream",
     "text": [
      "GMM : \n",
      "[0.9899793692897141, 0.8772204806687566, 0.5760135135135135, 0.7379652605459057, 0.6971119981216248] [0, 1, 2, 3, 4]\n"
     ]
    },
    {
     "data": {
      "image/png": "[encoded data removed]",
      "text/plain": [
       "<Figure size 576x396 with 1 Axes>"
      ]
     },
     "metadata": {
      "tags": []
     },
     "output_type": "display_data"
    },
    {
     "name": "stdout",
     "output_type": "stream",
     "text": [
      "AGM : \n",
      "[0.5344379077120103, 1.0, 1.0, 1.0, 1.0] [0, 1, 2, 3, 4]\n"
     ]
    },
    {
     "data": {
      "image/png": "[encoded data removed]",
      "text/plain": [
       "<Figure size 576x396 with 1 Axes>"
      ]
     },
     "metadata": {
      "tags": []
     },
     "output_type": "display_data"
    }
   ],
   "source": [
    "print \"non linear activation and 3 layer\"\n",
    "plot_all()"
   ]
  },
  {
   "cell_type": "code",
   "execution_count": 0,
   "metadata": {
    "colab": {},
    "colab_type": "code",
    "id": "QBF4ZT2Mgrh7"
   },
   "outputs": [],
   "source": []
  }
 ],
 "metadata": {
  "accelerator": "GPU",
  "colab": {
   "collapsed_sections": [],
   "name": "q-1.ipynb",
   "provenance": [],
   "toc_visible": true,
   "version": "0.3.2"
  },
  "kernelspec": {
   "display_name": "Python 2",
   "language": "python",
   "name": "python2"
  },
  "language_info": {
   "codemirror_mode": {
    "name": "ipython",
    "version": 2
   },
   "file_extension": ".py",
   "mimetype": "text/x-python",
   "name": "python",
   "nbconvert_exporter": "python",
   "pygments_lexer": "ipython2",
   "version": "2.7.15rc1"
  }
 },
 "nbformat": 4,
 "nbformat_minor": 1
}
