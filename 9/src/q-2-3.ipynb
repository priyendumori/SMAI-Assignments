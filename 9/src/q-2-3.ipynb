{
 "cells": [
  {
   "cell_type": "code",
   "execution_count": 1,
   "metadata": {},
   "outputs": [],
   "source": [
    "import pandas as pd\n",
    "import numpy as np\n",
    "from sklearn.datasets import load_digits\n",
    "from sklearn.preprocessing import StandardScaler\n",
    "from sklearn.decomposition import PCA\n",
    "from sklearn.cluster import AgglomerativeClustering\n",
    "import matplotlib.pyplot as plt\n",
    "from sklearn.mixture import GaussianMixture as GMM\n",
    "from sklearn.cluster import KMeans\n",
    "from sklearn.neighbors import KernelDensity\n",
    "from sklearn.model_selection import GridSearchCV"
   ]
  },
  {
   "cell_type": "code",
   "execution_count": 2,
   "metadata": {},
   "outputs": [
    {
     "name": "stdout",
     "output_type": "stream",
     "text": [
      "(1797, 64)\n",
      "        0    1     2     3     4     5     6    7    8     9  ...    54   55  \\\n",
      "0     0.0  0.0   5.0  13.0   9.0   1.0   0.0  0.0  0.0   0.0  ...   0.0  0.0   \n",
      "1     0.0  0.0   0.0  12.0  13.0   5.0   0.0  0.0  0.0   0.0  ...   0.0  0.0   \n",
      "2     0.0  0.0   0.0   4.0  15.0  12.0   0.0  0.0  0.0   0.0  ...   5.0  0.0   \n",
      "3     0.0  0.0   7.0  15.0  13.0   1.0   0.0  0.0  0.0   8.0  ...   9.0  0.0   \n",
      "4     0.0  0.0   0.0   1.0  11.0   0.0   0.0  0.0  0.0   0.0  ...   0.0  0.0   \n",
      "5     0.0  0.0  12.0  10.0   0.0   0.0   0.0  0.0  0.0   0.0  ...   4.0  0.0   \n",
      "6     0.0  0.0   0.0  12.0  13.0   0.0   0.0  0.0  0.0   0.0  ...   8.0  0.0   \n",
      "7     0.0  0.0   7.0   8.0  13.0  16.0  15.0  1.0  0.0   0.0  ...   0.0  0.0   \n",
      "8     0.0  0.0   9.0  14.0   8.0   1.0   0.0  0.0  0.0   0.0  ...   8.0  0.0   \n",
      "9     0.0  0.0  11.0  12.0   0.0   0.0   0.0  0.0  0.0   2.0  ...   4.0  0.0   \n",
      "10    0.0  0.0   1.0   9.0  15.0  11.0   0.0  0.0  0.0   0.0  ...   0.0  0.0   \n",
      "11    0.0  0.0   0.0   0.0  14.0  13.0   1.0  0.0  0.0   0.0  ...   0.0  0.0   \n",
      "12    0.0  0.0   5.0  12.0   1.0   0.0   0.0  0.0  0.0   0.0  ...   8.0  2.0   \n",
      "13    0.0  2.0   9.0  15.0  14.0   9.0   3.0  0.0  0.0   4.0  ...   6.0  0.0   \n",
      "14    0.0  0.0   0.0   8.0  15.0   1.0   0.0  0.0  0.0   0.0  ...   0.0  0.0   \n",
      "15    0.0  5.0  12.0  13.0  16.0  16.0   2.0  0.0  0.0  11.0  ...   0.0  0.0   \n",
      "16    0.0  0.0   0.0   8.0  15.0   1.0   0.0  0.0  0.0   0.0  ...  16.0  2.0   \n",
      "17    0.0  0.0   1.0   8.0  15.0  10.0   0.0  0.0  0.0   3.0  ...   0.0  0.0   \n",
      "18    0.0  0.0  10.0   7.0  13.0   9.0   0.0  0.0  0.0   0.0  ...   0.0  0.0   \n",
      "19    0.0  0.0   6.0  14.0   4.0   0.0   0.0  0.0  0.0   0.0  ...  16.0  2.0   \n",
      "20    0.0  0.0   3.0  13.0  11.0   7.0   0.0  0.0  0.0   0.0  ...   1.0  0.0   \n",
      "21    0.0  0.0   0.0   2.0  16.0  16.0   2.0  0.0  0.0   0.0  ...   2.0  0.0   \n",
      "22    0.0  0.0   8.0  16.0   5.0   0.0   0.0  0.0  0.0   1.0  ...   3.0  0.0   \n",
      "23    0.0  1.0   8.0  12.0  15.0  14.0   4.0  0.0  0.0   3.0  ...   0.0  0.0   \n",
      "24    0.0  0.0   0.0   0.0  12.0   2.0   0.0  0.0  0.0   0.0  ...   0.0  0.0   \n",
      "25    0.0  0.0  12.0   8.0   8.0   7.0   0.0  0.0  0.0   3.0  ...   0.0  0.0   \n",
      "26    0.0  0.0   1.0  13.0  14.0   3.0   0.0  0.0  0.0   0.0  ...  12.0  0.0   \n",
      "27    0.0  0.0   0.0   8.0  14.0  14.0   2.0  0.0  0.0   0.0  ...   0.0  0.0   \n",
      "28    0.0  0.0  10.0  11.0   4.0   0.0   0.0  0.0  0.0   0.0  ...   0.0  0.0   \n",
      "29    0.0  0.0   9.0  13.0   7.0   0.0   0.0  0.0  0.0   0.0  ...  16.0  2.0   \n",
      "...   ...  ...   ...   ...   ...   ...   ...  ...  ...   ...  ...   ...  ...   \n",
      "1767  0.0  0.0   0.0   2.0  16.0   1.0   0.0  0.0  0.0   0.0  ...   0.0  0.0   \n",
      "1768  0.0  0.0   5.0  16.0  10.0   0.0   0.0  0.0  0.0   0.0  ...   5.0  0.0   \n",
      "1769  0.0  0.0   9.0  12.0  14.0   6.0   0.0  0.0  0.0   0.0  ...   2.0  0.0   \n",
      "1770  0.0  2.0  10.0  12.0  16.0   8.0   0.0  0.0  0.0   4.0  ...   5.0  0.0   \n",
      "1771  0.0  0.0   0.0   6.0  12.0   6.0   0.0  0.0  0.0   0.0  ...  12.0  0.0   \n",
      "1772  0.0  0.0   5.0  14.0  11.0   8.0   0.0  0.0  0.0   4.0  ...   0.0  0.0   \n",
      "1773  0.0  0.0   2.0  13.0  10.0   0.0   0.0  0.0  0.0   0.0  ...  12.0  0.0   \n",
      "1774  0.0  0.0   6.0  12.0  12.0   6.0   0.0  0.0  0.0   0.0  ...   0.0  0.0   \n",
      "1775  0.0  0.0   6.0  16.0  16.0   3.0   0.0  0.0  0.0   0.0  ...   0.0  0.0   \n",
      "1776  0.0  0.0  12.0  16.0  16.0   7.0   0.0  0.0  0.0   3.0  ...   7.0  0.0   \n",
      "1777  0.0  0.0   0.0   2.0  14.0   0.0   0.0  0.0  0.0   0.0  ...   0.0  0.0   \n",
      "1778  0.0  0.0   0.0   1.0  13.0   8.0   0.0  0.0  0.0   0.0  ...   0.0  0.0   \n",
      "1779  0.0  0.0   3.0  10.0  16.0  16.0   4.0  0.0  0.0   0.0  ...   0.0  0.0   \n",
      "1780  0.0  3.0  14.0  15.0   6.0   0.0   0.0  0.0  0.0   7.0  ...   6.0  0.0   \n",
      "1781  0.0  0.0  10.0  16.0  14.0   5.0   0.0  0.0  0.0   2.0  ...   1.0  0.0   \n",
      "1782  0.0  1.0  10.0  13.0   2.0   0.0   0.0  0.0  0.0  10.0  ...  13.0  0.0   \n",
      "1783  0.0  0.0  15.0  13.0   1.0   0.0   0.0  0.0  0.0   0.0  ...  14.0  0.0   \n",
      "1784  0.0  0.0   1.0  10.0  14.0  13.0   1.0  0.0  0.0   0.0  ...   2.0  0.0   \n",
      "1785  0.0  1.0  10.0  16.0  15.0   2.0   0.0  0.0  0.0   1.0  ...   0.0  0.0   \n",
      "1786  0.0  0.0   4.0  14.0  15.0   6.0   0.0  0.0  0.0   5.0  ...   6.0  0.0   \n",
      "1787  0.0  0.0  10.0  16.0  15.0   1.0   0.0  0.0  0.0   0.0  ...   3.0  0.0   \n",
      "1788  0.0  0.0   0.0   1.0  12.0   6.0   0.0  0.0  0.0   0.0  ...   0.0  0.0   \n",
      "1789  0.0  0.0   8.0  16.0   3.0   0.0   1.0  0.0  0.0   0.0  ...   0.0  0.0   \n",
      "1790  0.0  0.0   5.0  12.0   8.0   0.0   1.0  0.0  0.0   0.0  ...   0.0  0.0   \n",
      "1791  0.0  0.0   0.0   3.0  15.0   4.0   0.0  0.0  0.0   0.0  ...   0.0  0.0   \n",
      "1792  0.0  0.0   4.0  10.0  13.0   6.0   0.0  0.0  0.0   1.0  ...   4.0  0.0   \n",
      "1793  0.0  0.0   6.0  16.0  13.0  11.0   1.0  0.0  0.0   0.0  ...   1.0  0.0   \n",
      "1794  0.0  0.0   1.0  11.0  15.0   1.0   0.0  0.0  0.0   0.0  ...   0.0  0.0   \n",
      "1795  0.0  0.0   2.0  10.0   7.0   0.0   0.0  0.0  0.0   0.0  ...   2.0  0.0   \n",
      "1796  0.0  0.0  10.0  14.0   8.0   1.0   0.0  0.0  0.0   2.0  ...   8.0  0.0   \n",
      "\n",
      "       56   57    58    59    60    61    62   63  \n",
      "0     0.0  0.0   6.0  13.0  10.0   0.0   0.0  0.0  \n",
      "1     0.0  0.0   0.0  11.0  16.0  10.0   0.0  0.0  \n",
      "2     0.0  0.0   0.0   3.0  11.0  16.0   9.0  0.0  \n",
      "3     0.0  0.0   7.0  13.0  13.0   9.0   0.0  0.0  \n",
      "4     0.0  0.0   0.0   2.0  16.0   4.0   0.0  0.0  \n",
      "5     0.0  0.0   9.0  16.0  16.0  10.0   0.0  0.0  \n",
      "6     0.0  0.0   1.0   9.0  15.0  11.0   3.0  0.0  \n",
      "7     0.0  0.0  13.0   5.0   0.0   0.0   0.0  0.0  \n",
      "8     0.0  0.0  11.0  16.0  15.0  11.0   1.0  0.0  \n",
      "9     0.0  0.0   9.0  12.0  13.0   3.0   0.0  0.0  \n",
      "10    0.0  0.0   1.0  10.0  13.0   3.0   0.0  0.0  \n",
      "11    0.0  0.0   0.0   1.0  13.0  16.0   1.0  0.0  \n",
      "12    0.0  0.0   3.0  11.0   8.0  13.0  12.0  4.0  \n",
      "13    0.0  2.0  12.0  12.0  13.0  11.0   0.0  0.0  \n",
      "14    0.0  0.0   0.0  10.0  15.0   4.0   0.0  0.0  \n",
      "15    0.0  4.0  15.0  16.0   2.0   0.0   0.0  0.0  \n",
      "16    0.0  0.0   0.0   7.0  15.0  16.0  11.0  0.0  \n",
      "17    0.0  0.0   0.0  11.0   9.0   0.0   0.0  0.0  \n",
      "18    0.0  0.0  11.0  14.0   5.0   0.0   0.0  0.0  \n",
      "19    0.0  0.0   7.0  16.0  16.0  13.0  11.0  1.0  \n",
      "20    0.0  0.0   2.0  12.0  13.0   4.0   0.0  0.0  \n",
      "21    0.0  0.0   0.0   2.0  12.0  15.0   4.0  0.0  \n",
      "22    0.0  0.0   7.0  12.0  12.0  12.0  13.0  1.0  \n",
      "23    0.0  0.0  14.0  15.0  11.0   2.0   0.0  0.0  \n",
      "24    0.0  0.0   0.0   0.0  12.0   8.0   0.0  0.0  \n",
      "25    0.0  0.0  11.0  14.0   9.0   0.0   0.0  0.0  \n",
      "26    0.0  0.0   3.0  12.0  15.0  14.0   7.0  0.0  \n",
      "27    0.0  0.0   0.0  12.0  13.0   1.0   0.0  0.0  \n",
      "28    0.0  0.0   8.0  14.0   7.0   1.0   0.0  0.0  \n",
      "29    0.0  0.0   7.0  12.0  12.0  12.0  11.0  0.0  \n",
      "...   ...  ...   ...   ...   ...   ...   ...  ...  \n",
      "1767  0.0  0.0   0.0   3.0  16.0   7.0   0.0  0.0  \n",
      "1768  0.0  0.0   4.0  15.0  16.0   8.0   1.0  0.0  \n",
      "1769  0.0  0.0  12.0  14.0   9.0   2.0   0.0  0.0  \n",
      "1770  0.0  2.0  14.0  16.0  12.0   9.0   0.0  0.0  \n",
      "1771  0.0  0.0   0.0   6.0  11.0  12.0   5.0  0.0  \n",
      "1772  0.0  0.0   7.0  15.0  12.0   5.0   0.0  0.0  \n",
      "1773  0.0  0.0   1.0  12.0  16.0  14.0   4.0  0.0  \n",
      "1774  0.0  0.0   2.0  11.0  10.0   4.0   0.0  0.0  \n",
      "1775  0.0  0.0  11.0  11.0   0.0   0.0   0.0  0.0  \n",
      "1776  0.0  0.0  10.0  12.0  12.0   4.0   0.0  0.0  \n",
      "1777  0.0  0.0   0.0   1.0  13.0   3.0   0.0  0.0  \n",
      "1778  0.0  0.0   0.0   0.0  15.0   7.0   0.0  0.0  \n",
      "1779  0.0  0.0   3.0  12.0   0.0   0.0   0.0  0.0  \n",
      "1780  0.0  4.0  15.0  13.0  12.0  11.0   1.0  0.0  \n",
      "1781  0.0  1.0  11.0  16.0  15.0   6.0   0.0  0.0  \n",
      "1782  0.0  0.0   9.0  13.0  11.0  10.0   9.0  0.0  \n",
      "1783  0.0  0.0  10.0  13.0  10.0   6.0   2.0  0.0  \n",
      "1784  0.0  0.0   0.0  12.0  14.0   4.0   0.0  0.0  \n",
      "1785  0.0  0.0  10.0  15.0   2.0   0.0   0.0  0.0  \n",
      "1786  0.0  0.0   4.0  13.0  15.0   9.0   0.0  0.0  \n",
      "1787  0.0  0.0   6.0  13.0  10.0   4.0   0.0  0.0  \n",
      "1788  0.0  0.0   0.0   0.0  14.0   9.0   0.0  0.0  \n",
      "1789  0.0  0.0  10.0  16.0  10.0   1.0   0.0  0.0  \n",
      "1790  0.0  0.0   6.0  12.0  12.0   3.0   0.0  0.0  \n",
      "1791  0.0  0.0   0.0   1.0  16.0   4.0   0.0  0.0  \n",
      "1792  0.0  0.0   2.0  14.0  15.0   9.0   0.0  0.0  \n",
      "1793  0.0  0.0   6.0  16.0  14.0   6.0   0.0  0.0  \n",
      "1794  0.0  0.0   2.0   9.0  13.0   6.0   0.0  0.0  \n",
      "1795  0.0  0.0   5.0  12.0  16.0  12.0   0.0  0.0  \n",
      "1796  0.0  1.0   8.0  12.0  14.0  12.0   1.0  0.0  \n",
      "\n",
      "[1797 rows x 64 columns]\n",
      "        0         1         2         3         4         5         6  \\\n",
      "0     0.0 -0.335016 -0.043081  0.274072 -0.664478 -0.844129 -0.409724   \n",
      "1     0.0 -0.335016 -1.094937  0.038648  0.268751 -0.138020 -0.409724   \n",
      "2     0.0 -0.335016 -1.094937 -1.844742  0.735366  1.097673 -0.409724   \n",
      "3     0.0 -0.335016  0.377661  0.744919  0.268751 -0.844129 -0.409724   \n",
      "4     0.0 -0.335016 -1.094937 -2.551014 -0.197863 -1.020657 -0.409724   \n",
      "5     0.0 -0.335016  1.429517 -0.432200 -2.764242 -1.020657 -0.409724   \n",
      "6     0.0 -0.335016 -1.094937  0.038648  0.268751 -1.020657 -0.409724   \n",
      "7     0.0 -0.335016  0.377661 -0.903047  0.268751  1.803783  4.101758   \n",
      "8     0.0 -0.335016  0.798404  0.509495 -0.897785 -0.844129 -0.409724   \n",
      "9     0.0 -0.335016  1.219146  0.038648 -2.764242 -1.020657 -0.409724   \n",
      "10    0.0 -0.335016 -0.884566 -0.667624  0.735366  0.921145 -0.409724   \n",
      "11    0.0 -0.335016 -1.094937 -2.786437  0.502058  1.274200 -0.108958   \n",
      "12    0.0 -0.335016 -0.043081  0.038648 -2.530935 -1.020657 -0.409724   \n",
      "13    0.0  1.870202  0.798404  0.744919  0.502058  0.568090  0.492573   \n",
      "14    0.0 -0.335016 -1.094937 -0.903047  0.735366 -0.844129 -0.409724   \n",
      "15    0.0  5.178030  1.429517  0.274072  0.968673  1.803783  0.191807   \n",
      "16    0.0 -0.335016 -1.094937 -0.903047  0.735366 -0.844129 -0.409724   \n",
      "17    0.0 -0.335016 -0.884566 -0.903047  0.735366  0.744618 -0.409724   \n",
      "18    0.0 -0.335016  1.008775 -1.138471  0.268751  0.568090 -0.409724   \n",
      "19    0.0 -0.335016  0.167290  0.509495 -1.831013 -1.020657 -0.409724   \n",
      "20    0.0 -0.335016 -0.463823  0.274072 -0.197863  0.215035 -0.409724   \n",
      "21    0.0 -0.335016 -1.094937 -2.315590  0.968673  1.803783  0.191807   \n",
      "22    0.0 -0.335016  0.588032  0.980343 -1.597706 -1.020657 -0.409724   \n",
      "23    0.0  0.767593  0.588032  0.038648  0.735366  1.450728  0.793338   \n",
      "24    0.0 -0.335016 -1.094937 -2.786437  0.035444 -0.667602 -0.409724   \n",
      "25    0.0 -0.335016  1.429517 -0.903047 -0.897785  0.215035 -0.409724   \n",
      "26    0.0 -0.335016 -0.884566  0.274072  0.502058 -0.491074 -0.409724   \n",
      "27    0.0 -0.335016 -1.094937 -0.903047  0.502058  1.450728  0.191807   \n",
      "28    0.0 -0.335016  1.008775 -0.196776 -1.831013 -1.020657 -0.409724   \n",
      "29    0.0 -0.335016  0.798404  0.274072 -1.131092 -1.020657 -0.409724   \n",
      "...   ...       ...       ...       ...       ...       ...       ...   \n",
      "1767  0.0 -0.335016 -1.094937 -2.315590  0.968673 -0.844129 -0.409724   \n",
      "1768  0.0 -0.335016 -0.043081  0.980343 -0.431170 -1.020657 -0.409724   \n",
      "1769  0.0 -0.335016  0.798404  0.038648  0.502058  0.038508 -0.409724   \n",
      "1770  0.0  1.870202  1.008775  0.038648  0.968673  0.391563 -0.409724   \n",
      "1771  0.0 -0.335016 -1.094937 -1.373895  0.035444  0.038508 -0.409724   \n",
      "1772  0.0 -0.335016 -0.043081  0.509495 -0.197863  0.391563 -0.409724   \n",
      "1773  0.0 -0.335016 -0.674195  0.274072 -0.431170 -1.020657 -0.409724   \n",
      "1774  0.0 -0.335016  0.167290  0.038648  0.035444  0.038508 -0.409724   \n",
      "1775  0.0 -0.335016  0.167290  0.980343  0.968673 -0.491074 -0.409724   \n",
      "1776  0.0 -0.335016  1.429517  0.980343  0.968673  0.215035 -0.409724   \n",
      "1777  0.0 -0.335016 -1.094937 -2.315590  0.502058 -1.020657 -0.409724   \n",
      "1778  0.0 -0.335016 -1.094937 -2.551014  0.268751  0.391563 -0.409724   \n",
      "1779  0.0 -0.335016 -0.463823 -0.432200  0.968673  1.803783  0.793338   \n",
      "1780  0.0  2.972811  1.850259  0.744919 -1.364399 -1.020657 -0.409724   \n",
      "1781  0.0 -0.335016  1.008775  0.980343  0.502058 -0.138020 -0.409724   \n",
      "1782  0.0  0.767593  1.008775  0.274072 -2.297628 -1.020657 -0.409724   \n",
      "1783  0.0 -0.335016  2.060631  0.274072 -2.530935 -1.020657 -0.409724   \n",
      "1784  0.0 -0.335016 -0.884566 -0.432200  0.502058  1.274200 -0.108958   \n",
      "1785  0.0  0.767593  1.008775  0.980343  0.735366 -0.667602 -0.409724   \n",
      "1786  0.0 -0.335016 -0.253452  0.509495  0.735366  0.038508 -0.409724   \n",
      "1787  0.0 -0.335016  1.008775  0.980343  0.735366 -0.844129 -0.409724   \n",
      "1788  0.0 -0.335016 -1.094937 -2.551014  0.035444  0.038508 -0.409724   \n",
      "1789  0.0 -0.335016  0.588032  0.980343 -2.064321 -1.020657 -0.108958   \n",
      "1790  0.0 -0.335016 -0.043081  0.038648 -0.897785 -1.020657 -0.108958   \n",
      "1791  0.0 -0.335016 -1.094937 -2.080166  0.735366 -0.314547 -0.409724   \n",
      "1792  0.0 -0.335016 -0.253452 -0.432200  0.268751  0.038508 -0.409724   \n",
      "1793  0.0 -0.335016  0.167290  0.980343  0.268751  0.921145 -0.108958   \n",
      "1794  0.0 -0.335016 -0.884566 -0.196776  0.735366 -0.844129 -0.409724   \n",
      "1795  0.0 -0.335016 -0.674195 -0.432200 -1.131092 -1.020657 -0.409724   \n",
      "1796  0.0 -0.335016  1.008775  0.509495 -0.897785 -0.844129 -0.409724   \n",
      "\n",
      "             7         8         9  ...        54        55        56  \\\n",
      "0    -0.125023 -0.059078 -0.624009  ... -0.757436 -0.209785 -0.023596   \n",
      "1    -0.125023 -0.059078 -0.624009  ... -0.757436 -0.209785 -0.023596   \n",
      "2    -0.125023 -0.059078 -0.624009  ...  0.259230 -0.209785 -0.023596   \n",
      "3    -0.125023 -0.059078  1.879691  ...  1.072563 -0.209785 -0.023596   \n",
      "4    -0.125023 -0.059078 -0.624009  ... -0.757436 -0.209785 -0.023596   \n",
      "5    -0.125023 -0.059078 -0.624009  ...  0.055897 -0.209785 -0.023596   \n",
      "6    -0.125023 -0.059078 -0.624009  ...  0.869229 -0.209785 -0.023596   \n",
      "7     0.839210 -0.059078 -0.624009  ... -0.757436 -0.209785 -0.023596   \n",
      "8    -0.125023 -0.059078 -0.624009  ...  0.869229 -0.209785 -0.023596   \n",
      "9    -0.125023 -0.059078  0.001916  ...  0.055897 -0.209785 -0.023596   \n",
      "10   -0.125023 -0.059078 -0.624009  ... -0.757436 -0.209785 -0.023596   \n",
      "11   -0.125023 -0.059078 -0.624009  ... -0.757436 -0.209785 -0.023596   \n",
      "12   -0.125023 -0.059078 -0.624009  ...  0.869229  1.822473 -0.023596   \n",
      "13   -0.125023 -0.059078  0.627841  ...  0.462563 -0.209785 -0.023596   \n",
      "14   -0.125023 -0.059078 -0.624009  ... -0.757436 -0.209785 -0.023596   \n",
      "15   -0.125023 -0.059078  2.818578  ... -0.757436 -0.209785 -0.023596   \n",
      "16   -0.125023 -0.059078 -0.624009  ...  2.495895  1.822473 -0.023596   \n",
      "17   -0.125023 -0.059078  0.314878  ... -0.757436 -0.209785 -0.023596   \n",
      "18   -0.125023 -0.059078 -0.624009  ... -0.757436 -0.209785 -0.023596   \n",
      "19   -0.125023 -0.059078 -0.624009  ...  2.495895  1.822473 -0.023596   \n",
      "20   -0.125023 -0.059078 -0.624009  ... -0.554103 -0.209785 -0.023596   \n",
      "21   -0.125023 -0.059078 -0.624009  ... -0.350769 -0.209785 -0.023596   \n",
      "22   -0.125023 -0.059078 -0.311047  ... -0.147436 -0.209785 -0.023596   \n",
      "23   -0.125023 -0.059078  0.314878  ... -0.757436 -0.209785 -0.023596   \n",
      "24   -0.125023 -0.059078 -0.624009  ... -0.757436 -0.209785 -0.023596   \n",
      "25   -0.125023 -0.059078  0.314878  ... -0.757436 -0.209785 -0.023596   \n",
      "26   -0.125023 -0.059078 -0.624009  ...  1.682562 -0.209785 -0.023596   \n",
      "27   -0.125023 -0.059078 -0.624009  ... -0.757436 -0.209785 -0.023596   \n",
      "28   -0.125023 -0.059078 -0.624009  ... -0.757436 -0.209785 -0.023596   \n",
      "29   -0.125023 -0.059078 -0.624009  ...  2.495895  1.822473 -0.023596   \n",
      "...        ...       ...       ...  ...       ...       ...       ...   \n",
      "1767 -0.125023 -0.059078 -0.624009  ... -0.757436 -0.209785 -0.023596   \n",
      "1768 -0.125023 -0.059078 -0.624009  ...  0.259230 -0.209785 -0.023596   \n",
      "1769 -0.125023 -0.059078 -0.624009  ... -0.350769 -0.209785 -0.023596   \n",
      "1770 -0.125023 -0.059078  0.627841  ...  0.259230 -0.209785 -0.023596   \n",
      "1771 -0.125023 -0.059078 -0.624009  ...  1.682562 -0.209785 -0.023596   \n",
      "1772 -0.125023 -0.059078  0.627841  ... -0.757436 -0.209785 -0.023596   \n",
      "1773 -0.125023 -0.059078 -0.624009  ...  1.682562 -0.209785 -0.023596   \n",
      "1774 -0.125023 -0.059078 -0.624009  ... -0.757436 -0.209785 -0.023596   \n",
      "1775 -0.125023 -0.059078 -0.624009  ... -0.757436 -0.209785 -0.023596   \n",
      "1776 -0.125023 -0.059078  0.314878  ...  0.665896 -0.209785 -0.023596   \n",
      "1777 -0.125023 -0.059078 -0.624009  ... -0.757436 -0.209785 -0.023596   \n",
      "1778 -0.125023 -0.059078 -0.624009  ... -0.757436 -0.209785 -0.023596   \n",
      "1779 -0.125023 -0.059078 -0.624009  ... -0.757436 -0.209785 -0.023596   \n",
      "1780 -0.125023 -0.059078  1.566728  ...  0.462563 -0.209785 -0.023596   \n",
      "1781 -0.125023 -0.059078  0.001916  ... -0.554103 -0.209785 -0.023596   \n",
      "1782 -0.125023 -0.059078  2.505616  ...  1.885895 -0.209785 -0.023596   \n",
      "1783 -0.125023 -0.059078 -0.624009  ...  2.089228 -0.209785 -0.023596   \n",
      "1784 -0.125023 -0.059078 -0.624009  ... -0.350769 -0.209785 -0.023596   \n",
      "1785 -0.125023 -0.059078 -0.311047  ... -0.757436 -0.209785 -0.023596   \n",
      "1786 -0.125023 -0.059078  0.940803  ...  0.462563 -0.209785 -0.023596   \n",
      "1787 -0.125023 -0.059078 -0.624009  ... -0.147436 -0.209785 -0.023596   \n",
      "1788 -0.125023 -0.059078 -0.624009  ... -0.757436 -0.209785 -0.023596   \n",
      "1789 -0.125023 -0.059078 -0.624009  ... -0.757436 -0.209785 -0.023596   \n",
      "1790 -0.125023 -0.059078 -0.624009  ... -0.757436 -0.209785 -0.023596   \n",
      "1791 -0.125023 -0.059078 -0.624009  ... -0.757436 -0.209785 -0.023596   \n",
      "1792 -0.125023 -0.059078 -0.311047  ...  0.055897 -0.209785 -0.023596   \n",
      "1793 -0.125023 -0.059078 -0.624009  ... -0.554103 -0.209785 -0.023596   \n",
      "1794 -0.125023 -0.059078 -0.624009  ... -0.757436 -0.209785 -0.023596   \n",
      "1795 -0.125023 -0.059078 -0.624009  ... -0.350769 -0.209785 -0.023596   \n",
      "1796 -0.125023 -0.059078  0.001916  ...  0.869229 -0.209785 -0.023596   \n",
      "\n",
      "            57        58        59        60        61        62        63  \n",
      "0    -0.299081  0.086719  0.208293 -0.366771 -1.146647 -0.505670 -0.196008  \n",
      "1    -0.299081 -1.089383 -0.249010  0.849632  0.548561 -0.505670 -0.196008  \n",
      "2    -0.299081 -1.089383 -2.078218 -0.164037  1.565686  1.695137 -0.196008  \n",
      "3    -0.299081  0.282736  0.208293  0.241430  0.379040 -0.505670 -0.196008  \n",
      "4    -0.299081 -1.089383 -2.306869  0.849632 -0.468564 -0.505670 -0.196008  \n",
      "5    -0.299081  0.674770  0.894246  0.849632  0.548561 -0.505670 -0.196008  \n",
      "6    -0.299081 -0.893366 -0.706312  0.646898  0.718081  0.227932 -0.196008  \n",
      "7    -0.299081  1.458837 -1.620916 -2.394110 -1.146647 -0.505670 -0.196008  \n",
      "8    -0.299081  1.066804  0.894246  0.646898  0.718081 -0.261136 -0.196008  \n",
      "9    -0.299081  0.674770 -0.020358  0.241430 -0.638085 -0.505670 -0.196008  \n",
      "10   -0.299081 -0.893366 -0.477661  0.241430 -0.638085 -0.505670 -0.196008  \n",
      "11   -0.299081 -1.089383 -2.535520  0.241430  1.565686 -0.261136 -0.196008  \n",
      "12   -0.299081 -0.501332 -0.249010 -0.772239  1.057123  2.428739  1.954988  \n",
      "13    1.842150  1.262820 -0.020358  0.241430  0.718081 -0.505670 -0.196008  \n",
      "14   -0.299081 -1.089383 -0.477661  0.646898 -0.468564 -0.505670 -0.196008  \n",
      "15    3.983382  1.850871  0.894246 -1.988642 -1.146647 -0.505670 -0.196008  \n",
      "16   -0.299081 -1.089383 -1.163614  0.646898  1.565686  2.184205 -0.196008  \n",
      "17   -0.299081 -1.089383 -0.249010 -0.569505 -1.146647 -0.505670 -0.196008  \n",
      "18   -0.299081  1.066804  0.436944 -1.380441 -1.146647 -0.505670 -0.196008  \n",
      "19   -0.299081  0.282736  0.894246  0.849632  1.057123  2.184205  0.341741  \n",
      "20   -0.299081 -0.697349 -0.020358  0.241430 -0.468564 -0.505670 -0.196008  \n",
      "21   -0.299081 -1.089383 -2.306869  0.038697  1.396165  0.472467 -0.196008  \n",
      "22   -0.299081  0.282736 -0.020358  0.038697  0.887602  2.673273  0.341741  \n",
      "23   -0.299081  1.654854  0.665595 -0.164037 -0.807606 -0.505670 -0.196008  \n",
      "24   -0.299081 -1.089383 -2.764171  0.038697  0.209519 -0.505670 -0.196008  \n",
      "25   -0.299081  1.066804  0.436944 -0.569505 -1.146647 -0.505670 -0.196008  \n",
      "26   -0.299081 -0.501332 -0.020358  0.646898  1.226644  1.206069 -0.196008  \n",
      "27   -0.299081 -1.089383 -0.020358  0.241430 -0.977127 -0.505670 -0.196008  \n",
      "28   -0.299081  0.478753  0.436944 -0.974973 -0.977127 -0.505670 -0.196008  \n",
      "29   -0.299081  0.282736 -0.020358  0.038697  0.887602  2.184205 -0.196008  \n",
      "...        ...       ...       ...       ...       ...       ...       ...  \n",
      "1767 -0.299081 -1.089383 -2.078218  0.849632  0.039998 -0.505670 -0.196008  \n",
      "1768 -0.299081 -0.305315  0.665595  0.849632  0.209519 -0.261136 -0.196008  \n",
      "1769 -0.299081  1.262820  0.436944 -0.569505 -0.807606 -0.505670 -0.196008  \n",
      "1770  1.842150  1.654854  0.894246  0.038697  0.379040 -0.505670 -0.196008  \n",
      "1771 -0.299081 -1.089383 -1.392265 -0.164037  0.887602  0.717001 -0.196008  \n",
      "1772 -0.299081  0.282736  0.665595  0.038697 -0.299043 -0.505670 -0.196008  \n",
      "1773 -0.299081 -0.893366 -0.020358  0.849632  1.226644  0.472467 -0.196008  \n",
      "1774 -0.299081 -0.697349 -0.249010 -0.366771 -0.468564 -0.505670 -0.196008  \n",
      "1775 -0.299081  1.066804 -0.249010 -2.394110 -1.146647 -0.505670 -0.196008  \n",
      "1776 -0.299081  0.870787 -0.020358  0.038697 -0.468564 -0.505670 -0.196008  \n",
      "1777 -0.299081 -1.089383 -2.535520  0.241430 -0.638085 -0.505670 -0.196008  \n",
      "1778 -0.299081 -1.089383 -2.764171  0.646898  0.039998 -0.505670 -0.196008  \n",
      "1779 -0.299081 -0.501332 -0.020358 -2.394110 -1.146647 -0.505670 -0.196008  \n",
      "1780  3.983382  1.850871  0.208293  0.038697  0.718081 -0.261136 -0.196008  \n",
      "1781  0.771535  1.066804  0.894246  0.646898 -0.129523 -0.505670 -0.196008  \n",
      "1782 -0.299081  0.674770  0.208293 -0.164037  0.548561  1.695137 -0.196008  \n",
      "1783 -0.299081  0.870787  0.208293 -0.366771 -0.129523 -0.016602 -0.196008  \n",
      "1784 -0.299081 -1.089383 -0.020358  0.444164 -0.468564 -0.505670 -0.196008  \n",
      "1785 -0.299081  0.870787  0.665595 -1.988642 -1.146647 -0.505670 -0.196008  \n",
      "1786 -0.299081 -0.305315  0.208293  0.646898  0.379040 -0.505670 -0.196008  \n",
      "1787 -0.299081  0.086719  0.208293 -0.366771 -0.468564 -0.505670 -0.196008  \n",
      "1788 -0.299081 -1.089383 -2.764171  0.444164  0.379040 -0.505670 -0.196008  \n",
      "1789 -0.299081  0.870787  0.894246 -0.366771 -0.977127 -0.505670 -0.196008  \n",
      "1790 -0.299081  0.086719 -0.020358  0.038697 -0.638085 -0.505670 -0.196008  \n",
      "1791 -0.299081 -1.089383 -2.535520  0.849632 -0.468564 -0.505670 -0.196008  \n",
      "1792 -0.299081 -0.697349  0.436944  0.646898  0.379040 -0.505670 -0.196008  \n",
      "1793 -0.299081  0.086719  0.894246  0.444164 -0.129523 -0.505670 -0.196008  \n",
      "1794 -0.299081 -0.697349 -0.706312  0.241430 -0.129523 -0.505670 -0.196008  \n",
      "1795 -0.299081 -0.109298 -0.020358  0.849632  0.887602 -0.505670 -0.196008  \n",
      "1796  0.771535  0.478753 -0.020358  0.444164  0.887602 -0.261136 -0.196008  \n",
      "\n",
      "[1797 rows x 64 columns]\n"
     ]
    }
   ],
   "source": [
    "digits = load_digits()\n",
    "X = digits.data\n",
    "print X.shape\n",
    "X = pd.DataFrame( X,columns=[ str(i) for i in xrange(X.shape[1]) ] )\n",
    "print X\n",
    "X = StandardScaler().fit_transform(X)\n",
    "X = pd.DataFrame( X,columns=[ str(i) for i in xrange(X.shape[1]) ] )\n",
    "print X\n",
    "# cov_x = np.cov(X.T)\n",
    "# cov_x.shape\n",
    "\n",
    "# U,S,V = np.linalg.svd(cov_x)"
   ]
  },
  {
   "cell_type": "code",
   "execution_count": 3,
   "metadata": {},
   "outputs": [],
   "source": [
    "def reduce_dim(no_of_components, digits):\n",
    "    pca = PCA(n_components=no_of_components, whiten=False)\n",
    "    data = pca.fit_transform(digits.data)\n",
    "    \n",
    "    Z_new = pd.DataFrame( data,columns=[ \"pc\"+str(i) for i in xrange(data.shape[1]) ] )\n",
    "    return Z_new, pca"
   ]
  },
  {
   "cell_type": "code",
   "execution_count": 4,
   "metadata": {},
   "outputs": [],
   "source": [
    "Z_1, pca1 = reduce_dim(17, digits)\n",
    "\n",
    "Z_2, pca2 = reduce_dim(26, digits)\n",
    "\n",
    "Z_3, pca3 = reduce_dim(38, digits)"
   ]
  },
  {
   "cell_type": "code",
   "execution_count": 5,
   "metadata": {},
   "outputs": [
    {
     "name": "stdout",
     "output_type": "stream",
     "text": [
      "(1797, 17)\n",
      "(1797, 26)\n",
      "(1797, 38)\n"
     ]
    }
   ],
   "source": [
    "print Z_1.shape\n",
    "print Z_2.shape\n",
    "print Z_3.shape"
   ]
  },
  {
   "cell_type": "code",
   "execution_count": null,
   "metadata": {},
   "outputs": [],
   "source": []
  },
  {
   "cell_type": "code",
   "execution_count": null,
   "metadata": {},
   "outputs": [],
   "source": []
  },
  {
   "cell_type": "code",
   "execution_count": 6,
   "metadata": {},
   "outputs": [],
   "source": [
    "def get_data_from_kde(data, pca):\n",
    "    params = {'bandwidth': np.logspace(-1, 1, 20)}\n",
    "    grid = GridSearchCV(KernelDensity(), params, cv=5)\n",
    "    grid.fit(data)\n",
    "\n",
    "    print(\"best bandwidth: {0}\".format(grid.best_estimator_.bandwidth))\n",
    "\n",
    "    # use the best estimator to compute the kernel density estimate\n",
    "    kde = grid.best_estimator_\n",
    "\n",
    "#     score = kde.score_samples(data)\n",
    "#     print score.shape\n",
    "#     for i in score:\n",
    "#         print i\n",
    "\n",
    "    new_data = kde.sample(48, random_state=0)\n",
    "    new_data = pca.inverse_transform(new_data)\n",
    "    \n",
    "    return new_data"
   ]
  },
  {
   "cell_type": "code",
   "execution_count": 7,
   "metadata": {},
   "outputs": [
    {
     "name": "stdout",
     "output_type": "stream",
     "text": [
      "best bandwidth: 3.79269019073\n"
     ]
    }
   ],
   "source": [
    "kde_Z_1_new = get_data_from_kde(Z_1, pca1)"
   ]
  },
  {
   "cell_type": "code",
   "execution_count": 8,
   "metadata": {},
   "outputs": [
    {
     "name": "stdout",
     "output_type": "stream",
     "text": [
      "best bandwidth: 2.97635144163\n"
     ]
    }
   ],
   "source": [
    "kde_Z_2_new = get_data_from_kde(Z_2, pca2)"
   ]
  },
  {
   "cell_type": "code",
   "execution_count": 9,
   "metadata": {},
   "outputs": [
    {
     "name": "stdout",
     "output_type": "stream",
     "text": [
      "best bandwidth: 2.97635144163\n"
     ]
    }
   ],
   "source": [
    "kde_Z_3_new = get_data_from_kde(Z_3, pca3)"
   ]
  },
  {
   "cell_type": "code",
   "execution_count": 10,
   "metadata": {},
   "outputs": [],
   "source": [
    "def plot_figures(input_data):\n",
    "    for i in xrange(48):\n",
    "        data = input_data[i].reshape((8,8))\n",
    "        arr = np.asarray(data)\n",
    "        plt.figure(figsize=(1,1))\n",
    "        plt.imshow(arr, cmap=plt.cm.binary,interpolation='nearest').set_clim(0,16)\n",
    "        plt.show()\n"
   ]
  },
  {
   "cell_type": "code",
   "execution_count": 11,
   "metadata": {},
   "outputs": [
    {
     "data": {
      "image/png": "[encoded data removed]",
      "text/plain": [
       "<Figure size 72x72 with 1 Axes>"
      ]
     },
     "metadata": {
      "needs_background": "light"
     },
     "output_type": "display_data"
    },
    {
     "data": {
      "image/png": "[encoded data removed]",
      "text/plain": [
       "<Figure size 72x72 with 1 Axes>"
      ]
     },
     "metadata": {
      "needs_background": "light"
     },
     "output_type": "display_data"
    },
    {
     "data": {
      "image/png": "[encoded data removed]",
      "text/plain": [
       "<Figure size 72x72 with 1 Axes>"
      ]
     },
     "metadata": {
      "needs_background": "light"
     },
     "output_type": "display_data"
    },
    {
     "data": {
      "image/png": "[encoded data removed]",
      "text/plain": [
       "<Figure size 72x72 with 1 Axes>"
      ]
     },
     "metadata": {
      "needs_background": "light"
     },
     "output_type": "display_data"
    },
    {
     "data": {
      "image/png": "[encoded data removed]",
      "text/plain": [
       "<Figure size 72x72 with 1 Axes>"
      ]
     },
     "metadata": {
      "needs_background": "light"
     },
     "output_type": "display_data"
    },
    {
     "data": {
      "image/png": "[encoded data removed]",
      "text/plain": [
       "<Figure size 72x72 with 1 Axes>"
      ]
     },
     "metadata": {
      "needs_background": "light"
     },
     "output_type": "display_data"
    },
    {
     "data": {
      "image/png": "[encoded data removed]",
      "text/plain": [
       "<Figure size 72x72 with 1 Axes>"
      ]
     },
     "metadata": {
      "needs_background": "light"
     },
     "output_type": "display_data"
    },
    {
     "data": {
      "image/png": "[encoded data removed]",
      "text/plain": [
       "<Figure size 72x72 with 1 Axes>"
      ]
     },
     "metadata": {
      "needs_background": "light"
     },
     "output_type": "display_data"
    },
    {
     "data": {
      "image/png": "[encoded data removed]",
      "text/plain": [
       "<Figure size 72x72 with 1 Axes>"
      ]
     },
     "metadata": {
      "needs_background": "light"
     },
     "output_type": "display_data"
    },
    {
     "data": {
      "image/png": "[encoded data removed]",
      "text/plain": [
       "<Figure size 72x72 with 1 Axes>"
      ]
     },
     "metadata": {
      "needs_background": "light"
     },
     "output_type": "display_data"
    },
    {
     "data": {
      "image/png": "[encoded data removed]",
      "text/plain": [
       "<Figure size 72x72 with 1 Axes>"
      ]
     },
     "metadata": {
      "needs_background": "light"
     },
     "output_type": "display_data"
    },
    {
     "data": {
      "image/png": "[encoded data removed]",
      "text/plain": [
       "<Figure size 72x72 with 1 Axes>"
      ]
     },
     "metadata": {
      "needs_background": "light"
     },
     "output_type": "display_data"
    },
    {
     "data": {
      "image/png": "[encoded data removed]",
      "text/plain": [
       "<Figure size 72x72 with 1 Axes>"
      ]
     },
     "metadata": {
      "needs_background": "light"
     },
     "output_type": "display_data"
    },
    {
     "data": {
      "image/png": "[encoded data removed]",
      "text/plain": [
       "<Figure size 72x72 with 1 Axes>"
      ]
     },
     "metadata": {
      "needs_background": "light"
     },
     "output_type": "display_data"
    },
    {
     "data": {
      "image/png": "[encoded data removed]",
      "text/plain": [
       "<Figure size 72x72 with 1 Axes>"
      ]
     },
     "metadata": {
      "needs_background": "light"
     },
     "output_type": "display_data"
    },
    {
     "data": {
      "image/png": "[encoded data removed]",
      "text/plain": [
       "<Figure size 72x72 with 1 Axes>"
      ]
     },
     "metadata": {
      "needs_background": "light"
     },
     "output_type": "display_data"
    },
    {
     "data": {
      "image/png": "[encoded data removed]",
      "text/plain": [
       "<Figure size 72x72 with 1 Axes>"
      ]
     },
     "metadata": {
      "needs_background": "light"
     },
     "output_type": "display_data"
    },
    {
     "data": {
      "image/png": "[encoded data removed]",
      "text/plain": [
       "<Figure size 72x72 with 1 Axes>"
      ]
     },
     "metadata": {
      "needs_background": "light"
     },
     "output_type": "display_data"
    },
    {
     "data": {
      "image/png": "[encoded data removed]",
      "text/plain": [
       "<Figure size 72x72 with 1 Axes>"
      ]
     },
     "metadata": {
      "needs_background": "light"
     },
     "output_type": "display_data"
    },
    {
     "data": {
      "image/png": "[encoded data removed]",
      "text/plain": [
       "<Figure size 72x72 with 1 Axes>"
      ]
     },
     "metadata": {
      "needs_background": "light"
     },
     "output_type": "display_data"
    },
    {
     "data": {
      "image/png": "[encoded data removed]",
      "text/plain": [
       "<Figure size 72x72 with 1 Axes>"
      ]
     },
     "metadata": {
      "needs_background": "light"
     },
     "output_type": "display_data"
    },
    {
     "data": {
      "image/png": "[encoded data removed]",
      "text/plain": [
       "<Figure size 72x72 with 1 Axes>"
      ]
     },
     "metadata": {
      "needs_background": "light"
     },
     "output_type": "display_data"
    },
    {
     "data": {
      "image/png": "[encoded data removed]",
      "text/plain": [
       "<Figure size 72x72 with 1 Axes>"
      ]
     },
     "metadata": {
      "needs_background": "light"
     },
     "output_type": "display_data"
    },
    {
     "data": {
      "image/png": "[encoded data removed]",
      "text/plain": [
       "<Figure size 72x72 with 1 Axes>"
      ]
     },
     "metadata": {
      "needs_background": "light"
     },
     "output_type": "display_data"
    },
    {
     "data": {
      "image/png": "[encoded data removed]",
      "text/plain": [
       "<Figure size 72x72 with 1 Axes>"
      ]
     },
     "metadata": {
      "needs_background": "light"
     },
     "output_type": "display_data"
    },
    {
     "data": {
      "image/png": "[encoded data removed]",
      "text/plain": [
       "<Figure size 72x72 with 1 Axes>"
      ]
     },
     "metadata": {
      "needs_background": "light"
     },
     "output_type": "display_data"
    },
    {
     "data": {
      "image/png": "[encoded data removed]",
      "text/plain": [
       "<Figure size 72x72 with 1 Axes>"
      ]
     },
     "metadata": {
      "needs_background": "light"
     },
     "output_type": "display_data"
    },
    {
     "data": {
      "image/png": "[encoded data removed]",
      "text/plain": [
       "<Figure size 72x72 with 1 Axes>"
      ]
     },
     "metadata": {
      "needs_background": "light"
     },
     "output_type": "display_data"
    },
    {
     "data": {
      "image/png": "[encoded data removed]",
      "text/plain": [
       "<Figure size 72x72 with 1 Axes>"
      ]
     },
     "metadata": {
      "needs_background": "light"
     },
     "output_type": "display_data"
    },
    {
     "data": {
      "image/png": "[encoded data removed]",
      "text/plain": [
       "<Figure size 72x72 with 1 Axes>"
      ]
     },
     "metadata": {
      "needs_background": "light"
     },
     "output_type": "display_data"
    },
    {
     "data": {
      "image/png": "[encoded data removed]",
      "text/plain": [
       "<Figure size 72x72 with 1 Axes>"
      ]
     },
     "metadata": {
      "needs_background": "light"
     },
     "output_type": "display_data"
    },
    {
     "data": {
      "image/png": "[encoded data removed]",
      "text/plain": [
       "<Figure size 72x72 with 1 Axes>"
      ]
     },
     "metadata": {
      "needs_background": "light"
     },
     "output_type": "display_data"
    },
    {
     "data": {
      "image/png": "[encoded data removed]",
      "text/plain": [
       "<Figure size 72x72 with 1 Axes>"
      ]
     },
     "metadata": {
      "needs_background": "light"
     },
     "output_type": "display_data"
    },
    {
     "data": {
      "image/png": "[encoded data removed]",
      "text/plain": [
       "<Figure size 72x72 with 1 Axes>"
      ]
     },
     "metadata": {
      "needs_background": "light"
     },
     "output_type": "display_data"
    },
    {
     "data": {
      "image/png": "[encoded data removed]",
      "text/plain": [
       "<Figure size 72x72 with 1 Axes>"
      ]
     },
     "metadata": {
      "needs_background": "light"
     },
     "output_type": "display_data"
    },
    {
     "data": {
      "image/png": "[encoded data removed]",
      "text/plain": [
       "<Figure size 72x72 with 1 Axes>"
      ]
     },
     "metadata": {
      "needs_background": "light"
     },
     "output_type": "display_data"
    },
    {
     "data": {
      "image/png": "[encoded data removed]",
      "text/plain": [
       "<Figure size 72x72 with 1 Axes>"
      ]
     },
     "metadata": {
      "needs_background": "light"
     },
     "output_type": "display_data"
    },
    {
     "data": {
      "image/png": "[encoded data removed]",
      "text/plain": [
       "<Figure size 72x72 with 1 Axes>"
      ]
     },
     "metadata": {
      "needs_background": "light"
     },
     "output_type": "display_data"
    },
    {
     "data": {
      "image/png": "[encoded data removed]",
      "text/plain": [
       "<Figure size 72x72 with 1 Axes>"
      ]
     },
     "metadata": {
      "needs_background": "light"
     },
     "output_type": "display_data"
    },
    {
     "data": {
      "image/png": "[encoded data removed]",
      "text/plain": [
       "<Figure size 72x72 with 1 Axes>"
      ]
     },
     "metadata": {
      "needs_background": "light"
     },
     "output_type": "display_data"
    },
    {
     "data": {
      "image/png": "[encoded data removed]",
      "text/plain": [
       "<Figure size 72x72 with 1 Axes>"
      ]
     },
     "metadata": {
      "needs_background": "light"
     },
     "output_type": "display_data"
    },
    {
     "data": {
      "image/png": "[encoded data removed]",
      "text/plain": [
       "<Figure size 72x72 with 1 Axes>"
      ]
     },
     "metadata": {
      "needs_background": "light"
     },
     "output_type": "display_data"
    },
    {
     "data": {
      "image/png": "[encoded data removed]",
      "text/plain": [
       "<Figure size 72x72 with 1 Axes>"
      ]
     },
     "metadata": {
      "needs_background": "light"
     },
     "output_type": "display_data"
    },
    {
     "data": {
      "image/png": "[encoded data removed]",
      "text/plain": [
       "<Figure size 72x72 with 1 Axes>"
      ]
     },
     "metadata": {
      "needs_background": "light"
     },
     "output_type": "display_data"
    },
    {
     "data": {
      "image/png": "[encoded data removed]",
      "text/plain": [
       "<Figure size 72x72 with 1 Axes>"
      ]
     },
     "metadata": {
      "needs_background": "light"
     },
     "output_type": "display_data"
    },
    {
     "data": {
      "image/png": "[encoded data removed]",
      "text/plain": [
       "<Figure size 72x72 with 1 Axes>"
      ]
     },
     "metadata": {
      "needs_background": "light"
     },
     "output_type": "display_data"
    },
    {
     "data": {
      "image/png": "[encoded data removed]",
      "text/plain": [
       "<Figure size 72x72 with 1 Axes>"
      ]
     },
     "metadata": {
      "needs_background": "light"
     },
     "output_type": "display_data"
    },
    {
     "data": {
      "image/png": "[encoded data removed]",
      "text/plain": [
       "<Figure size 72x72 with 1 Axes>"
      ]
     },
     "metadata": {
      "needs_background": "light"
     },
     "output_type": "display_data"
    }
   ],
   "source": [
    "plot_figures(kde_Z_1_new)"
   ]
  },
  {
   "cell_type": "code",
   "execution_count": 12,
   "metadata": {},
   "outputs": [
    {
     "data": {
      "image/png": "[encoded data removed]",
      "text/plain": [
       "<Figure size 72x72 with 1 Axes>"
      ]
     },
     "metadata": {
      "needs_background": "light"
     },
     "output_type": "display_data"
    },
    {
     "data": {
      "image/png": "[encoded data removed]",
      "text/plain": [
       "<Figure size 72x72 with 1 Axes>"
      ]
     },
     "metadata": {
      "needs_background": "light"
     },
     "output_type": "display_data"
    },
    {
     "data": {
      "image/png": "[encoded data removed]",
      "text/plain": [
       "<Figure size 72x72 with 1 Axes>"
      ]
     },
     "metadata": {
      "needs_background": "light"
     },
     "output_type": "display_data"
    },
    {
     "data": {
      "image/png": "[encoded data removed]",
      "text/plain": [
       "<Figure size 72x72 with 1 Axes>"
      ]
     },
     "metadata": {
      "needs_background": "light"
     },
     "output_type": "display_data"
    },
    {
     "data": {
      "image/png": "[encoded data removed]",
      "text/plain": [
       "<Figure size 72x72 with 1 Axes>"
      ]
     },
     "metadata": {
      "needs_background": "light"
     },
     "output_type": "display_data"
    },
    {
     "data": {
      "image/png": "[encoded data removed]",
      "text/plain": [
       "<Figure size 72x72 with 1 Axes>"
      ]
     },
     "metadata": {
      "needs_background": "light"
     },
     "output_type": "display_data"
    },
    {
     "data": {
      "image/png": "[encoded data removed]",
      "text/plain": [
       "<Figure size 72x72 with 1 Axes>"
      ]
     },
     "metadata": {
      "needs_background": "light"
     },
     "output_type": "display_data"
    },
    {
     "data": {
      "image/png": "[encoded data removed]",
      "text/plain": [
       "<Figure size 72x72 with 1 Axes>"
      ]
     },
     "metadata": {
      "needs_background": "light"
     },
     "output_type": "display_data"
    },
    {
     "data": {
      "image/png": "[encoded data removed]",
      "text/plain": [
       "<Figure size 72x72 with 1 Axes>"
      ]
     },
     "metadata": {
      "needs_background": "light"
     },
     "output_type": "display_data"
    },
    {
     "data": {
      "image/png": "[encoded data removed]",
      "text/plain": [
       "<Figure size 72x72 with 1 Axes>"
      ]
     },
     "metadata": {
      "needs_background": "light"
     },
     "output_type": "display_data"
    },
    {
     "data": {
      "image/png": "[encoded data removed]",
      "text/plain": [
       "<Figure size 72x72 with 1 Axes>"
      ]
     },
     "metadata": {
      "needs_background": "light"
     },
     "output_type": "display_data"
    },
    {
     "data": {
      "image/png": "[encoded data removed]",
      "text/plain": [
       "<Figure size 72x72 with 1 Axes>"
      ]
     },
     "metadata": {
      "needs_background": "light"
     },
     "output_type": "display_data"
    },
    {
     "data": {
      "image/png": "[encoded data removed]",
      "text/plain": [
       "<Figure size 72x72 with 1 Axes>"
      ]
     },
     "metadata": {
      "needs_background": "light"
     },
     "output_type": "display_data"
    },
    {
     "data": {
      "image/png": "[encoded data removed]",
      "text/plain": [
       "<Figure size 72x72 with 1 Axes>"
      ]
     },
     "metadata": {
      "needs_background": "light"
     },
     "output_type": "display_data"
    },
    {
     "data": {
      "image/png": "[encoded data removed]",
      "text/plain": [
       "<Figure size 72x72 with 1 Axes>"
      ]
     },
     "metadata": {
      "needs_background": "light"
     },
     "output_type": "display_data"
    },
    {
     "data": {
      "image/png": "[encoded data removed]",
      "text/plain": [
       "<Figure size 72x72 with 1 Axes>"
      ]
     },
     "metadata": {
      "needs_background": "light"
     },
     "output_type": "display_data"
    },
    {
     "data": {
      "image/png": "[encoded data removed]",
      "text/plain": [
       "<Figure size 72x72 with 1 Axes>"
      ]
     },
     "metadata": {
      "needs_background": "light"
     },
     "output_type": "display_data"
    },
    {
     "data": {
      "image/png": "[encoded data removed]",
      "text/plain": [
       "<Figure size 72x72 with 1 Axes>"
      ]
     },
     "metadata": {
      "needs_background": "light"
     },
     "output_type": "display_data"
    },
    {
     "data": {
      "image/png": "[encoded data removed]",
      "text/plain": [
       "<Figure size 72x72 with 1 Axes>"
      ]
     },
     "metadata": {
      "needs_background": "light"
     },
     "output_type": "display_data"
    },
    {
     "data": {
      "image/png": "[encoded data removed]",
      "text/plain": [
       "<Figure size 72x72 with 1 Axes>"
      ]
     },
     "metadata": {
      "needs_background": "light"
     },
     "output_type": "display_data"
    },
    {
     "data": {
      "image/png": "[encoded data removed]",
      "text/plain": [
       "<Figure size 72x72 with 1 Axes>"
      ]
     },
     "metadata": {
      "needs_background": "light"
     },
     "output_type": "display_data"
    },
    {
     "data": {
      "image/png": "[encoded data removed]",
      "text/plain": [
       "<Figure size 72x72 with 1 Axes>"
      ]
     },
     "metadata": {
      "needs_background": "light"
     },
     "output_type": "display_data"
    },
    {
     "data": {
      "image/png": "[encoded data removed]",
      "text/plain": [
       "<Figure size 72x72 with 1 Axes>"
      ]
     },
     "metadata": {
      "needs_background": "light"
     },
     "output_type": "display_data"
    },
    {
     "data": {
      "image/png": "[encoded data removed]",
      "text/plain": [
       "<Figure size 72x72 with 1 Axes>"
      ]
     },
     "metadata": {
      "needs_background": "light"
     },
     "output_type": "display_data"
    },
    {
     "data": {
      "image/png": "[encoded data removed]",
      "text/plain": [
       "<Figure size 72x72 with 1 Axes>"
      ]
     },
     "metadata": {
      "needs_background": "light"
     },
     "output_type": "display_data"
    },
    {
     "data": {
      "image/png": "[encoded data removed]",
      "text/plain": [
       "<Figure size 72x72 with 1 Axes>"
      ]
     },
     "metadata": {
      "needs_background": "light"
     },
     "output_type": "display_data"
    },
    {
     "data": {
      "image/png": "[encoded data removed]",
      "text/plain": [
       "<Figure size 72x72 with 1 Axes>"
      ]
     },
     "metadata": {
      "needs_background": "light"
     },
     "output_type": "display_data"
    },
    {
     "data": {
      "image/png": "[encoded data removed]",
      "text/plain": [
       "<Figure size 72x72 with 1 Axes>"
      ]
     },
     "metadata": {
      "needs_background": "light"
     },
     "output_type": "display_data"
    },
    {
     "data": {
      "image/png": "[encoded data removed]",
      "text/plain": [
       "<Figure size 72x72 with 1 Axes>"
      ]
     },
     "metadata": {
      "needs_background": "light"
     },
     "output_type": "display_data"
    },
    {
     "data": {
      "image/png": "[encoded data removed]",
      "text/plain": [
       "<Figure size 72x72 with 1 Axes>"
      ]
     },
     "metadata": {
      "needs_background": "light"
     },
     "output_type": "display_data"
    },
    {
     "data": {
      "image/png": "[encoded data removed]",
      "text/plain": [
       "<Figure size 72x72 with 1 Axes>"
      ]
     },
     "metadata": {
      "needs_background": "light"
     },
     "output_type": "display_data"
    },
    {
     "data": {
      "image/png": "[encoded data removed]",
      "text/plain": [
       "<Figure size 72x72 with 1 Axes>"
      ]
     },
     "metadata": {
      "needs_background": "light"
     },
     "output_type": "display_data"
    },
    {
     "data": {
      "image/png": "[encoded data removed]",
      "text/plain": [
       "<Figure size 72x72 with 1 Axes>"
      ]
     },
     "metadata": {
      "needs_background": "light"
     },
     "output_type": "display_data"
    },
    {
     "data": {
      "image/png": "[encoded data removed]",
      "text/plain": [
       "<Figure size 72x72 with 1 Axes>"
      ]
     },
     "metadata": {
      "needs_background": "light"
     },
     "output_type": "display_data"
    },
    {
     "data": {
      "image/png": "[encoded data removed]",
      "text/plain": [
       "<Figure size 72x72 with 1 Axes>"
      ]
     },
     "metadata": {
      "needs_background": "light"
     },
     "output_type": "display_data"
    },
    {
     "data": {
      "image/png": "[encoded data removed]",
      "text/plain": [
       "<Figure size 72x72 with 1 Axes>"
      ]
     },
     "metadata": {
      "needs_background": "light"
     },
     "output_type": "display_data"
    },
    {
     "data": {
      "image/png": "[encoded data removed]",
      "text/plain": [
       "<Figure size 72x72 with 1 Axes>"
      ]
     },
     "metadata": {
      "needs_background": "light"
     },
     "output_type": "display_data"
    },
    {
     "data": {
      "image/png": "[encoded data removed]",
      "text/plain": [
       "<Figure size 72x72 with 1 Axes>"
      ]
     },
     "metadata": {
      "needs_background": "light"
     },
     "output_type": "display_data"
    },
    {
     "data": {
      "image/png": "[encoded data removed]",
      "text/plain": [
       "<Figure size 72x72 with 1 Axes>"
      ]
     },
     "metadata": {
      "needs_background": "light"
     },
     "output_type": "display_data"
    },
    {
     "data": {
      "image/png": "[encoded data removed]",
      "text/plain": [
       "<Figure size 72x72 with 1 Axes>"
      ]
     },
     "metadata": {
      "needs_background": "light"
     },
     "output_type": "display_data"
    },
    {
     "data": {
      "image/png": "[encoded data removed]",
      "text/plain": [
       "<Figure size 72x72 with 1 Axes>"
      ]
     },
     "metadata": {
      "needs_background": "light"
     },
     "output_type": "display_data"
    },
    {
     "data": {
      "image/png": "[encoded data removed]",
      "text/plain": [
       "<Figure size 72x72 with 1 Axes>"
      ]
     },
     "metadata": {
      "needs_background": "light"
     },
     "output_type": "display_data"
    },
    {
     "data": {
      "image/png": "[encoded data removed]",
      "text/plain": [
       "<Figure size 72x72 with 1 Axes>"
      ]
     },
     "metadata": {
      "needs_background": "light"
     },
     "output_type": "display_data"
    },
    {
     "data": {
      "image/png": "[encoded data removed]",
      "text/plain": [
       "<Figure size 72x72 with 1 Axes>"
      ]
     },
     "metadata": {
      "needs_background": "light"
     },
     "output_type": "display_data"
    },
    {
     "data": {
      "image/png": "[encoded data removed]",
      "text/plain": [
       "<Figure size 72x72 with 1 Axes>"
      ]
     },
     "metadata": {
      "needs_background": "light"
     },
     "output_type": "display_data"
    },
    {
     "data": {
      "image/png": "[encoded data removed]",
      "text/plain": [
       "<Figure size 72x72 with 1 Axes>"
      ]
     },
     "metadata": {
      "needs_background": "light"
     },
     "output_type": "display_data"
    },
    {
     "data": {
      "image/png": "[encoded data removed]",
      "text/plain": [
       "<Figure size 72x72 with 1 Axes>"
      ]
     },
     "metadata": {
      "needs_background": "light"
     },
     "output_type": "display_data"
    },
    {
     "data": {
      "image/png": "[encoded data removed]",
      "text/plain": [
       "<Figure size 72x72 with 1 Axes>"
      ]
     },
     "metadata": {
      "needs_background": "light"
     },
     "output_type": "display_data"
    }
   ],
   "source": [
    "plot_figures(kde_Z_2_new)"
   ]
  },
  {
   "cell_type": "code",
   "execution_count": 13,
   "metadata": {},
   "outputs": [
    {
     "data": {
      "image/png": "[encoded data removed]",
      "text/plain": [
       "<Figure size 72x72 with 1 Axes>"
      ]
     },
     "metadata": {
      "needs_background": "light"
     },
     "output_type": "display_data"
    },
    {
     "data": {
      "image/png": "[encoded data removed]",
      "text/plain": [
       "<Figure size 72x72 with 1 Axes>"
      ]
     },
     "metadata": {
      "needs_background": "light"
     },
     "output_type": "display_data"
    },
    {
     "data": {
      "image/png": "[encoded data removed]",
      "text/plain": [
       "<Figure size 72x72 with 1 Axes>"
      ]
     },
     "metadata": {
      "needs_background": "light"
     },
     "output_type": "display_data"
    },
    {
     "data": {
      "image/png": "[encoded data removed]",
      "text/plain": [
       "<Figure size 72x72 with 1 Axes>"
      ]
     },
     "metadata": {
      "needs_background": "light"
     },
     "output_type": "display_data"
    },
    {
     "data": {
      "image/png": "[encoded data removed]",
      "text/plain": [
       "<Figure size 72x72 with 1 Axes>"
      ]
     },
     "metadata": {
      "needs_background": "light"
     },
     "output_type": "display_data"
    },
    {
     "data": {
      "image/png": "[encoded data removed]",
      "text/plain": [
       "<Figure size 72x72 with 1 Axes>"
      ]
     },
     "metadata": {
      "needs_background": "light"
     },
     "output_type": "display_data"
    },
    {
     "data": {
      "image/png": "[encoded data removed]",
      "text/plain": [
       "<Figure size 72x72 with 1 Axes>"
      ]
     },
     "metadata": {
      "needs_background": "light"
     },
     "output_type": "display_data"
    },
    {
     "data": {
      "image/png": "[encoded data removed]",
      "text/plain": [
       "<Figure size 72x72 with 1 Axes>"
      ]
     },
     "metadata": {
      "needs_background": "light"
     },
     "output_type": "display_data"
    },
    {
     "data": {
      "image/png": "[encoded data removed]",
      "text/plain": [
       "<Figure size 72x72 with 1 Axes>"
      ]
     },
     "metadata": {
      "needs_background": "light"
     },
     "output_type": "display_data"
    },
    {
     "data": {
      "image/png": "[encoded data removed]",
      "text/plain": [
       "<Figure size 72x72 with 1 Axes>"
      ]
     },
     "metadata": {
      "needs_background": "light"
     },
     "output_type": "display_data"
    },
    {
     "data": {
      "image/png": "[encoded data removed]",
      "text/plain": [
       "<Figure size 72x72 with 1 Axes>"
      ]
     },
     "metadata": {
      "needs_background": "light"
     },
     "output_type": "display_data"
    },
    {
     "data": {
      "image/png": "[encoded data removed]",
      "text/plain": [
       "<Figure size 72x72 with 1 Axes>"
      ]
     },
     "metadata": {
      "needs_background": "light"
     },
     "output_type": "display_data"
    },
    {
     "data": {
      "image/png": "[encoded data removed]",
      "text/plain": [
       "<Figure size 72x72 with 1 Axes>"
      ]
     },
     "metadata": {
      "needs_background": "light"
     },
     "output_type": "display_data"
    },
    {
     "data": {
      "image/png": "[encoded data removed]",
      "text/plain": [
       "<Figure size 72x72 with 1 Axes>"
      ]
     },
     "metadata": {
      "needs_background": "light"
     },
     "output_type": "display_data"
    },
    {
     "data": {
      "image/png": "[encoded data removed]",
      "text/plain": [
       "<Figure size 72x72 with 1 Axes>"
      ]
     },
     "metadata": {
      "needs_background": "light"
     },
     "output_type": "display_data"
    },
    {
     "data": {
      "image/png": "[encoded data removed]",
      "text/plain": [
       "<Figure size 72x72 with 1 Axes>"
      ]
     },
     "metadata": {
      "needs_background": "light"
     },
     "output_type": "display_data"
    },
    {
     "data": {
      "image/png": "[encoded data removed]",
      "text/plain": [
       "<Figure size 72x72 with 1 Axes>"
      ]
     },
     "metadata": {
      "needs_background": "light"
     },
     "output_type": "display_data"
    },
    {
     "data": {
      "image/png": "[encoded data removed]",
      "text/plain": [
       "<Figure size 72x72 with 1 Axes>"
      ]
     },
     "metadata": {
      "needs_background": "light"
     },
     "output_type": "display_data"
    },
    {
     "data": {
      "image/png": "[encoded data removed]",
      "text/plain": [
       "<Figure size 72x72 with 1 Axes>"
      ]
     },
     "metadata": {
      "needs_background": "light"
     },
     "output_type": "display_data"
    },
    {
     "data": {
      "image/png": "[encoded data removed]",
      "text/plain": [
       "<Figure size 72x72 with 1 Axes>"
      ]
     },
     "metadata": {
      "needs_background": "light"
     },
     "output_type": "display_data"
    },
    {
     "data": {
      "image/png": "[encoded data removed]",
      "text/plain": [
       "<Figure size 72x72 with 1 Axes>"
      ]
     },
     "metadata": {
      "needs_background": "light"
     },
     "output_type": "display_data"
    },
    {
     "data": {
      "image/png": "[encoded data removed]",
      "text/plain": [
       "<Figure size 72x72 with 1 Axes>"
      ]
     },
     "metadata": {
      "needs_background": "light"
     },
     "output_type": "display_data"
    },
    {
     "data": {
      "image/png": "[encoded data removed]",
      "text/plain": [
       "<Figure size 72x72 with 1 Axes>"
      ]
     },
     "metadata": {
      "needs_background": "light"
     },
     "output_type": "display_data"
    },
    {
     "data": {
      "image/png": "[encoded data removed]",
      "text/plain": [
       "<Figure size 72x72 with 1 Axes>"
      ]
     },
     "metadata": {
      "needs_background": "light"
     },
     "output_type": "display_data"
    },
    {
     "data": {
      "image/png": "[encoded data removed]",
      "text/plain": [
       "<Figure size 72x72 with 1 Axes>"
      ]
     },
     "metadata": {
      "needs_background": "light"
     },
     "output_type": "display_data"
    },
    {
     "data": {
      "image/png": "[encoded data removed]",
      "text/plain": [
       "<Figure size 72x72 with 1 Axes>"
      ]
     },
     "metadata": {
      "needs_background": "light"
     },
     "output_type": "display_data"
    },
    {
     "data": {
      "image/png": "[encoded data removed]",
      "text/plain": [
       "<Figure size 72x72 with 1 Axes>"
      ]
     },
     "metadata": {
      "needs_background": "light"
     },
     "output_type": "display_data"
    },
    {
     "data": {
      "image/png": "[encoded data removed]",
      "text/plain": [
       "<Figure size 72x72 with 1 Axes>"
      ]
     },
     "metadata": {
      "needs_background": "light"
     },
     "output_type": "display_data"
    },
    {
     "data": {
      "image/png": "[encoded data removed]",
      "text/plain": [
       "<Figure size 72x72 with 1 Axes>"
      ]
     },
     "metadata": {
      "needs_background": "light"
     },
     "output_type": "display_data"
    },
    {
     "data": {
      "image/png": "[encoded data removed]",
      "text/plain": [
       "<Figure size 72x72 with 1 Axes>"
      ]
     },
     "metadata": {
      "needs_background": "light"
     },
     "output_type": "display_data"
    },
    {
     "data": {
      "image/png": "[encoded data removed]",
      "text/plain": [
       "<Figure size 72x72 with 1 Axes>"
      ]
     },
     "metadata": {
      "needs_background": "light"
     },
     "output_type": "display_data"
    },
    {
     "data": {
      "image/png": "[encoded data removed]",
      "text/plain": [
       "<Figure size 72x72 with 1 Axes>"
      ]
     },
     "metadata": {
      "needs_background": "light"
     },
     "output_type": "display_data"
    },
    {
     "data": {
      "image/png": "[encoded data removed]",
      "text/plain": [
       "<Figure size 72x72 with 1 Axes>"
      ]
     },
     "metadata": {
      "needs_background": "light"
     },
     "output_type": "display_data"
    },
    {
     "data": {
      "image/png": "[encoded data removed]",
      "text/plain": [
       "<Figure size 72x72 with 1 Axes>"
      ]
     },
     "metadata": {
      "needs_background": "light"
     },
     "output_type": "display_data"
    },
    {
     "data": {
      "image/png": "[encoded data removed]",
      "text/plain": [
       "<Figure size 72x72 with 1 Axes>"
      ]
     },
     "metadata": {
      "needs_background": "light"
     },
     "output_type": "display_data"
    },
    {
     "data": {
      "image/png": "[encoded data removed]",
      "text/plain": [
       "<Figure size 72x72 with 1 Axes>"
      ]
     },
     "metadata": {
      "needs_background": "light"
     },
     "output_type": "display_data"
    },
    {
     "data": {
      "image/png": "[encoded data removed]",
      "text/plain": [
       "<Figure size 72x72 with 1 Axes>"
      ]
     },
     "metadata": {
      "needs_background": "light"
     },
     "output_type": "display_data"
    },
    {
     "data": {
      "image/png": "[encoded data removed]",
      "text/plain": [
       "<Figure size 72x72 with 1 Axes>"
      ]
     },
     "metadata": {
      "needs_background": "light"
     },
     "output_type": "display_data"
    },
    {
     "data": {
      "image/png": "[encoded data removed]",
      "text/plain": [
       "<Figure size 72x72 with 1 Axes>"
      ]
     },
     "metadata": {
      "needs_background": "light"
     },
     "output_type": "display_data"
    },
    {
     "data": {
      "image/png": "[encoded data removed]",
      "text/plain": [
       "<Figure size 72x72 with 1 Axes>"
      ]
     },
     "metadata": {
      "needs_background": "light"
     },
     "output_type": "display_data"
    },
    {
     "data": {
      "image/png": "[encoded data removed]",
      "text/plain": [
       "<Figure size 72x72 with 1 Axes>"
      ]
     },
     "metadata": {
      "needs_background": "light"
     },
     "output_type": "display_data"
    },
    {
     "data": {
      "image/png": "[encoded data removed]",
      "text/plain": [
       "<Figure size 72x72 with 1 Axes>"
      ]
     },
     "metadata": {
      "needs_background": "light"
     },
     "output_type": "display_data"
    },
    {
     "data": {
      "image/png": "[encoded data removed]",
      "text/plain": [
       "<Figure size 72x72 with 1 Axes>"
      ]
     },
     "metadata": {
      "needs_background": "light"
     },
     "output_type": "display_data"
    },
    {
     "data": {
      "image/png": "[encoded data removed]",
      "text/plain": [
       "<Figure size 72x72 with 1 Axes>"
      ]
     },
     "metadata": {
      "needs_background": "light"
     },
     "output_type": "display_data"
    },
    {
     "data": {
      "image/png": "[encoded data removed]",
      "text/plain": [
       "<Figure size 72x72 with 1 Axes>"
      ]
     },
     "metadata": {
      "needs_background": "light"
     },
     "output_type": "display_data"
    },
    {
     "data": {
      "image/png": "[encoded data removed]",
      "text/plain": [
       "<Figure size 72x72 with 1 Axes>"
      ]
     },
     "metadata": {
      "needs_background": "light"
     },
     "output_type": "display_data"
    },
    {
     "data": {
      "image/png": "[encoded data removed]",
      "text/plain": [
       "<Figure size 72x72 with 1 Axes>"
      ]
     },
     "metadata": {
      "needs_background": "light"
     },
     "output_type": "display_data"
    },
    {
     "data": {
      "image/png": "[encoded data removed]",
      "text/plain": [
       "<Figure size 72x72 with 1 Axes>"
      ]
     },
     "metadata": {
      "needs_background": "light"
     },
     "output_type": "display_data"
    }
   ],
   "source": [
    "plot_figures(kde_Z_3_new)"
   ]
  },
  {
   "cell_type": "code",
   "execution_count": null,
   "metadata": {},
   "outputs": [],
   "source": []
  },
  {
   "cell_type": "code",
   "execution_count": null,
   "metadata": {},
   "outputs": [],
   "source": []
  },
  {
   "cell_type": "code",
   "execution_count": 14,
   "metadata": {},
   "outputs": [],
   "source": [
    "def get_no_of_comp(data):\n",
    "    n_components = np.arange(1, 35)\n",
    "    models = [GMM(n, covariance_type='full', random_state=0).fit(data) for n in n_components]\n",
    "\n",
    "    val = [m.bic(data) for m in models]\n",
    "    plt.plot(n_components, val)\n",
    "    n_comp = val.index(min(val))\n",
    "    return n_comp+1"
   ]
  },
  {
   "cell_type": "code",
   "execution_count": 15,
   "metadata": {},
   "outputs": [
    {
     "name": "stdout",
     "output_type": "stream",
     "text": [
      "10\n"
     ]
    },
    {
     "data": {
      "image/png": "[encoded data removed]",
      "text/plain": [
       "<Figure size 432x288 with 1 Axes>"
      ]
     },
     "metadata": {
      "needs_background": "light"
     },
     "output_type": "display_data"
    }
   ],
   "source": [
    "no_of_comp_Z_1 = get_no_of_comp(Z_1)\n",
    "print no_of_comp_Z_1"
   ]
  },
  {
   "cell_type": "code",
   "execution_count": 16,
   "metadata": {},
   "outputs": [
    {
     "name": "stdout",
     "output_type": "stream",
     "text": [
      "8\n"
     ]
    },
    {
     "data": {
      "image/png": "[encoded data removed]",
      "text/plain": [
       "<Figure size 432x288 with 1 Axes>"
      ]
     },
     "metadata": {
      "needs_background": "light"
     },
     "output_type": "display_data"
    }
   ],
   "source": [
    "no_of_comp_Z_2 = get_no_of_comp(Z_2)\n",
    "print no_of_comp_Z_2"
   ]
  },
  {
   "cell_type": "code",
   "execution_count": 17,
   "metadata": {},
   "outputs": [
    {
     "name": "stdout",
     "output_type": "stream",
     "text": [
      "7\n"
     ]
    },
    {
     "data": {
      "image/png": "[encoded data removed]",
      "text/plain": [
       "<Figure size 432x288 with 1 Axes>"
      ]
     },
     "metadata": {
      "needs_background": "light"
     },
     "output_type": "display_data"
    }
   ],
   "source": [
    "no_of_comp_Z_3 = get_no_of_comp(Z_3)\n",
    "print no_of_comp_Z_3"
   ]
  },
  {
   "cell_type": "code",
   "execution_count": null,
   "metadata": {},
   "outputs": [],
   "source": []
  },
  {
   "cell_type": "code",
   "execution_count": 18,
   "metadata": {},
   "outputs": [],
   "source": [
    "def fitGMM(data, no_of_comp):\n",
    "    gmm = GMM(no_of_comp, covariance_type='full', random_state=0)\n",
    "    gmm.fit(data)\n",
    "    print(gmm.converged_)\n",
    "    return gmm"
   ]
  },
  {
   "cell_type": "code",
   "execution_count": 19,
   "metadata": {},
   "outputs": [
    {
     "name": "stdout",
     "output_type": "stream",
     "text": [
      "True\n"
     ]
    }
   ],
   "source": [
    "gmm1 = fitGMM(Z_1,no_of_comp_Z_1)"
   ]
  },
  {
   "cell_type": "code",
   "execution_count": 20,
   "metadata": {},
   "outputs": [
    {
     "name": "stdout",
     "output_type": "stream",
     "text": [
      "True\n"
     ]
    }
   ],
   "source": [
    "gmm2 = fitGMM(Z_2,no_of_comp_Z_2)"
   ]
  },
  {
   "cell_type": "code",
   "execution_count": 21,
   "metadata": {},
   "outputs": [
    {
     "name": "stdout",
     "output_type": "stream",
     "text": [
      "True\n"
     ]
    }
   ],
   "source": [
    "gmm3 = fitGMM(Z_3,no_of_comp_Z_3)"
   ]
  },
  {
   "cell_type": "code",
   "execution_count": null,
   "metadata": {},
   "outputs": [],
   "source": []
  },
  {
   "cell_type": "code",
   "execution_count": 22,
   "metadata": {},
   "outputs": [],
   "source": [
    "def get_data_from_gmm(gmm,pca):\n",
    "    data_new = gmm.sample(48)\n",
    "    # print data_new\n",
    "    print data_new[0].shape\n",
    "    digits_new = pca.inverse_transform(data_new[0])\n",
    "    print digits_new.shape\n",
    "    # plot_digits(digits_new)\n",
    "    return digits_new"
   ]
  },
  {
   "cell_type": "code",
   "execution_count": 23,
   "metadata": {},
   "outputs": [
    {
     "name": "stdout",
     "output_type": "stream",
     "text": [
      "(48, 17)\n",
      "(48, 64)\n"
     ]
    }
   ],
   "source": [
    "gmm_Z_1_new = get_data_from_gmm(gmm1,pca1)"
   ]
  },
  {
   "cell_type": "code",
   "execution_count": 24,
   "metadata": {},
   "outputs": [
    {
     "name": "stdout",
     "output_type": "stream",
     "text": [
      "(48, 26)\n",
      "(48, 64)\n"
     ]
    }
   ],
   "source": [
    "gmm_Z_2_new = get_data_from_gmm(gmm2,pca2)"
   ]
  },
  {
   "cell_type": "code",
   "execution_count": 25,
   "metadata": {},
   "outputs": [
    {
     "name": "stdout",
     "output_type": "stream",
     "text": [
      "(48, 38)\n",
      "(48, 64)\n"
     ]
    }
   ],
   "source": [
    "gmm_Z_3_new = get_data_from_gmm(gmm3,pca3)"
   ]
  },
  {
   "cell_type": "code",
   "execution_count": 26,
   "metadata": {},
   "outputs": [
    {
     "data": {
      "image/png": "[encoded data removed]",
      "text/plain": [
       "<Figure size 72x72 with 1 Axes>"
      ]
     },
     "metadata": {
      "needs_background": "light"
     },
     "output_type": "display_data"
    },
    {
     "data": {
      "image/png": "[encoded data removed]",
      "text/plain": [
       "<Figure size 72x72 with 1 Axes>"
      ]
     },
     "metadata": {
      "needs_background": "light"
     },
     "output_type": "display_data"
    },
    {
     "data": {
      "image/png": "[encoded data removed]",
      "text/plain": [
       "<Figure size 72x72 with 1 Axes>"
      ]
     },
     "metadata": {
      "needs_background": "light"
     },
     "output_type": "display_data"
    },
    {
     "data": {
      "image/png": "[encoded data removed]",
      "text/plain": [
       "<Figure size 72x72 with 1 Axes>"
      ]
     },
     "metadata": {
      "needs_background": "light"
     },
     "output_type": "display_data"
    },
    {
     "data": {
      "image/png": "[encoded data removed]",
      "text/plain": [
       "<Figure size 72x72 with 1 Axes>"
      ]
     },
     "metadata": {
      "needs_background": "light"
     },
     "output_type": "display_data"
    },
    {
     "data": {
      "image/png": "[encoded data removed]",
      "text/plain": [
       "<Figure size 72x72 with 1 Axes>"
      ]
     },
     "metadata": {
      "needs_background": "light"
     },
     "output_type": "display_data"
    },
    {
     "data": {
      "image/png": "[encoded data removed]",
      "text/plain": [
       "<Figure size 72x72 with 1 Axes>"
      ]
     },
     "metadata": {
      "needs_background": "light"
     },
     "output_type": "display_data"
    },
    {
     "data": {
      "image/png": "[encoded data removed]",
      "text/plain": [
       "<Figure size 72x72 with 1 Axes>"
      ]
     },
     "metadata": {
      "needs_background": "light"
     },
     "output_type": "display_data"
    },
    {
     "data": {
      "image/png": "[encoded data removed]",
      "text/plain": [
       "<Figure size 72x72 with 1 Axes>"
      ]
     },
     "metadata": {
      "needs_background": "light"
     },
     "output_type": "display_data"
    },
    {
     "data": {
      "image/png": "[encoded data removed]",
      "text/plain": [
       "<Figure size 72x72 with 1 Axes>"
      ]
     },
     "metadata": {
      "needs_background": "light"
     },
     "output_type": "display_data"
    },
    {
     "data": {
      "image/png": "[encoded data removed]",
      "text/plain": [
       "<Figure size 72x72 with 1 Axes>"
      ]
     },
     "metadata": {
      "needs_background": "light"
     },
     "output_type": "display_data"
    },
    {
     "data": {
      "image/png": "[encoded data removed]",
      "text/plain": [
       "<Figure size 72x72 with 1 Axes>"
      ]
     },
     "metadata": {
      "needs_background": "light"
     },
     "output_type": "display_data"
    },
    {
     "data": {
      "image/png": "[encoded data removed]",
      "text/plain": [
       "<Figure size 72x72 with 1 Axes>"
      ]
     },
     "metadata": {
      "needs_background": "light"
     },
     "output_type": "display_data"
    },
    {
     "data": {
      "image/png": "[encoded data removed]",
      "text/plain": [
       "<Figure size 72x72 with 1 Axes>"
      ]
     },
     "metadata": {
      "needs_background": "light"
     },
     "output_type": "display_data"
    },
    {
     "data": {
      "image/png": "[encoded data removed]",
      "text/plain": [
       "<Figure size 72x72 with 1 Axes>"
      ]
     },
     "metadata": {
      "needs_background": "light"
     },
     "output_type": "display_data"
    },
    {
     "data": {
      "image/png": "[encoded data removed]",
      "text/plain": [
       "<Figure size 72x72 with 1 Axes>"
      ]
     },
     "metadata": {
      "needs_background": "light"
     },
     "output_type": "display_data"
    },
    {
     "data": {
      "image/png": "[encoded data removed]",
      "text/plain": [
       "<Figure size 72x72 with 1 Axes>"
      ]
     },
     "metadata": {
      "needs_background": "light"
     },
     "output_type": "display_data"
    },
    {
     "data": {
      "image/png": "[encoded data removed]",
      "text/plain": [
       "<Figure size 72x72 with 1 Axes>"
      ]
     },
     "metadata": {
      "needs_background": "light"
     },
     "output_type": "display_data"
    },
    {
     "data": {
      "image/png": "[encoded data removed]",
      "text/plain": [
       "<Figure size 72x72 with 1 Axes>"
      ]
     },
     "metadata": {
      "needs_background": "light"
     },
     "output_type": "display_data"
    },
    {
     "data": {
      "image/png": "[encoded data removed]",
      "text/plain": [
       "<Figure size 72x72 with 1 Axes>"
      ]
     },
     "metadata": {
      "needs_background": "light"
     },
     "output_type": "display_data"
    },
    {
     "data": {
      "image/png": "[encoded data removed]",
      "text/plain": [
       "<Figure size 72x72 with 1 Axes>"
      ]
     },
     "metadata": {
      "needs_background": "light"
     },
     "output_type": "display_data"
    },
    {
     "data": {
      "image/png": "[encoded data removed]",
      "text/plain": [
       "<Figure size 72x72 with 1 Axes>"
      ]
     },
     "metadata": {
      "needs_background": "light"
     },
     "output_type": "display_data"
    },
    {
     "data": {
      "image/png": "[encoded data removed]",
      "text/plain": [
       "<Figure size 72x72 with 1 Axes>"
      ]
     },
     "metadata": {
      "needs_background": "light"
     },
     "output_type": "display_data"
    },
    {
     "data": {
      "image/png": "[encoded data removed]",
      "text/plain": [
       "<Figure size 72x72 with 1 Axes>"
      ]
     },
     "metadata": {
      "needs_background": "light"
     },
     "output_type": "display_data"
    },
    {
     "data": {
      "image/png": "[encoded data removed]",
      "text/plain": [
       "<Figure size 72x72 with 1 Axes>"
      ]
     },
     "metadata": {
      "needs_background": "light"
     },
     "output_type": "display_data"
    },
    {
     "data": {
      "image/png": "[encoded data removed]",
      "text/plain": [
       "<Figure size 72x72 with 1 Axes>"
      ]
     },
     "metadata": {
      "needs_background": "light"
     },
     "output_type": "display_data"
    },
    {
     "data": {
      "image/png": "[encoded data removed]",
      "text/plain": [
       "<Figure size 72x72 with 1 Axes>"
      ]
     },
     "metadata": {
      "needs_background": "light"
     },
     "output_type": "display_data"
    },
    {
     "data": {
      "image/png": "[encoded data removed]",
      "text/plain": [
       "<Figure size 72x72 with 1 Axes>"
      ]
     },
     "metadata": {
      "needs_background": "light"
     },
     "output_type": "display_data"
    },
    {
     "data": {
      "image/png": "[encoded data removed]",
      "text/plain": [
       "<Figure size 72x72 with 1 Axes>"
      ]
     },
     "metadata": {
      "needs_background": "light"
     },
     "output_type": "display_data"
    },
    {
     "data": {
      "image/png": "[encoded data removed]",
      "text/plain": [
       "<Figure size 72x72 with 1 Axes>"
      ]
     },
     "metadata": {
      "needs_background": "light"
     },
     "output_type": "display_data"
    },
    {
     "data": {
      "image/png": "[encoded data removed]",
      "text/plain": [
       "<Figure size 72x72 with 1 Axes>"
      ]
     },
     "metadata": {
      "needs_background": "light"
     },
     "output_type": "display_data"
    },
    {
     "data": {
      "image/png": "[encoded data removed]",
      "text/plain": [
       "<Figure size 72x72 with 1 Axes>"
      ]
     },
     "metadata": {
      "needs_background": "light"
     },
     "output_type": "display_data"
    },
    {
     "data": {
      "image/png": "[encoded data removed]",
      "text/plain": [
       "<Figure size 72x72 with 1 Axes>"
      ]
     },
     "metadata": {
      "needs_background": "light"
     },
     "output_type": "display_data"
    },
    {
     "data": {
      "image/png": "[encoded data removed]",
      "text/plain": [
       "<Figure size 72x72 with 1 Axes>"
      ]
     },
     "metadata": {
      "needs_background": "light"
     },
     "output_type": "display_data"
    },
    {
     "data": {
      "image/png": "[encoded data removed]",
      "text/plain": [
       "<Figure size 72x72 with 1 Axes>"
      ]
     },
     "metadata": {
      "needs_background": "light"
     },
     "output_type": "display_data"
    },
    {
     "data": {
      "image/png": "[encoded data removed]",
      "text/plain": [
       "<Figure size 72x72 with 1 Axes>"
      ]
     },
     "metadata": {
      "needs_background": "light"
     },
     "output_type": "display_data"
    },
    {
     "data": {
      "image/png": "[encoded data removed]",
      "text/plain": [
       "<Figure size 72x72 with 1 Axes>"
      ]
     },
     "metadata": {
      "needs_background": "light"
     },
     "output_type": "display_data"
    },
    {
     "data": {
      "image/png": "[encoded data removed]",
      "text/plain": [
       "<Figure size 72x72 with 1 Axes>"
      ]
     },
     "metadata": {
      "needs_background": "light"
     },
     "output_type": "display_data"
    },
    {
     "data": {
      "image/png": "[encoded data removed]",
      "text/plain": [
       "<Figure size 72x72 with 1 Axes>"
      ]
     },
     "metadata": {
      "needs_background": "light"
     },
     "output_type": "display_data"
    },
    {
     "data": {
      "image/png": "[encoded data removed]",
      "text/plain": [
       "<Figure size 72x72 with 1 Axes>"
      ]
     },
     "metadata": {
      "needs_background": "light"
     },
     "output_type": "display_data"
    },
    {
     "data": {
      "image/png": "[encoded data removed]",
      "text/plain": [
       "<Figure size 72x72 with 1 Axes>"
      ]
     },
     "metadata": {
      "needs_background": "light"
     },
     "output_type": "display_data"
    },
    {
     "data": {
      "image/png": "[encoded data removed]",
      "text/plain": [
       "<Figure size 72x72 with 1 Axes>"
      ]
     },
     "metadata": {
      "needs_background": "light"
     },
     "output_type": "display_data"
    },
    {
     "data": {
      "image/png": "[encoded data removed]",
      "text/plain": [
       "<Figure size 72x72 with 1 Axes>"
      ]
     },
     "metadata": {
      "needs_background": "light"
     },
     "output_type": "display_data"
    },
    {
     "data": {
      "image/png": "[encoded data removed]",
      "text/plain": [
       "<Figure size 72x72 with 1 Axes>"
      ]
     },
     "metadata": {
      "needs_background": "light"
     },
     "output_type": "display_data"
    },
    {
     "data": {
      "image/png": "[encoded data removed]",
      "text/plain": [
       "<Figure size 72x72 with 1 Axes>"
      ]
     },
     "metadata": {
      "needs_background": "light"
     },
     "output_type": "display_data"
    },
    {
     "data": {
      "image/png": "[encoded data removed]",
      "text/plain": [
       "<Figure size 72x72 with 1 Axes>"
      ]
     },
     "metadata": {
      "needs_background": "light"
     },
     "output_type": "display_data"
    },
    {
     "data": {
      "image/png": "[encoded data removed]",
      "text/plain": [
       "<Figure size 72x72 with 1 Axes>"
      ]
     },
     "metadata": {
      "needs_background": "light"
     },
     "output_type": "display_data"
    },
    {
     "data": {
      "image/png": "[encoded data removed]",
      "text/plain": [
       "<Figure size 72x72 with 1 Axes>"
      ]
     },
     "metadata": {
      "needs_background": "light"
     },
     "output_type": "display_data"
    }
   ],
   "source": [
    "plot_figures(gmm_Z_1_new)"
   ]
  },
  {
   "cell_type": "code",
   "execution_count": 27,
   "metadata": {},
   "outputs": [
    {
     "data": {
      "image/png": "[encoded data removed]",
      "text/plain": [
       "<Figure size 72x72 with 1 Axes>"
      ]
     },
     "metadata": {
      "needs_background": "light"
     },
     "output_type": "display_data"
    },
    {
     "data": {
      "image/png": "[encoded data removed]",
      "text/plain": [
       "<Figure size 72x72 with 1 Axes>"
      ]
     },
     "metadata": {
      "needs_background": "light"
     },
     "output_type": "display_data"
    },
    {
     "data": {
      "image/png": "[encoded data removed]",
      "text/plain": [
       "<Figure size 72x72 with 1 Axes>"
      ]
     },
     "metadata": {
      "needs_background": "light"
     },
     "output_type": "display_data"
    },
    {
     "data": {
      "image/png": "[encoded data removed]",
      "text/plain": [
       "<Figure size 72x72 with 1 Axes>"
      ]
     },
     "metadata": {
      "needs_background": "light"
     },
     "output_type": "display_data"
    },
    {
     "data": {
      "image/png": "[encoded data removed]",
      "text/plain": [
       "<Figure size 72x72 with 1 Axes>"
      ]
     },
     "metadata": {
      "needs_background": "light"
     },
     "output_type": "display_data"
    },
    {
     "data": {
      "image/png": "[encoded data removed]",
      "text/plain": [
       "<Figure size 72x72 with 1 Axes>"
      ]
     },
     "metadata": {
      "needs_background": "light"
     },
     "output_type": "display_data"
    },
    {
     "data": {
      "image/png": "[encoded data removed]",
      "text/plain": [
       "<Figure size 72x72 with 1 Axes>"
      ]
     },
     "metadata": {
      "needs_background": "light"
     },
     "output_type": "display_data"
    },
    {
     "data": {
      "image/png": "[encoded data removed]",
      "text/plain": [
       "<Figure size 72x72 with 1 Axes>"
      ]
     },
     "metadata": {
      "needs_background": "light"
     },
     "output_type": "display_data"
    },
    {
     "data": {
      "image/png": "[encoded data removed]",
      "text/plain": [
       "<Figure size 72x72 with 1 Axes>"
      ]
     },
     "metadata": {
      "needs_background": "light"
     },
     "output_type": "display_data"
    },
    {
     "data": {
      "image/png": "[encoded data removed]",
      "text/plain": [
       "<Figure size 72x72 with 1 Axes>"
      ]
     },
     "metadata": {
      "needs_background": "light"
     },
     "output_type": "display_data"
    },
    {
     "data": {
      "image/png": "[encoded data removed]",
      "text/plain": [
       "<Figure size 72x72 with 1 Axes>"
      ]
     },
     "metadata": {
      "needs_background": "light"
     },
     "output_type": "display_data"
    },
    {
     "data": {
      "image/png": "[encoded data removed]",
      "text/plain": [
       "<Figure size 72x72 with 1 Axes>"
      ]
     },
     "metadata": {
      "needs_background": "light"
     },
     "output_type": "display_data"
    },
    {
     "data": {
      "image/png": "[encoded data removed]",
      "text/plain": [
       "<Figure size 72x72 with 1 Axes>"
      ]
     },
     "metadata": {
      "needs_background": "light"
     },
     "output_type": "display_data"
    },
    {
     "data": {
      "image/png": "[encoded data removed]",
      "text/plain": [
       "<Figure size 72x72 with 1 Axes>"
      ]
     },
     "metadata": {
      "needs_background": "light"
     },
     "output_type": "display_data"
    },
    {
     "data": {
      "image/png": "[encoded data removed]",
      "text/plain": [
       "<Figure size 72x72 with 1 Axes>"
      ]
     },
     "metadata": {
      "needs_background": "light"
     },
     "output_type": "display_data"
    },
    {
     "data": {
      "image/png": "[encoded data removed]",
      "text/plain": [
       "<Figure size 72x72 with 1 Axes>"
      ]
     },
     "metadata": {
      "needs_background": "light"
     },
     "output_type": "display_data"
    },
    {
     "data": {
      "image/png": "[encoded data removed]",
      "text/plain": [
       "<Figure size 72x72 with 1 Axes>"
      ]
     },
     "metadata": {
      "needs_background": "light"
     },
     "output_type": "display_data"
    },
    {
     "data": {
      "image/png": "[encoded data removed]",
      "text/plain": [
       "<Figure size 72x72 with 1 Axes>"
      ]
     },
     "metadata": {
      "needs_background": "light"
     },
     "output_type": "display_data"
    },
    {
     "data": {
      "image/png": "[encoded data removed]",
      "text/plain": [
       "<Figure size 72x72 with 1 Axes>"
      ]
     },
     "metadata": {
      "needs_background": "light"
     },
     "output_type": "display_data"
    },
    {
     "data": {
      "image/png": "[encoded data removed]",
      "text/plain": [
       "<Figure size 72x72 with 1 Axes>"
      ]
     },
     "metadata": {
      "needs_background": "light"
     },
     "output_type": "display_data"
    },
    {
     "data": {
      "image/png": "[encoded data removed]",
      "text/plain": [
       "<Figure size 72x72 with 1 Axes>"
      ]
     },
     "metadata": {
      "needs_background": "light"
     },
     "output_type": "display_data"
    },
    {
     "data": {
      "image/png": "[encoded data removed]",
      "text/plain": [
       "<Figure size 72x72 with 1 Axes>"
      ]
     },
     "metadata": {
      "needs_background": "light"
     },
     "output_type": "display_data"
    },
    {
     "data": {
      "image/png": "[encoded data removed]",
      "text/plain": [
       "<Figure size 72x72 with 1 Axes>"
      ]
     },
     "metadata": {
      "needs_background": "light"
     },
     "output_type": "display_data"
    },
    {
     "data": {
      "image/png": "[encoded data removed]",
      "text/plain": [
       "<Figure size 72x72 with 1 Axes>"
      ]
     },
     "metadata": {
      "needs_background": "light"
     },
     "output_type": "display_data"
    },
    {
     "data": {
      "image/png": "[encoded data removed]",
      "text/plain": [
       "<Figure size 72x72 with 1 Axes>"
      ]
     },
     "metadata": {
      "needs_background": "light"
     },
     "output_type": "display_data"
    },
    {
     "data": {
      "image/png": "[encoded data removed]",
      "text/plain": [
       "<Figure size 72x72 with 1 Axes>"
      ]
     },
     "metadata": {
      "needs_background": "light"
     },
     "output_type": "display_data"
    },
    {
     "data": {
      "image/png": "[encoded data removed]",
      "text/plain": [
       "<Figure size 72x72 with 1 Axes>"
      ]
     },
     "metadata": {
      "needs_background": "light"
     },
     "output_type": "display_data"
    },
    {
     "data": {
      "image/png": "[encoded data removed]",
      "text/plain": [
       "<Figure size 72x72 with 1 Axes>"
      ]
     },
     "metadata": {
      "needs_background": "light"
     },
     "output_type": "display_data"
    },
    {
     "data": {
      "image/png": "[encoded data removed]",
      "text/plain": [
       "<Figure size 72x72 with 1 Axes>"
      ]
     },
     "metadata": {
      "needs_background": "light"
     },
     "output_type": "display_data"
    },
    {
     "data": {
      "image/png": "[encoded data removed]",
      "text/plain": [
       "<Figure size 72x72 with 1 Axes>"
      ]
     },
     "metadata": {
      "needs_background": "light"
     },
     "output_type": "display_data"
    },
    {
     "data": {
      "image/png": "[encoded data removed]",
      "text/plain": [
       "<Figure size 72x72 with 1 Axes>"
      ]
     },
     "metadata": {
      "needs_background": "light"
     },
     "output_type": "display_data"
    },
    {
     "data": {
      "image/png": "[encoded data removed]",
      "text/plain": [
       "<Figure size 72x72 with 1 Axes>"
      ]
     },
     "metadata": {
      "needs_background": "light"
     },
     "output_type": "display_data"
    },
    {
     "data": {
      "image/png": "[encoded data removed]",
      "text/plain": [
       "<Figure size 72x72 with 1 Axes>"
      ]
     },
     "metadata": {
      "needs_background": "light"
     },
     "output_type": "display_data"
    },
    {
     "data": {
      "image/png": "[encoded data removed]",
      "text/plain": [
       "<Figure size 72x72 with 1 Axes>"
      ]
     },
     "metadata": {
      "needs_background": "light"
     },
     "output_type": "display_data"
    },
    {
     "data": {
      "image/png": "[encoded data removed]",
      "text/plain": [
       "<Figure size 72x72 with 1 Axes>"
      ]
     },
     "metadata": {
      "needs_background": "light"
     },
     "output_type": "display_data"
    },
    {
     "data": {
      "image/png": "[encoded data removed]",
      "text/plain": [
       "<Figure size 72x72 with 1 Axes>"
      ]
     },
     "metadata": {
      "needs_background": "light"
     },
     "output_type": "display_data"
    },
    {
     "data": {
      "image/png": "[encoded data removed]",
      "text/plain": [
       "<Figure size 72x72 with 1 Axes>"
      ]
     },
     "metadata": {
      "needs_background": "light"
     },
     "output_type": "display_data"
    },
    {
     "data": {
      "image/png": "[encoded data removed]",
      "text/plain": [
       "<Figure size 72x72 with 1 Axes>"
      ]
     },
     "metadata": {
      "needs_background": "light"
     },
     "output_type": "display_data"
    },
    {
     "data": {
      "image/png": "[encoded data removed]",
      "text/plain": [
       "<Figure size 72x72 with 1 Axes>"
      ]
     },
     "metadata": {
      "needs_background": "light"
     },
     "output_type": "display_data"
    },
    {
     "data": {
      "image/png": "[encoded data removed]",
      "text/plain": [
       "<Figure size 72x72 with 1 Axes>"
      ]
     },
     "metadata": {
      "needs_background": "light"
     },
     "output_type": "display_data"
    },
    {
     "data": {
      "image/png": "[encoded data removed]",
      "text/plain": [
       "<Figure size 72x72 with 1 Axes>"
      ]
     },
     "metadata": {
      "needs_background": "light"
     },
     "output_type": "display_data"
    },
    {
     "data": {
      "image/png": "[encoded data removed]",
      "text/plain": [
       "<Figure size 72x72 with 1 Axes>"
      ]
     },
     "metadata": {
      "needs_background": "light"
     },
     "output_type": "display_data"
    },
    {
     "data": {
      "image/png": "[encoded data removed]",
      "text/plain": [
       "<Figure size 72x72 with 1 Axes>"
      ]
     },
     "metadata": {
      "needs_background": "light"
     },
     "output_type": "display_data"
    },
    {
     "data": {
      "image/png": "[encoded data removed]",
      "text/plain": [
       "<Figure size 72x72 with 1 Axes>"
      ]
     },
     "metadata": {
      "needs_background": "light"
     },
     "output_type": "display_data"
    },
    {
     "data": {
      "image/png": "[encoded data removed]",
      "text/plain": [
       "<Figure size 72x72 with 1 Axes>"
      ]
     },
     "metadata": {
      "needs_background": "light"
     },
     "output_type": "display_data"
    },
    {
     "data": {
      "image/png": "[encoded data removed]",
      "text/plain": [
       "<Figure size 72x72 with 1 Axes>"
      ]
     },
     "metadata": {
      "needs_background": "light"
     },
     "output_type": "display_data"
    },
    {
     "data": {
      "image/png": "[encoded data removed]",
      "text/plain": [
       "<Figure size 72x72 with 1 Axes>"
      ]
     },
     "metadata": {
      "needs_background": "light"
     },
     "output_type": "display_data"
    },
    {
     "data": {
      "image/png": "[encoded data removed]",
      "text/plain": [
       "<Figure size 72x72 with 1 Axes>"
      ]
     },
     "metadata": {
      "needs_background": "light"
     },
     "output_type": "display_data"
    }
   ],
   "source": [
    "plot_figures(gmm_Z_2_new)"
   ]
  },
  {
   "cell_type": "code",
   "execution_count": 28,
   "metadata": {},
   "outputs": [
    {
     "data": {
      "image/png": "[encoded data removed]",
      "text/plain": [
       "<Figure size 72x72 with 1 Axes>"
      ]
     },
     "metadata": {
      "needs_background": "light"
     },
     "output_type": "display_data"
    },
    {
     "data": {
      "image/png": "[encoded data removed]",
      "text/plain": [
       "<Figure size 72x72 with 1 Axes>"
      ]
     },
     "metadata": {
      "needs_background": "light"
     },
     "output_type": "display_data"
    },
    {
     "data": {
      "image/png": "[encoded data removed]",
      "text/plain": [
       "<Figure size 72x72 with 1 Axes>"
      ]
     },
     "metadata": {
      "needs_background": "light"
     },
     "output_type": "display_data"
    },
    {
     "data": {
      "image/png": "[encoded data removed]",
      "text/plain": [
       "<Figure size 72x72 with 1 Axes>"
      ]
     },
     "metadata": {
      "needs_background": "light"
     },
     "output_type": "display_data"
    },
    {
     "data": {
      "image/png": "[encoded data removed]",
      "text/plain": [
       "<Figure size 72x72 with 1 Axes>"
      ]
     },
     "metadata": {
      "needs_background": "light"
     },
     "output_type": "display_data"
    },
    {
     "data": {
      "image/png": "[encoded data removed]",
      "text/plain": [
       "<Figure size 72x72 with 1 Axes>"
      ]
     },
     "metadata": {
      "needs_background": "light"
     },
     "output_type": "display_data"
    },
    {
     "data": {
      "image/png": "[encoded data removed]",
      "text/plain": [
       "<Figure size 72x72 with 1 Axes>"
      ]
     },
     "metadata": {
      "needs_background": "light"
     },
     "output_type": "display_data"
    },
    {
     "data": {
      "image/png": "[encoded data removed]",
      "text/plain": [
       "<Figure size 72x72 with 1 Axes>"
      ]
     },
     "metadata": {
      "needs_background": "light"
     },
     "output_type": "display_data"
    },
    {
     "data": {
      "image/png": "[encoded data removed]",
      "text/plain": [
       "<Figure size 72x72 with 1 Axes>"
      ]
     },
     "metadata": {
      "needs_background": "light"
     },
     "output_type": "display_data"
    },
    {
     "data": {
      "image/png": "[encoded data removed]",
      "text/plain": [
       "<Figure size 72x72 with 1 Axes>"
      ]
     },
     "metadata": {
      "needs_background": "light"
     },
     "output_type": "display_data"
    },
    {
     "data": {
      "image/png": "[encoded data removed]",
      "text/plain": [
       "<Figure size 72x72 with 1 Axes>"
      ]
     },
     "metadata": {
      "needs_background": "light"
     },
     "output_type": "display_data"
    },
    {
     "data": {
      "image/png": "[encoded data removed]",
      "text/plain": [
       "<Figure size 72x72 with 1 Axes>"
      ]
     },
     "metadata": {
      "needs_background": "light"
     },
     "output_type": "display_data"
    },
    {
     "data": {
      "image/png": "[encoded data removed]",
      "text/plain": [
       "<Figure size 72x72 with 1 Axes>"
      ]
     },
     "metadata": {
      "needs_background": "light"
     },
     "output_type": "display_data"
    },
    {
     "data": {
      "image/png": "[encoded data removed]",
      "text/plain": [
       "<Figure size 72x72 with 1 Axes>"
      ]
     },
     "metadata": {
      "needs_background": "light"
     },
     "output_type": "display_data"
    },
    {
     "data": {
      "image/png": "[encoded data removed]",
      "text/plain": [
       "<Figure size 72x72 with 1 Axes>"
      ]
     },
     "metadata": {
      "needs_background": "light"
     },
     "output_type": "display_data"
    },
    {
     "data": {
      "image/png": "[encoded data removed]",
      "text/plain": [
       "<Figure size 72x72 with 1 Axes>"
      ]
     },
     "metadata": {
      "needs_background": "light"
     },
     "output_type": "display_data"
    },
    {
     "data": {
      "image/png": "[encoded data removed]",
      "text/plain": [
       "<Figure size 72x72 with 1 Axes>"
      ]
     },
     "metadata": {
      "needs_background": "light"
     },
     "output_type": "display_data"
    },
    {
     "data": {
      "image/png": "[encoded data removed]",
      "text/plain": [
       "<Figure size 72x72 with 1 Axes>"
      ]
     },
     "metadata": {
      "needs_background": "light"
     },
     "output_type": "display_data"
    },
    {
     "data": {
      "image/png": "[encoded data removed]",
      "text/plain": [
       "<Figure size 72x72 with 1 Axes>"
      ]
     },
     "metadata": {
      "needs_background": "light"
     },
     "output_type": "display_data"
    },
    {
     "data": {
      "image/png": "[encoded data removed]",
      "text/plain": [
       "<Figure size 72x72 with 1 Axes>"
      ]
     },
     "metadata": {
      "needs_background": "light"
     },
     "output_type": "display_data"
    },
    {
     "data": {
      "image/png": "[encoded data removed]",
      "text/plain": [
       "<Figure size 72x72 with 1 Axes>"
      ]
     },
     "metadata": {
      "needs_background": "light"
     },
     "output_type": "display_data"
    },
    {
     "data": {
      "image/png": "[encoded data removed]",
      "text/plain": [
       "<Figure size 72x72 with 1 Axes>"
      ]
     },
     "metadata": {
      "needs_background": "light"
     },
     "output_type": "display_data"
    },
    {
     "data": {
      "image/png": "[encoded data removed]",
      "text/plain": [
       "<Figure size 72x72 with 1 Axes>"
      ]
     },
     "metadata": {
      "needs_background": "light"
     },
     "output_type": "display_data"
    },
    {
     "data": {
      "image/png": "[encoded data removed]",
      "text/plain": [
       "<Figure size 72x72 with 1 Axes>"
      ]
     },
     "metadata": {
      "needs_background": "light"
     },
     "output_type": "display_data"
    },
    {
     "data": {
      "image/png": "[encoded data removed]",
      "text/plain": [
       "<Figure size 72x72 with 1 Axes>"
      ]
     },
     "metadata": {
      "needs_background": "light"
     },
     "output_type": "display_data"
    },
    {
     "data": {
      "image/png": "[encoded data removed]",
      "text/plain": [
       "<Figure size 72x72 with 1 Axes>"
      ]
     },
     "metadata": {
      "needs_background": "light"
     },
     "output_type": "display_data"
    },
    {
     "data": {
      "image/png": "[encoded data removed]",
      "text/plain": [
       "<Figure size 72x72 with 1 Axes>"
      ]
     },
     "metadata": {
      "needs_background": "light"
     },
     "output_type": "display_data"
    },
    {
     "data": {
      "image/png": "[encoded data removed]",
      "text/plain": [
       "<Figure size 72x72 with 1 Axes>"
      ]
     },
     "metadata": {
      "needs_background": "light"
     },
     "output_type": "display_data"
    },
    {
     "data": {
      "image/png": "[encoded data removed]",
      "text/plain": [
       "<Figure size 72x72 with 1 Axes>"
      ]
     },
     "metadata": {
      "needs_background": "light"
     },
     "output_type": "display_data"
    },
    {
     "data": {
      "image/png": "[encoded data removed]",
      "text/plain": [
       "<Figure size 72x72 with 1 Axes>"
      ]
     },
     "metadata": {
      "needs_background": "light"
     },
     "output_type": "display_data"
    },
    {
     "data": {
      "image/png": "[encoded data removed]",
      "text/plain": [
       "<Figure size 72x72 with 1 Axes>"
      ]
     },
     "metadata": {
      "needs_background": "light"
     },
     "output_type": "display_data"
    },
    {
     "data": {
      "image/png": "[encoded data removed]",
      "text/plain": [
       "<Figure size 72x72 with 1 Axes>"
      ]
     },
     "metadata": {
      "needs_background": "light"
     },
     "output_type": "display_data"
    },
    {
     "data": {
      "image/png": "[encoded data removed]",
      "text/plain": [
       "<Figure size 72x72 with 1 Axes>"
      ]
     },
     "metadata": {
      "needs_background": "light"
     },
     "output_type": "display_data"
    },
    {
     "data": {
      "image/png": "[encoded data removed]",
      "text/plain": [
       "<Figure size 72x72 with 1 Axes>"
      ]
     },
     "metadata": {
      "needs_background": "light"
     },
     "output_type": "display_data"
    },
    {
     "data": {
      "image/png": "[encoded data removed]",
      "text/plain": [
       "<Figure size 72x72 with 1 Axes>"
      ]
     },
     "metadata": {
      "needs_background": "light"
     },
     "output_type": "display_data"
    },
    {
     "data": {
      "image/png": "[encoded data removed]",
      "text/plain": [
       "<Figure size 72x72 with 1 Axes>"
      ]
     },
     "metadata": {
      "needs_background": "light"
     },
     "output_type": "display_data"
    },
    {
     "data": {
      "image/png": "[encoded data removed]",
      "text/plain": [
       "<Figure size 72x72 with 1 Axes>"
      ]
     },
     "metadata": {
      "needs_background": "light"
     },
     "output_type": "display_data"
    },
    {
     "data": {
      "image/png": "[encoded data removed]",
      "text/plain": [
       "<Figure size 72x72 with 1 Axes>"
      ]
     },
     "metadata": {
      "needs_background": "light"
     },
     "output_type": "display_data"
    },
    {
     "data": {
      "image/png": "[encoded data removed]",
      "text/plain": [
       "<Figure size 72x72 with 1 Axes>"
      ]
     },
     "metadata": {
      "needs_background": "light"
     },
     "output_type": "display_data"
    },
    {
     "data": {
      "image/png": "[encoded data removed]",
      "text/plain": [
       "<Figure size 72x72 with 1 Axes>"
      ]
     },
     "metadata": {
      "needs_background": "light"
     },
     "output_type": "display_data"
    },
    {
     "data": {
      "image/png": "[encoded data removed]",
      "text/plain": [
       "<Figure size 72x72 with 1 Axes>"
      ]
     },
     "metadata": {
      "needs_background": "light"
     },
     "output_type": "display_data"
    },
    {
     "data": {
      "image/png": "[encoded data removed]",
      "text/plain": [
       "<Figure size 72x72 with 1 Axes>"
      ]
     },
     "metadata": {
      "needs_background": "light"
     },
     "output_type": "display_data"
    },
    {
     "data": {
      "image/png": "[encoded data removed]",
      "text/plain": [
       "<Figure size 72x72 with 1 Axes>"
      ]
     },
     "metadata": {
      "needs_background": "light"
     },
     "output_type": "display_data"
    },
    {
     "data": {
      "image/png": "[encoded data removed]",
      "text/plain": [
       "<Figure size 72x72 with 1 Axes>"
      ]
     },
     "metadata": {
      "needs_background": "light"
     },
     "output_type": "display_data"
    },
    {
     "data": {
      "image/png": "[encoded data removed]",
      "text/plain": [
       "<Figure size 72x72 with 1 Axes>"
      ]
     },
     "metadata": {
      "needs_background": "light"
     },
     "output_type": "display_data"
    },
    {
     "data": {
      "image/png": "[encoded data removed]",
      "text/plain": [
       "<Figure size 72x72 with 1 Axes>"
      ]
     },
     "metadata": {
      "needs_background": "light"
     },
     "output_type": "display_data"
    },
    {
     "data": {
      "image/png": "[encoded data removed]",
      "text/plain": [
       "<Figure size 72x72 with 1 Axes>"
      ]
     },
     "metadata": {
      "needs_background": "light"
     },
     "output_type": "display_data"
    },
    {
     "data": {
      "image/png": "[encoded data removed]",
      "text/plain": [
       "<Figure size 72x72 with 1 Axes>"
      ]
     },
     "metadata": {
      "needs_background": "light"
     },
     "output_type": "display_data"
    }
   ],
   "source": [
    "plot_figures(gmm_Z_3_new)"
   ]
  },
  {
   "cell_type": "code",
   "execution_count": null,
   "metadata": {},
   "outputs": [],
   "source": []
  },
  {
   "cell_type": "code",
   "execution_count": null,
   "metadata": {},
   "outputs": [],
   "source": []
  },
  {
   "cell_type": "code",
   "execution_count": null,
   "metadata": {},
   "outputs": [],
   "source": []
  }
 ],
 "metadata": {
  "kernelspec": {
   "display_name": "Python 2",
   "language": "python",
   "name": "python2"
  },
  "language_info": {
   "codemirror_mode": {
    "name": "ipython",
    "version": 2
   },
   "file_extension": ".py",
   "mimetype": "text/x-python",
   "name": "python",
   "nbconvert_exporter": "python",
   "pygments_lexer": "ipython2",
   "version": "2.7.15rc1"
  }
 },
 "nbformat": 4,
 "nbformat_minor": 2
}
